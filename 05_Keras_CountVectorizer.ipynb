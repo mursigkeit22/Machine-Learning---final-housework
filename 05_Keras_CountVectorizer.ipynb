{
 "cells": [
  {
   "cell_type": "markdown",
   "metadata": {
    "colab_type": "text",
    "id": "aRU845XCAMZU"
   },
   "source": [
    "Сейчас я попробую классифицировать тексты через нейросеть.\n",
    "Воспользуюсь признаками из КаунтВекторайзера"
   ]
  },
  {
   "cell_type": "code",
   "execution_count": 0,
   "metadata": {
    "colab": {},
    "colab_type": "code",
    "id": "q-nLktc7rxpY"
   },
   "outputs": [],
   "source": [
    "import numpy as np\n",
    "import pandas as pd\n",
    "from nltk.tokenize import wordpunct_tokenize\n",
    "\n"
   ]
  },
  {
   "cell_type": "code",
   "execution_count": 0,
   "metadata": {
    "colab": {},
    "colab_type": "code",
    "id": "PBIWjMxrV9w_"
   },
   "outputs": [],
   "source": [
    "import matplotlib.pyplot as plt\n",
    "from IPython.display import clear_output"
   ]
  },
  {
   "cell_type": "code",
   "execution_count": 0,
   "metadata": {
    "colab": {},
    "colab_type": "code",
    "id": "dPNOYfuX2m5e"
   },
   "outputs": [],
   "source": [
    "from sklearn.feature_extraction.text import CountVectorizer\n",
    "from sklearn.model_selection import train_test_split\n",
    "from sklearn.metrics import classification_report\n",
    "from sklearn.utils import class_weight\n",
    "\n"
   ]
  },
  {
   "cell_type": "code",
   "execution_count": 4,
   "metadata": {
    "colab": {
     "base_uri": "https://localhost:8080/",
     "height": 35
    },
    "colab_type": "code",
    "executionInfo": {
     "elapsed": 1573,
     "status": "ok",
     "timestamp": 1556435900881,
     "user": {
      "displayName": "Valerie Shelgunova",
      "photoUrl": "https://lh5.googleusercontent.com/-i2CX_QSsamo/AAAAAAAAAAI/AAAAAAAAAB8/YRSVdMujpXw/s64/photo.jpg",
      "userId": "14712883095412086889"
     },
     "user_tz": -180
    },
    "id": "DKvJ9-Xj_Nma",
    "outputId": "f9ecfe88-35f6-4284-c5e7-05f3a1f7472c"
   },
   "outputs": [
    {
     "name": "stderr",
     "output_type": "stream",
     "text": [
      "Using TensorFlow backend.\n"
     ]
    }
   ],
   "source": [
    "import keras\n",
    "from keras.models import Sequential\n",
    "from keras import layers\n",
    "import tensorflow as tf\n",
    "from keras.layers import Dense,Activation,Layer,Lambda\n",
    "\n"
   ]
  },
  {
   "cell_type": "markdown",
   "metadata": {
    "colab_type": "text",
    "id": "5qKQjP9y4Pem"
   },
   "source": [
    "Я пользовалась вот этими статьями, комменты из них:\n",
    "\n",
    "https://realpython.com/python-keras-text-classification/\n",
    "\n",
    "https://www.kaggle.com/parasjindal96/basic-deep-learning-tutorial-using-keras\n",
    "\n",
    "https://www.dlology.com/blog/how-to-choose-last-layer-activation-and-loss-function/\n",
    "\n",
    "https://www.dlology.com/blog/how-to-use-keras-sparse_categorical_crossentropy/"
   ]
  },
  {
   "cell_type": "code",
   "execution_count": 5,
   "metadata": {
    "colab": {
     "base_uri": "https://localhost:8080/",
     "height": 510
    },
    "colab_type": "code",
    "executionInfo": {
     "elapsed": 1144,
     "status": "ok",
     "timestamp": 1556435905145,
     "user": {
      "displayName": "Valerie Shelgunova",
      "photoUrl": "https://lh5.googleusercontent.com/-i2CX_QSsamo/AAAAAAAAAAI/AAAAAAAAAB8/YRSVdMujpXw/s64/photo.jpg",
      "userId": "14712883095412086889"
     },
     "user_tz": -180
    },
    "id": "Q9ay0HqY22wg",
    "outputId": "69c3fe79-2c85-4c8a-de32-4e1eedf7ce09"
   },
   "outputs": [
    {
     "data": {
      "text/html": [
       "<div>\n",
       "<style scoped>\n",
       "    .dataframe tbody tr th:only-of-type {\n",
       "        vertical-align: middle;\n",
       "    }\n",
       "\n",
       "    .dataframe tbody tr th {\n",
       "        vertical-align: top;\n",
       "    }\n",
       "\n",
       "    .dataframe thead th {\n",
       "        text-align: right;\n",
       "    }\n",
       "</style>\n",
       "<table border=\"1\" class=\"dataframe\">\n",
       "  <thead>\n",
       "    <tr style=\"text-align: right;\">\n",
       "      <th></th>\n",
       "      <th>id</th>\n",
       "      <th>text</th>\n",
       "      <th>likes</th>\n",
       "      <th>label</th>\n",
       "      <th>len_char</th>\n",
       "      <th>punct</th>\n",
       "      <th>punct_count</th>\n",
       "      <th>punct%</th>\n",
       "      <th>tokens</th>\n",
       "      <th>tokens_count</th>\n",
       "      <th>tokens%</th>\n",
       "      <th>smiles</th>\n",
       "      <th>smiles_count</th>\n",
       "      <th>smiles%</th>\n",
       "      <th>numbers_count</th>\n",
       "      <th>numbers%</th>\n",
       "      <th>latin_count</th>\n",
       "      <th>latin%</th>\n",
       "    </tr>\n",
       "  </thead>\n",
       "  <tbody>\n",
       "    <tr>\n",
       "      <th>0</th>\n",
       "      <td>76000</td>\n",
       "      <td>#конкурс@the4gkz \\r\\r\\r\\nДля вашего удобства с...</td>\n",
       "      <td>17</td>\n",
       "      <td>post</td>\n",
       "      <td>503</td>\n",
       "      <td>#@.:•|-.—:./:./•|-.—/:./:://./|://./•|.—:./:.,!</td>\n",
       "      <td>47</td>\n",
       "      <td>0.093439</td>\n",
       "      <td>['#', 'конкурс', '@', 'the4gkz', 'Для', 'вашег...</td>\n",
       "      <td>81</td>\n",
       "      <td>0.161034</td>\n",
       "      <td>NaN</td>\n",
       "      <td>0</td>\n",
       "      <td>0.000000</td>\n",
       "      <td>23</td>\n",
       "      <td>0.045726</td>\n",
       "      <td>116</td>\n",
       "      <td>0.230616</td>\n",
       "    </tr>\n",
       "    <tr>\n",
       "      <th>1</th>\n",
       "      <td>76914</td>\n",
       "      <td>Уже сегодня ночью (по МСК) начнётся один из са...</td>\n",
       "      <td>34</td>\n",
       "      <td>post</td>\n",
       "      <td>669</td>\n",
       "      <td>()—.—()!..,!(),—(,).:://..//</td>\n",
       "      <td>28</td>\n",
       "      <td>0.041854</td>\n",
       "      <td>['Уже', 'сегодня', 'ночью', '(', 'по', 'МСК', ...</td>\n",
       "      <td>111</td>\n",
       "      <td>0.165919</td>\n",
       "      <td>NaN</td>\n",
       "      <td>0</td>\n",
       "      <td>0.000000</td>\n",
       "      <td>0</td>\n",
       "      <td>0.000000</td>\n",
       "      <td>49</td>\n",
       "      <td>0.073244</td>\n",
       "    </tr>\n",
       "    <tr>\n",
       "      <th>2</th>\n",
       "      <td>76917</td>\n",
       "      <td>Ого, Нина Кравиц в лайн-апе😲</td>\n",
       "      <td>0</td>\n",
       "      <td>comment</td>\n",
       "      <td>28</td>\n",
       "      <td>,-</td>\n",
       "      <td>2</td>\n",
       "      <td>0.071429</td>\n",
       "      <td>['Ого', ',', 'Нина', 'Кравиц', 'в', 'лайн-апе😲']</td>\n",
       "      <td>6</td>\n",
       "      <td>0.214286</td>\n",
       "      <td>😲</td>\n",
       "      <td>1</td>\n",
       "      <td>0.035714</td>\n",
       "      <td>0</td>\n",
       "      <td>0.000000</td>\n",
       "      <td>0</td>\n",
       "      <td>0.000000</td>\n",
       "    </tr>\n",
       "    <tr>\n",
       "      <th>3</th>\n",
       "      <td>76920</td>\n",
       "      <td>[id17823823|Анастасия], с новым крутым шоу от ...</td>\n",
       "      <td>0</td>\n",
       "      <td>comment_to_comment</td>\n",
       "      <td>56</td>\n",
       "      <td>[|],</td>\n",
       "      <td>4</td>\n",
       "      <td>0.071429</td>\n",
       "      <td>['[', 'id17823823|Анастасия', ']', ',', 'с', '...</td>\n",
       "      <td>11</td>\n",
       "      <td>0.196429</td>\n",
       "      <td>NaN</td>\n",
       "      <td>0</td>\n",
       "      <td>0.000000</td>\n",
       "      <td>8</td>\n",
       "      <td>0.142857</td>\n",
       "      <td>2</td>\n",
       "      <td>0.035714</td>\n",
       "    </tr>\n",
       "    <tr>\n",
       "      <th>4</th>\n",
       "      <td>76922</td>\n",
       "      <td>Скину расписание на сегодня сюда. Время москов...</td>\n",
       "      <td>0</td>\n",
       "      <td>comment</td>\n",
       "      <td>687</td>\n",
       "      <td>..:......&amp;....:..........:......&amp;.....</td>\n",
       "      <td>38</td>\n",
       "      <td>0.055313</td>\n",
       "      <td>['Скину', 'расписание', 'на', 'сегодня', 'сюда...</td>\n",
       "      <td>112</td>\n",
       "      <td>0.163028</td>\n",
       "      <td>NaN</td>\n",
       "      <td>0</td>\n",
       "      <td>0.000000</td>\n",
       "      <td>127</td>\n",
       "      <td>0.184862</td>\n",
       "      <td>332</td>\n",
       "      <td>0.483261</td>\n",
       "    </tr>\n",
       "  </tbody>\n",
       "</table>\n",
       "</div>"
      ],
      "text/plain": [
       "      id                                               text  likes  \\\n",
       "0  76000  #конкурс@the4gkz \\r\\r\\r\\nДля вашего удобства с...     17   \n",
       "1  76914  Уже сегодня ночью (по МСК) начнётся один из са...     34   \n",
       "2  76917                       Ого, Нина Кравиц в лайн-апе😲      0   \n",
       "3  76920  [id17823823|Анастасия], с новым крутым шоу от ...      0   \n",
       "4  76922  Скину расписание на сегодня сюда. Время москов...      0   \n",
       "\n",
       "                label  len_char  \\\n",
       "0                post       503   \n",
       "1                post       669   \n",
       "2             comment        28   \n",
       "3  comment_to_comment        56   \n",
       "4             comment       687   \n",
       "\n",
       "                                             punct  punct_count    punct%  \\\n",
       "0  #@.:•|-.—:./:./•|-.—/:./:://./|://./•|.—:./:.,!           47  0.093439   \n",
       "1                     ()—.—()!..,!(),—(,).:://..//           28  0.041854   \n",
       "2                                               ,-            2  0.071429   \n",
       "3                                             [|],            4  0.071429   \n",
       "4           ..:......&....:..........:......&.....           38  0.055313   \n",
       "\n",
       "                                              tokens  tokens_count   tokens%  \\\n",
       "0  ['#', 'конкурс', '@', 'the4gkz', 'Для', 'вашег...            81  0.161034   \n",
       "1  ['Уже', 'сегодня', 'ночью', '(', 'по', 'МСК', ...           111  0.165919   \n",
       "2   ['Ого', ',', 'Нина', 'Кравиц', 'в', 'лайн-апе😲']             6  0.214286   \n",
       "3  ['[', 'id17823823|Анастасия', ']', ',', 'с', '...            11  0.196429   \n",
       "4  ['Скину', 'расписание', 'на', 'сегодня', 'сюда...           112  0.163028   \n",
       "\n",
       "  smiles  smiles_count   smiles%  numbers_count  numbers%  latin_count  \\\n",
       "0    NaN             0  0.000000             23  0.045726          116   \n",
       "1    NaN             0  0.000000              0  0.000000           49   \n",
       "2      😲             1  0.035714              0  0.000000            0   \n",
       "3    NaN             0  0.000000              8  0.142857            2   \n",
       "4    NaN             0  0.000000            127  0.184862          332   \n",
       "\n",
       "     latin%  \n",
       "0  0.230616  \n",
       "1  0.073244  \n",
       "2  0.000000  \n",
       "3  0.035714  \n",
       "4  0.483261  "
      ]
     },
     "execution_count": 5,
     "metadata": {
      "tags": []
     },
     "output_type": "execute_result"
    }
   ],
   "source": [
    "df_features = pd.read_csv('gk4z_features.csv')\n",
    "df_features.head()"
   ]
  },
  {
   "cell_type": "code",
   "execution_count": 0,
   "metadata": {
    "colab": {},
    "colab_type": "code",
    "id": "Yjp4Ne_yC4bD"
   },
   "outputs": [],
   "source": [
    "# заменяет строки на цифры. Классы для модели должны быть обязательно в виде чисел.\n",
    "def mapping(data,feature):\n",
    "    featureMap=dict()\n",
    "    count=0\n",
    "    for i in sorted(data[feature].unique(),reverse=True):\n",
    "        featureMap[i]=count\n",
    "        count=count+1\n",
    "    data[feature]=data[feature].map(featureMap)\n",
    "    return data\n",
    "# Map values of Series according to input correspondence.\n",
    "#Used for substituting each value in a Series with another value, that may be derived from a function, a dict or a Series."
   ]
  },
  {
   "cell_type": "code",
   "execution_count": 0,
   "metadata": {
    "colab": {},
    "colab_type": "code",
    "id": "h0PK4RakC4Qn"
   },
   "outputs": [],
   "source": [
    "df_features=mapping(df_features,feature=\"label\")\n",
    "# 0 - post, 1 - comment_to_comment. 2 - comment"
   ]
  },
  {
   "cell_type": "code",
   "execution_count": 8,
   "metadata": {
    "colab": {
     "base_uri": "https://localhost:8080/",
     "height": 510
    },
    "colab_type": "code",
    "executionInfo": {
     "elapsed": 2834,
     "status": "ok",
     "timestamp": 1556435914585,
     "user": {
      "displayName": "Valerie Shelgunova",
      "photoUrl": "https://lh5.googleusercontent.com/-i2CX_QSsamo/AAAAAAAAAAI/AAAAAAAAAB8/YRSVdMujpXw/s64/photo.jpg",
      "userId": "14712883095412086889"
     },
     "user_tz": -180
    },
    "id": "dBRP73Z5C4DX",
    "outputId": "27e1fae5-2287-4e20-bae4-920463285b3e"
   },
   "outputs": [
    {
     "data": {
      "text/html": [
       "<div>\n",
       "<style scoped>\n",
       "    .dataframe tbody tr th:only-of-type {\n",
       "        vertical-align: middle;\n",
       "    }\n",
       "\n",
       "    .dataframe tbody tr th {\n",
       "        vertical-align: top;\n",
       "    }\n",
       "\n",
       "    .dataframe thead th {\n",
       "        text-align: right;\n",
       "    }\n",
       "</style>\n",
       "<table border=\"1\" class=\"dataframe\">\n",
       "  <thead>\n",
       "    <tr style=\"text-align: right;\">\n",
       "      <th></th>\n",
       "      <th>id</th>\n",
       "      <th>text</th>\n",
       "      <th>likes</th>\n",
       "      <th>label</th>\n",
       "      <th>len_char</th>\n",
       "      <th>punct</th>\n",
       "      <th>punct_count</th>\n",
       "      <th>punct%</th>\n",
       "      <th>tokens</th>\n",
       "      <th>tokens_count</th>\n",
       "      <th>tokens%</th>\n",
       "      <th>smiles</th>\n",
       "      <th>smiles_count</th>\n",
       "      <th>smiles%</th>\n",
       "      <th>numbers_count</th>\n",
       "      <th>numbers%</th>\n",
       "      <th>latin_count</th>\n",
       "      <th>latin%</th>\n",
       "    </tr>\n",
       "  </thead>\n",
       "  <tbody>\n",
       "    <tr>\n",
       "      <th>0</th>\n",
       "      <td>76000</td>\n",
       "      <td>#конкурс@the4gkz \\r\\r\\r\\nДля вашего удобства с...</td>\n",
       "      <td>17</td>\n",
       "      <td>0</td>\n",
       "      <td>503</td>\n",
       "      <td>#@.:•|-.—:./:./•|-.—/:./:://./|://./•|.—:./:.,!</td>\n",
       "      <td>47</td>\n",
       "      <td>0.093439</td>\n",
       "      <td>['#', 'конкурс', '@', 'the4gkz', 'Для', 'вашег...</td>\n",
       "      <td>81</td>\n",
       "      <td>0.161034</td>\n",
       "      <td>NaN</td>\n",
       "      <td>0</td>\n",
       "      <td>0.000000</td>\n",
       "      <td>23</td>\n",
       "      <td>0.045726</td>\n",
       "      <td>116</td>\n",
       "      <td>0.230616</td>\n",
       "    </tr>\n",
       "    <tr>\n",
       "      <th>1</th>\n",
       "      <td>76914</td>\n",
       "      <td>Уже сегодня ночью (по МСК) начнётся один из са...</td>\n",
       "      <td>34</td>\n",
       "      <td>0</td>\n",
       "      <td>669</td>\n",
       "      <td>()—.—()!..,!(),—(,).:://..//</td>\n",
       "      <td>28</td>\n",
       "      <td>0.041854</td>\n",
       "      <td>['Уже', 'сегодня', 'ночью', '(', 'по', 'МСК', ...</td>\n",
       "      <td>111</td>\n",
       "      <td>0.165919</td>\n",
       "      <td>NaN</td>\n",
       "      <td>0</td>\n",
       "      <td>0.000000</td>\n",
       "      <td>0</td>\n",
       "      <td>0.000000</td>\n",
       "      <td>49</td>\n",
       "      <td>0.073244</td>\n",
       "    </tr>\n",
       "    <tr>\n",
       "      <th>2</th>\n",
       "      <td>76917</td>\n",
       "      <td>Ого, Нина Кравиц в лайн-апе😲</td>\n",
       "      <td>0</td>\n",
       "      <td>2</td>\n",
       "      <td>28</td>\n",
       "      <td>,-</td>\n",
       "      <td>2</td>\n",
       "      <td>0.071429</td>\n",
       "      <td>['Ого', ',', 'Нина', 'Кравиц', 'в', 'лайн-апе😲']</td>\n",
       "      <td>6</td>\n",
       "      <td>0.214286</td>\n",
       "      <td>😲</td>\n",
       "      <td>1</td>\n",
       "      <td>0.035714</td>\n",
       "      <td>0</td>\n",
       "      <td>0.000000</td>\n",
       "      <td>0</td>\n",
       "      <td>0.000000</td>\n",
       "    </tr>\n",
       "    <tr>\n",
       "      <th>3</th>\n",
       "      <td>76920</td>\n",
       "      <td>[id17823823|Анастасия], с новым крутым шоу от ...</td>\n",
       "      <td>0</td>\n",
       "      <td>1</td>\n",
       "      <td>56</td>\n",
       "      <td>[|],</td>\n",
       "      <td>4</td>\n",
       "      <td>0.071429</td>\n",
       "      <td>['[', 'id17823823|Анастасия', ']', ',', 'с', '...</td>\n",
       "      <td>11</td>\n",
       "      <td>0.196429</td>\n",
       "      <td>NaN</td>\n",
       "      <td>0</td>\n",
       "      <td>0.000000</td>\n",
       "      <td>8</td>\n",
       "      <td>0.142857</td>\n",
       "      <td>2</td>\n",
       "      <td>0.035714</td>\n",
       "    </tr>\n",
       "    <tr>\n",
       "      <th>4</th>\n",
       "      <td>76922</td>\n",
       "      <td>Скину расписание на сегодня сюда. Время москов...</td>\n",
       "      <td>0</td>\n",
       "      <td>2</td>\n",
       "      <td>687</td>\n",
       "      <td>..:......&amp;....:..........:......&amp;.....</td>\n",
       "      <td>38</td>\n",
       "      <td>0.055313</td>\n",
       "      <td>['Скину', 'расписание', 'на', 'сегодня', 'сюда...</td>\n",
       "      <td>112</td>\n",
       "      <td>0.163028</td>\n",
       "      <td>NaN</td>\n",
       "      <td>0</td>\n",
       "      <td>0.000000</td>\n",
       "      <td>127</td>\n",
       "      <td>0.184862</td>\n",
       "      <td>332</td>\n",
       "      <td>0.483261</td>\n",
       "    </tr>\n",
       "  </tbody>\n",
       "</table>\n",
       "</div>"
      ],
      "text/plain": [
       "      id                                               text  likes  label  \\\n",
       "0  76000  #конкурс@the4gkz \\r\\r\\r\\nДля вашего удобства с...     17      0   \n",
       "1  76914  Уже сегодня ночью (по МСК) начнётся один из са...     34      0   \n",
       "2  76917                       Ого, Нина Кравиц в лайн-апе😲      0      2   \n",
       "3  76920  [id17823823|Анастасия], с новым крутым шоу от ...      0      1   \n",
       "4  76922  Скину расписание на сегодня сюда. Время москов...      0      2   \n",
       "\n",
       "   len_char                                            punct  punct_count  \\\n",
       "0       503  #@.:•|-.—:./:./•|-.—/:./:://./|://./•|.—:./:.,!           47   \n",
       "1       669                     ()—.—()!..,!(),—(,).:://..//           28   \n",
       "2        28                                               ,-            2   \n",
       "3        56                                             [|],            4   \n",
       "4       687           ..:......&....:..........:......&.....           38   \n",
       "\n",
       "     punct%                                             tokens  tokens_count  \\\n",
       "0  0.093439  ['#', 'конкурс', '@', 'the4gkz', 'Для', 'вашег...            81   \n",
       "1  0.041854  ['Уже', 'сегодня', 'ночью', '(', 'по', 'МСК', ...           111   \n",
       "2  0.071429   ['Ого', ',', 'Нина', 'Кравиц', 'в', 'лайн-апе😲']             6   \n",
       "3  0.071429  ['[', 'id17823823|Анастасия', ']', ',', 'с', '...            11   \n",
       "4  0.055313  ['Скину', 'расписание', 'на', 'сегодня', 'сюда...           112   \n",
       "\n",
       "    tokens% smiles  smiles_count   smiles%  numbers_count  numbers%  \\\n",
       "0  0.161034    NaN             0  0.000000             23  0.045726   \n",
       "1  0.165919    NaN             0  0.000000              0  0.000000   \n",
       "2  0.214286      😲             1  0.035714              0  0.000000   \n",
       "3  0.196429    NaN             0  0.000000              8  0.142857   \n",
       "4  0.163028    NaN             0  0.000000            127  0.184862   \n",
       "\n",
       "   latin_count    latin%  \n",
       "0          116  0.230616  \n",
       "1           49  0.073244  \n",
       "2            0  0.000000  \n",
       "3            2  0.035714  \n",
       "4          332  0.483261  "
      ]
     },
     "execution_count": 8,
     "metadata": {
      "tags": []
     },
     "output_type": "execute_result"
    }
   ],
   "source": [
    "df_features.head()"
   ]
  },
  {
   "cell_type": "code",
   "execution_count": 0,
   "metadata": {
    "colab": {},
    "colab_type": "code",
    "id": "ehKrVHRF3IDK"
   },
   "outputs": [],
   "source": [
    "#Разделяем датасет на обучающий и проверочный\n",
    "X = df_features['text'].values\n",
    "y = df_features['label'].values\n",
    "\n",
    "X_train, X_test, y_train, y_test = train_test_split(X, y, random_state=20)"
   ]
  },
  {
   "cell_type": "code",
   "execution_count": 0,
   "metadata": {
    "colab": {
     "base_uri": "https://localhost:8080/",
     "height": 52
    },
    "colab_type": "code",
    "executionInfo": {
     "elapsed": 2672,
     "status": "ok",
     "timestamp": 1556206218137,
     "user": {
      "displayName": "Valerie Shelgunova",
      "photoUrl": "https://lh5.googleusercontent.com/-i2CX_QSsamo/AAAAAAAAAAI/AAAAAAAAAB8/YRSVdMujpXw/s64/photo.jpg",
      "userId": "14712883095412086889"
     },
     "user_tz": -180
    },
    "id": "cLNb9sft5A3n",
    "outputId": "3089c1ce-d4f2-4deb-8f06-09639582a569"
   },
   "outputs": [
    {
     "data": {
      "text/plain": [
       "<42150x68660 sparse matrix of type '<class 'numpy.int64'>'\n",
       "\twith 509228 stored elements in Compressed Sparse Row format>"
      ]
     },
     "execution_count": 11,
     "metadata": {
      "tags": []
     },
     "output_type": "execute_result"
    }
   ],
   "source": [
    "vectorizer = CountVectorizer(tokenizer=wordpunct_tokenize) # использую токенайзер, который учитывает все знаки препинания\n",
    "vectorizer.fit(X)\n",
    "\n",
    "X_train = vectorizer.transform(X_train)\n",
    "X_test  = vectorizer.transform(X_test)\n",
    "X_train"
   ]
  },
  {
   "cell_type": "markdown",
   "metadata": {
    "colab_type": "text",
    "id": "HK3HvojU6kAL"
   },
   "source": [
    "42150 - the number of training samples we have after the train-test split\n",
    "\n",
    "68660 - the size of the vocabulary"
   ]
  },
  {
   "cell_type": "code",
   "execution_count": 0,
   "metadata": {
    "colab": {
     "base_uri": "https://localhost:8080/",
     "height": 35
    },
    "colab_type": "code",
    "executionInfo": {
     "elapsed": 607,
     "status": "ok",
     "timestamp": 1556204284460,
     "user": {
      "displayName": "Valerie Shelgunova",
      "photoUrl": "https://lh5.googleusercontent.com/-i2CX_QSsamo/AAAAAAAAAAI/AAAAAAAAAB8/YRSVdMujpXw/s64/photo.jpg",
      "userId": "14712883095412086889"
     },
     "user_tz": -180
    },
    "id": "dNQ9lLoSZGob",
    "outputId": "86bd5da8-8e4a-4edf-931a-d39aeaee30f4"
   },
   "outputs": [
    {
     "data": {
      "text/plain": [
       "(42150,)"
      ]
     },
     "execution_count": 12,
     "metadata": {
      "tags": []
     },
     "output_type": "execute_result"
    }
   ],
   "source": [
    "y_train.shape"
   ]
  },
  {
   "cell_type": "code",
   "execution_count": 0,
   "metadata": {
    "colab": {},
    "colab_type": "code",
    "id": "4E0W4nneABzl"
   },
   "outputs": [],
   "source": [
    "# Before we build our model, we need to know the input dimension of our feature vectors. \n",
    "#This happens only in the first layer since the following layers can do automatic shape inference.\n",
    "input_dim = X_train.shape[1]"
   ]
  },
  {
   "cell_type": "code",
   "execution_count": 0,
   "metadata": {
    "colab": {},
    "colab_type": "code",
    "id": "_gqNU_74ASaH"
   },
   "outputs": [],
   "source": [
    "#Keras supports two main types of models. Sequential model (usual, simple) and the functional (advanced)\n",
    "#The Sequential model is a linear stack of layers. The most common layer is the Dense layer \n",
    "#which is your regular densely connected neural network layer with all the weights and biases.\n",
    "#model = Sequential()"
   ]
  },
  {
   "cell_type": "code",
   "execution_count": 0,
   "metadata": {
    "colab": {},
    "colab_type": "code",
    "id": "nyOOyRVA6B4B"
   },
   "outputs": [],
   "source": [
    "# In order to build the Sequential model, you can add layers one by one in order as follows:\n",
    "# model.add(layers.Dense(10, input_dim=input_dim, activation='relu'))\n",
    "# 10 - number of nodes (hidden units) in layer\n",
    "#  It is generally common to use a rectified linear unit (ReLU) for hidden layers, \n",
    "#  and softmax function for the output layer of multi-class classification problems."
   ]
  },
  {
   "cell_type": "markdown",
   "metadata": {
    "colab_type": "text",
    "id": "oMQYU26MOELB"
   },
   "source": [
    "Чтобы удобнее пробовать разное количество слоев и нейронов, слямзим функцию, которая позволяет это делать. На вход она будет получать список.\n",
    "\n",
    "Первый элемент списка - это  input dimension of our feature vectors ( the size of the vocabulary, если речь идет о матрице, которую возвращает CountVectorizer.transform ). \n",
    "\n",
    "Последний элемент списка - это количество нейронов, которые находятся в последнем слое -  это в нашем случае количество возможных классов, т.е. 3: в качестве функции активации в последнем слое мы юзаем softmax, она возвращает вероятность принадлежности наших текстов к каждому из классов, т.е. список из трех чисел, которые в сумме дают единицу.\n",
    "\n",
    "Количество элементов посередине - это количество слоёв в сетке, значение элемента - это число нейронов в слое."
   ]
  },
  {
   "cell_type": "code",
   "execution_count": 0,
   "metadata": {
    "colab": {},
    "colab_type": "code",
    "id": "y4ifsWe-JVDI"
   },
   "outputs": [],
   "source": [
    "def getModel(arr):\n",
    "    model=Sequential()\n",
    "    for i in range(len(arr)):\n",
    "        if i!=0 and i!=len(arr)-1:\n",
    "            if i==1:\n",
    "                model.add(Dense(arr[i],input_dim=arr[0],kernel_initializer='normal', activation='relu')) # первый слой\n",
    "            else:\n",
    "                model.add(Dense(arr[i],activation='relu')) # второй и последующий слои\n",
    "    model.add(Dense(arr[-1], activation=tf.nn.softmax)) # последний слой\n",
    "    model.compile(loss=\"sparse_categorical_crossentropy\",optimizer='rmsprop',metrics=['sparse_categorical_accuracy'])\n",
    "    return model"
   ]
  },
  {
   "cell_type": "markdown",
   "metadata": {
    "colab_type": "text",
    "id": "hR7C3A8lv-e_"
   },
   "source": [
    "При компиляции мы используем sparse_categorical_crossentropy: the conventional way is to have the target outputs converted to the one-hot encoded array to match with the output shape, however, with the help of the sparse_categorical_crossentropy loss function, we can skip that step and keep the integers as targets."
   ]
  },
  {
   "cell_type": "markdown",
   "metadata": {
    "colab_type": "text",
    "id": "fBTKARxrWC2z"
   },
   "source": [
    "И еще слямзим код, который показывает функцию потерь в реальном времени:"
   ]
  },
  {
   "cell_type": "code",
   "execution_count": 0,
   "metadata": {
    "colab": {},
    "colab_type": "code",
    "id": "7zP6a7uaVrQp"
   },
   "outputs": [],
   "source": [
    "\n",
    "class PlotLosses(keras.callbacks.Callback):\n",
    "    def on_train_begin(self, logs={}):\n",
    "        self.i = 0\n",
    "        self.x = []\n",
    "        self.losses = []\n",
    "        self.val_losses = []\n",
    "        \n",
    "        self.fig = plt.figure()\n",
    "        \n",
    "        self.logs = []\n",
    "\n",
    "    def on_epoch_end(self, epoch, logs={}):\n",
    "        \n",
    "        self.logs.append(logs)\n",
    "        self.x.append(self.i)\n",
    "        self.losses.append(logs.get('loss'))\n",
    "        self.val_losses.append(logs.get('val_loss'))\n",
    "        self.i += 1\n",
    "        \n",
    "        clear_output(wait=True)\n",
    "        plt.plot(self.x, self.losses, label=\"loss\")\n",
    "        plt.legend()\n",
    "        plt.show();\n",
    "        \n",
    "plot_losses = PlotLosses()"
   ]
  },
  {
   "cell_type": "markdown",
   "metadata": {
    "colab_type": "text",
    "id": "8FrYIW2s-Uvy"
   },
   "source": [
    "Я нигде не нашла какой-то конкретной инфы по поводу того, сколько слоев и нейронов использовать, везде пишут, что \"смотря на каких данных\", так что я буду пробовать и смотреть, что получается."
   ]
  },
  {
   "cell_type": "markdown",
   "metadata": {
    "colab_type": "text",
    "id": "60LHix_PAuk4"
   },
   "source": [
    "## 1"
   ]
  },
  {
   "cell_type": "code",
   "execution_count": 0,
   "metadata": {
    "colab": {
     "base_uri": "https://localhost:8080/",
     "height": 90
    },
    "colab_type": "code",
    "executionInfo": {
     "elapsed": 1112,
     "status": "ok",
     "timestamp": 1556203763814,
     "user": {
      "displayName": "Valerie Shelgunova",
      "photoUrl": "https://lh5.googleusercontent.com/-i2CX_QSsamo/AAAAAAAAAAI/AAAAAAAAAB8/YRSVdMujpXw/s64/photo.jpg",
      "userId": "14712883095412086889"
     },
     "user_tz": -180
    },
    "id": "5Z6JSz_CWMII",
    "outputId": "b82ce3d0-8379-41a5-85fb-32bc831bd94f"
   },
   "outputs": [
    {
     "name": "stdout",
     "output_type": "stream",
     "text": [
      "WARNING:tensorflow:From /usr/local/lib/python3.6/dist-packages/tensorflow/python/framework/op_def_library.py:263: colocate_with (from tensorflow.python.framework.ops) is deprecated and will be removed in a future version.\n",
      "Instructions for updating:\n",
      "Colocations handled automatically by placer.\n"
     ]
    }
   ],
   "source": [
    "firstModel=getModel([input_dim,5,5,5,3])"
   ]
  },
  {
   "cell_type": "code",
   "execution_count": 0,
   "metadata": {
    "colab": {
     "base_uri": "https://localhost:8080/",
     "height": 284
    },
    "colab_type": "code",
    "executionInfo": {
     "elapsed": 584,
     "status": "ok",
     "timestamp": 1556203770239,
     "user": {
      "displayName": "Valerie Shelgunova",
      "photoUrl": "https://lh5.googleusercontent.com/-i2CX_QSsamo/AAAAAAAAAAI/AAAAAAAAAB8/YRSVdMujpXw/s64/photo.jpg",
      "userId": "14712883095412086889"
     },
     "user_tz": -180
    },
    "id": "SXB4ZbkgalJh",
    "outputId": "1b359cba-5a74-4e4b-b259-cfce2d97ab29"
   },
   "outputs": [
    {
     "name": "stdout",
     "output_type": "stream",
     "text": [
      "_________________________________________________________________\n",
      "Layer (type)                 Output Shape              Param #   \n",
      "=================================================================\n",
      "dense_1 (Dense)              (None, 5)                 343305    \n",
      "_________________________________________________________________\n",
      "dense_2 (Dense)              (None, 5)                 30        \n",
      "_________________________________________________________________\n",
      "dense_3 (Dense)              (None, 5)                 30        \n",
      "_________________________________________________________________\n",
      "dense_4 (Dense)              (None, 3)                 18        \n",
      "=================================================================\n",
      "Total params: 343,383\n",
      "Trainable params: 343,383\n",
      "Non-trainable params: 0\n",
      "_________________________________________________________________\n"
     ]
    }
   ],
   "source": [
    "firstModel.summary()"
   ]
  },
  {
   "cell_type": "code",
   "execution_count": 0,
   "metadata": {
    "colab": {
     "base_uri": "https://localhost:8080/",
     "height": 269
    },
    "colab_type": "code",
    "executionInfo": {
     "elapsed": 4,
     "status": "ok",
     "timestamp": 1556203932798,
     "user": {
      "displayName": "Valerie Shelgunova",
      "photoUrl": "https://lh5.googleusercontent.com/-i2CX_QSsamo/AAAAAAAAAAI/AAAAAAAAAB8/YRSVdMujpXw/s64/photo.jpg",
      "userId": "14712883095412086889"
     },
     "user_tz": -180
    },
    "id": "uPvOEMjvWL-J",
    "outputId": "ea26cf6a-8015-4cd5-a0bf-d53c03b9df32"
   },
   "outputs": [
    {
     "data": {
      "image/png": "[encoded data removed]",
      "text/plain": [
       "<Figure size 432x288 with 1 Axes>"
      ]
     },
     "metadata": {
      "tags": []
     },
     "output_type": "display_data"
    }
   ],
   "source": [
    "history = firstModel.fit(X_train, y_train, epochs=5, callbacks = [plot_losses])"
   ]
  },
  {
   "cell_type": "code",
   "execution_count": 0,
   "metadata": {
    "colab": {
     "base_uri": "https://localhost:8080/",
     "height": 52
    },
    "colab_type": "code",
    "executionInfo": {
     "elapsed": 5082,
     "status": "ok",
     "timestamp": 1556204156213,
     "user": {
      "displayName": "Valerie Shelgunova",
      "photoUrl": "https://lh5.googleusercontent.com/-i2CX_QSsamo/AAAAAAAAAAI/AAAAAAAAAB8/YRSVdMujpXw/s64/photo.jpg",
      "userId": "14712883095412086889"
     },
     "user_tz": -180
    },
    "id": "6SbmGOjLqA6C",
    "outputId": "86e772a8-187d-415b-d93b-e59a1de44651"
   },
   "outputs": [
    {
     "name": "stdout",
     "output_type": "stream",
     "text": [
      "14050/14050 [==============================] - 5s 321us/step\n",
      "Точность на тестовом кусочке: 0.8510320284697509\n"
     ]
    }
   ],
   "source": [
    "test_loss, test_acc = firstModel.evaluate(X_test, y_test)\n",
    "\n",
    "print('Точность на тестовом кусочке:', test_acc)"
   ]
  },
  {
   "cell_type": "markdown",
   "metadata": {
    "colab_type": "text",
    "id": "05CbBLfo9syX"
   },
   "source": [
    "И я написала еще функцию, которая возвращает привычный classification report, потому что accuracy вообще ни о чем не говорит для несбалансированных данных"
   ]
  },
  {
   "cell_type": "code",
   "execution_count": 0,
   "metadata": {
    "colab": {},
    "colab_type": "code",
    "id": "fknfnTJn8sdY"
   },
   "outputs": [],
   "source": [
    "def classif_report(current_model):\n",
    "    predY=current_model.predict(X_test) \n",
    "    new_ar = []\n",
    "    for el in predY:\n",
    "        new_ar.append(np.argmax(el))\n",
    "    print(classification_report(y_test, new_ar))\n",
    "  \n",
    "  "
   ]
  },
  {
   "cell_type": "code",
   "execution_count": 0,
   "metadata": {
    "colab": {
     "base_uri": "https://localhost:8080/",
     "height": 195
    },
    "colab_type": "code",
    "executionInfo": {
     "elapsed": 5489,
     "status": "ok",
     "timestamp": 1556204171431,
     "user": {
      "displayName": "Valerie Shelgunova",
      "photoUrl": "https://lh5.googleusercontent.com/-i2CX_QSsamo/AAAAAAAAAAI/AAAAAAAAAB8/YRSVdMujpXw/s64/photo.jpg",
      "userId": "14712883095412086889"
     },
     "user_tz": -180
    },
    "id": "hLzCCkIw9gA-",
    "outputId": "3e6d0029-503a-49f9-ab96-34580ad181cb"
   },
   "outputs": [
    {
     "name": "stdout",
     "output_type": "stream",
     "text": [
      "              precision    recall  f1-score   support\n",
      "\n",
      "           0       0.88      0.82      0.85      3476\n",
      "           1       0.57      0.32      0.41      1170\n",
      "           2       0.86      0.93      0.89      9404\n",
      "\n",
      "   micro avg       0.85      0.85      0.85     14050\n",
      "   macro avg       0.77      0.69      0.72     14050\n",
      "weighted avg       0.84      0.85      0.84     14050\n",
      "\n"
     ]
    }
   ],
   "source": [
    "classif_report(firstModel)"
   ]
  },
  {
   "cell_type": "markdown",
   "metadata": {
    "colab_type": "text",
    "id": "bWO8Pdox_8vW"
   },
   "source": [
    "В общем-то, неплохой результат для комментов второго уровня."
   ]
  },
  {
   "cell_type": "markdown",
   "metadata": {
    "colab_type": "text",
    "id": "4UGAh8ScBLOu"
   },
   "source": [
    "## 2"
   ]
  },
  {
   "cell_type": "code",
   "execution_count": 0,
   "metadata": {
    "colab": {
     "base_uri": "https://localhost:8080/",
     "height": 90
    },
    "colab_type": "code",
    "executionInfo": {
     "elapsed": 678,
     "status": "ok",
     "timestamp": 1556204325272,
     "user": {
      "displayName": "Valerie Shelgunova",
      "photoUrl": "https://lh5.googleusercontent.com/-i2CX_QSsamo/AAAAAAAAAAI/AAAAAAAAAB8/YRSVdMujpXw/s64/photo.jpg",
      "userId": "14712883095412086889"
     },
     "user_tz": -180
    },
    "id": "5gbXsxWxrQ0s",
    "outputId": "ae3d5e7a-dcb9-4642-c696-659337811eb3"
   },
   "outputs": [
    {
     "name": "stdout",
     "output_type": "stream",
     "text": [
      "WARNING:tensorflow:From /usr/local/lib/python3.6/dist-packages/tensorflow/python/framework/op_def_library.py:263: colocate_with (from tensorflow.python.framework.ops) is deprecated and will be removed in a future version.\n",
      "Instructions for updating:\n",
      "Colocations handled automatically by placer.\n"
     ]
    }
   ],
   "source": [
    "secondModel=getModel([input_dim,30,60,20,3])"
   ]
  },
  {
   "cell_type": "code",
   "execution_count": 0,
   "metadata": {
    "colab": {
     "base_uri": "https://localhost:8080/",
     "height": 284
    },
    "colab_type": "code",
    "executionInfo": {
     "elapsed": 647,
     "status": "ok",
     "timestamp": 1556204368958,
     "user": {
      "displayName": "Valerie Shelgunova",
      "photoUrl": "https://lh5.googleusercontent.com/-i2CX_QSsamo/AAAAAAAAAAI/AAAAAAAAAB8/YRSVdMujpXw/s64/photo.jpg",
      "userId": "14712883095412086889"
     },
     "user_tz": -180
    },
    "id": "DmJ2aMdrAckw",
    "outputId": "de00b450-8344-403f-9d8e-149efcf84212"
   },
   "outputs": [
    {
     "name": "stdout",
     "output_type": "stream",
     "text": [
      "_________________________________________________________________\n",
      "Layer (type)                 Output Shape              Param #   \n",
      "=================================================================\n",
      "dense_1 (Dense)              (None, 30)                2059830   \n",
      "_________________________________________________________________\n",
      "dense_2 (Dense)              (None, 60)                1860      \n",
      "_________________________________________________________________\n",
      "dense_3 (Dense)              (None, 20)                1220      \n",
      "_________________________________________________________________\n",
      "dense_4 (Dense)              (None, 3)                 63        \n",
      "=================================================================\n",
      "Total params: 2,062,973\n",
      "Trainable params: 2,062,973\n",
      "Non-trainable params: 0\n",
      "_________________________________________________________________\n"
     ]
    }
   ],
   "source": [
    "secondModel.summary()"
   ]
  },
  {
   "cell_type": "code",
   "execution_count": 0,
   "metadata": {
    "colab": {
     "base_uri": "https://localhost:8080/",
     "height": 269
    },
    "colab_type": "code",
    "executionInfo": {
     "elapsed": 9,
     "status": "ok",
     "timestamp": 1556206110103,
     "user": {
      "displayName": "Valerie Shelgunova",
      "photoUrl": "https://lh5.googleusercontent.com/-i2CX_QSsamo/AAAAAAAAAAI/AAAAAAAAAB8/YRSVdMujpXw/s64/photo.jpg",
      "userId": "14712883095412086889"
     },
     "user_tz": -180
    },
    "id": "47ZTbkTTrtGe",
    "outputId": "8aa39657-4cd1-400f-9119-26abff057dda"
   },
   "outputs": [
    {
     "data": {
      "image/png": "[encoded data removed]",
      "text/plain": [
       "<Figure size 432x288 with 1 Axes>"
      ]
     },
     "metadata": {
      "tags": []
     },
     "output_type": "display_data"
    }
   ],
   "source": [
    "history = secondModel.fit(X_train, y_train, epochs=30, callbacks=[plot_losses])"
   ]
  },
  {
   "cell_type": "code",
   "execution_count": 0,
   "metadata": {
    "colab": {
     "base_uri": "https://localhost:8080/",
     "height": 195
    },
    "colab_type": "code",
    "executionInfo": {
     "elapsed": 6546,
     "status": "ok",
     "timestamp": 1556206123638,
     "user": {
      "displayName": "Valerie Shelgunova",
      "photoUrl": "https://lh5.googleusercontent.com/-i2CX_QSsamo/AAAAAAAAAAI/AAAAAAAAAB8/YRSVdMujpXw/s64/photo.jpg",
      "userId": "14712883095412086889"
     },
     "user_tz": -180
    },
    "id": "4tcyXQUgr8Z6",
    "outputId": "2e290ceb-695c-4f27-f9d7-c6555dcbc037"
   },
   "outputs": [
    {
     "name": "stdout",
     "output_type": "stream",
     "text": [
      "              precision    recall  f1-score   support\n",
      "\n",
      "           0       0.85      0.74      0.79      3486\n",
      "           1       0.39      0.48      0.43      1101\n",
      "           2       0.85      0.87      0.86      9463\n",
      "\n",
      "   micro avg       0.80      0.80      0.80     14050\n",
      "   macro avg       0.70      0.70      0.69     14050\n",
      "weighted avg       0.81      0.80      0.81     14050\n",
      "\n"
     ]
    }
   ],
   "source": [
    "classif_report(secondModel)"
   ]
  },
  {
   "cell_type": "markdown",
   "metadata": {
    "colab_type": "text",
    "id": "MzzCdcFPHWTd"
   },
   "source": [
    "чуть похуже результат, моделька переобучилась"
   ]
  },
  {
   "cell_type": "markdown",
   "metadata": {
    "colab_type": "text",
    "id": "K557Aug_BQQN"
   },
   "source": [
    "## 3"
   ]
  },
  {
   "cell_type": "code",
   "execution_count": 0,
   "metadata": {
    "colab": {
     "base_uri": "https://localhost:8080/",
     "height": 90
    },
    "colab_type": "code",
    "executionInfo": {
     "elapsed": 968,
     "status": "ok",
     "timestamp": 1556206338859,
     "user": {
      "displayName": "Valerie Shelgunova",
      "photoUrl": "https://lh5.googleusercontent.com/-i2CX_QSsamo/AAAAAAAAAAI/AAAAAAAAAB8/YRSVdMujpXw/s64/photo.jpg",
      "userId": "14712883095412086889"
     },
     "user_tz": -180
    },
    "id": "Mu0dAPrDr8Iv",
    "outputId": "f338151c-2803-4329-ccca-d90a1c35d473"
   },
   "outputs": [
    {
     "name": "stdout",
     "output_type": "stream",
     "text": [
      "WARNING:tensorflow:From /usr/local/lib/python3.6/dist-packages/tensorflow/python/framework/op_def_library.py:263: colocate_with (from tensorflow.python.framework.ops) is deprecated and will be removed in a future version.\n",
      "Instructions for updating:\n",
      "Colocations handled automatically by placer.\n"
     ]
    }
   ],
   "source": [
    "thirdModel=getModel([input_dim,200,200,300,3])"
   ]
  },
  {
   "cell_type": "code",
   "execution_count": 0,
   "metadata": {
    "colab": {
     "base_uri": "https://localhost:8080/",
     "height": 284
    },
    "colab_type": "code",
    "executionInfo": {
     "elapsed": 711,
     "status": "ok",
     "timestamp": 1556206340906,
     "user": {
      "displayName": "Valerie Shelgunova",
      "photoUrl": "https://lh5.googleusercontent.com/-i2CX_QSsamo/AAAAAAAAAAI/AAAAAAAAAB8/YRSVdMujpXw/s64/photo.jpg",
      "userId": "14712883095412086889"
     },
     "user_tz": -180
    },
    "id": "LqSU-0v0Cfj5",
    "outputId": "34533b88-04dc-4012-a6eb-a2de2919d563"
   },
   "outputs": [
    {
     "name": "stdout",
     "output_type": "stream",
     "text": [
      "_________________________________________________________________\n",
      "Layer (type)                 Output Shape              Param #   \n",
      "=================================================================\n",
      "dense_1 (Dense)              (None, 200)               13732200  \n",
      "_________________________________________________________________\n",
      "dense_2 (Dense)              (None, 200)               40200     \n",
      "_________________________________________________________________\n",
      "dense_3 (Dense)              (None, 300)               60300     \n",
      "_________________________________________________________________\n",
      "dense_4 (Dense)              (None, 3)                 903       \n",
      "=================================================================\n",
      "Total params: 13,833,603\n",
      "Trainable params: 13,833,603\n",
      "Non-trainable params: 0\n",
      "_________________________________________________________________\n"
     ]
    }
   ],
   "source": [
    "thirdModel.summary()"
   ]
  },
  {
   "cell_type": "code",
   "execution_count": 0,
   "metadata": {
    "colab": {
     "base_uri": "https://localhost:8080/",
     "height": 269
    },
    "colab_type": "code",
    "executionInfo": {
     "elapsed": 9,
     "status": "ok",
     "timestamp": 1556207481614,
     "user": {
      "displayName": "Valerie Shelgunova",
      "photoUrl": "https://lh5.googleusercontent.com/-i2CX_QSsamo/AAAAAAAAAAI/AAAAAAAAAB8/YRSVdMujpXw/s64/photo.jpg",
      "userId": "14712883095412086889"
     },
     "user_tz": -180
    },
    "id": "ti6DRqwmr75H",
    "outputId": "e296fe7a-bfa8-4501-a7fa-383d8d835d01"
   },
   "outputs": [
    {
     "data": {
      "image/png": "[encoded data removed]",
      "text/plain": [
       "<Figure size 432x288 with 1 Axes>"
      ]
     },
     "metadata": {
      "tags": []
     },
     "output_type": "display_data"
    }
   ],
   "source": [
    "history = thirdModel.fit(X_train, y_train, epochs=4, callbacks=[plot_losses])"
   ]
  },
  {
   "cell_type": "code",
   "execution_count": 0,
   "metadata": {
    "colab": {
     "base_uri": "https://localhost:8080/",
     "height": 195
    },
    "colab_type": "code",
    "executionInfo": {
     "elapsed": 16252,
     "status": "ok",
     "timestamp": 1556208837581,
     "user": {
      "displayName": "Valerie Shelgunova",
      "photoUrl": "https://lh5.googleusercontent.com/-i2CX_QSsamo/AAAAAAAAAAI/AAAAAAAAAB8/YRSVdMujpXw/s64/photo.jpg",
      "userId": "14712883095412086889"
     },
     "user_tz": -180
    },
    "id": "V7yQ7KPeFMXP",
    "outputId": "2c84ff5f-ed53-4fc3-b677-fd212e401536"
   },
   "outputs": [
    {
     "name": "stdout",
     "output_type": "stream",
     "text": [
      "              precision    recall  f1-score   support\n",
      "\n",
      "           0       0.86      0.84      0.85      3385\n",
      "           1       0.62      0.43      0.51      1200\n",
      "           2       0.88      0.92      0.90      9465\n",
      "\n",
      "   micro avg       0.86      0.86      0.86     14050\n",
      "   macro avg       0.79      0.73      0.75     14050\n",
      "weighted avg       0.85      0.86      0.85     14050\n",
      "\n"
     ]
    }
   ],
   "source": [
    "classif_report(thirdModel)"
   ]
  },
  {
   "cell_type": "markdown",
   "metadata": {
    "colab_type": "text",
    "id": "elO5ouZMRoYl"
   },
   "source": [
    "весьма и весьма. И с комментами второго уровня справился хорошо. Но результат не особо выше, чем когда я классифицировала обычной логистической регрессией на каунтВекторайзере, который анализировал символьные биграммы (файл 04):\n",
    "\n",
    "CountVectorizer(analyzer=\"char\", ngram_range=(2,2))"
   ]
  },
  {
   "cell_type": "markdown",
   "metadata": {
    "colab_type": "text",
    "id": "SCwqTwZlXtrs"
   },
   "source": [
    "хм. Может, здесь тоже воспользоваться такими параметрами векторайзера?"
   ]
  },
  {
   "cell_type": "markdown",
   "metadata": {
    "colab_type": "text",
    "id": "w0BGzhiMBYFA"
   },
   "source": [
    "## 4"
   ]
  },
  {
   "cell_type": "code",
   "execution_count": 0,
   "metadata": {
    "colab": {
     "base_uri": "https://localhost:8080/",
     "height": 52
    },
    "colab_type": "code",
    "executionInfo": {
     "elapsed": 6098,
     "status": "ok",
     "timestamp": 1556246661639,
     "user": {
      "displayName": "Valerie Shelgunova",
      "photoUrl": "https://lh5.googleusercontent.com/-i2CX_QSsamo/AAAAAAAAAAI/AAAAAAAAAB8/YRSVdMujpXw/s64/photo.jpg",
      "userId": "14712883095412086889"
     },
     "user_tz": -180
    },
    "id": "3UxcFipeX1fQ",
    "outputId": "3faff047-1b0c-4f06-fe55-2c4d209ba186"
   },
   "outputs": [
    {
     "data": {
      "text/plain": [
       "<38877x8420 sparse matrix of type '<class 'numpy.int64'>'\n",
       "\twith 2079291 stored elements in Compressed Sparse Row format>"
      ]
     },
     "execution_count": 10,
     "metadata": {
      "tags": []
     },
     "output_type": "execute_result"
    }
   ],
   "source": [
    "vectorizer = CountVectorizer(analyzer=\"char\", ngram_range=(2,2)) \n",
    "vectorizer.fit(X)\n",
    "\n",
    "X_train = vectorizer.transform(X_train)\n",
    "X_test  = vectorizer.transform(X_test)\n",
    "X_train"
   ]
  },
  {
   "cell_type": "code",
   "execution_count": 0,
   "metadata": {
    "colab": {},
    "colab_type": "code",
    "id": "8r-MtvQoiBWS"
   },
   "outputs": [],
   "source": [
    "input_dim = X_train.shape[1]"
   ]
  },
  {
   "cell_type": "code",
   "execution_count": 0,
   "metadata": {
    "colab": {},
    "colab_type": "code",
    "id": "exmWU4kRX1b4"
   },
   "outputs": [],
   "source": [
    "forthModel=getModel([input_dim,5,5,5,3])"
   ]
  },
  {
   "cell_type": "code",
   "execution_count": 0,
   "metadata": {
    "colab": {
     "base_uri": "https://localhost:8080/",
     "height": 284
    },
    "colab_type": "code",
    "executionInfo": {
     "elapsed": 678,
     "status": "ok",
     "timestamp": 1556210823562,
     "user": {
      "displayName": "Valerie Shelgunova",
      "photoUrl": "https://lh5.googleusercontent.com/-i2CX_QSsamo/AAAAAAAAAAI/AAAAAAAAAB8/YRSVdMujpXw/s64/photo.jpg",
      "userId": "14712883095412086889"
     },
     "user_tz": -180
    },
    "id": "RPiAqU7RX1Y8",
    "outputId": "67d41eda-d599-46fd-a5aa-6d4fcc003f89"
   },
   "outputs": [
    {
     "name": "stdout",
     "output_type": "stream",
     "text": [
      "_________________________________________________________________\n",
      "Layer (type)                 Output Shape              Param #   \n",
      "=================================================================\n",
      "dense_1 (Dense)              (None, 5)                 42105     \n",
      "_________________________________________________________________\n",
      "dense_2 (Dense)              (None, 5)                 30        \n",
      "_________________________________________________________________\n",
      "dense_3 (Dense)              (None, 5)                 30        \n",
      "_________________________________________________________________\n",
      "dense_4 (Dense)              (None, 3)                 18        \n",
      "=================================================================\n",
      "Total params: 42,183\n",
      "Trainable params: 42,183\n",
      "Non-trainable params: 0\n",
      "_________________________________________________________________\n"
     ]
    }
   ],
   "source": [
    "forthModel.summary()"
   ]
  },
  {
   "cell_type": "code",
   "execution_count": 0,
   "metadata": {
    "colab": {
     "base_uri": "https://localhost:8080/",
     "height": 269
    },
    "colab_type": "code",
    "executionInfo": {
     "elapsed": 4,
     "status": "ok",
     "timestamp": 1556210931707,
     "user": {
      "displayName": "Valerie Shelgunova",
      "photoUrl": "https://lh5.googleusercontent.com/-i2CX_QSsamo/AAAAAAAAAAI/AAAAAAAAAB8/YRSVdMujpXw/s64/photo.jpg",
      "userId": "14712883095412086889"
     },
     "user_tz": -180
    },
    "id": "-X3qAt9tX1OF",
    "outputId": "27e8207a-12b1-43ff-c600-46c5a025c50a"
   },
   "outputs": [
    {
     "data": {
      "image/png": "[encoded data removed]",
      "text/plain": [
       "<Figure size 432x288 with 1 Axes>"
      ]
     },
     "metadata": {
      "tags": []
     },
     "output_type": "display_data"
    }
   ],
   "source": [
    "history = forthModel.fit(X_train, y_train, epochs=5, callbacks=[plot_losses])"
   ]
  },
  {
   "cell_type": "code",
   "execution_count": 0,
   "metadata": {
    "colab": {
     "base_uri": "https://localhost:8080/",
     "height": 195
    },
    "colab_type": "code",
    "executionInfo": {
     "elapsed": 1619,
     "status": "ok",
     "timestamp": 1556211541641,
     "user": {
      "displayName": "Valerie Shelgunova",
      "photoUrl": "https://lh5.googleusercontent.com/-i2CX_QSsamo/AAAAAAAAAAI/AAAAAAAAAB8/YRSVdMujpXw/s64/photo.jpg",
      "userId": "14712883095412086889"
     },
     "user_tz": -180
    },
    "id": "uFS7eMGXX0We",
    "outputId": "b9c17439-e55e-4ea3-93e3-ac491b11d87f"
   },
   "outputs": [
    {
     "name": "stdout",
     "output_type": "stream",
     "text": [
      "              precision    recall  f1-score   support\n",
      "\n",
      "           0       0.85      0.85      0.85      3462\n",
      "           1       0.52      0.32      0.40      1145\n",
      "           2       0.87      0.91      0.89      9443\n",
      "\n",
      "   micro avg       0.85      0.85      0.85     14050\n",
      "   macro avg       0.75      0.69      0.71     14050\n",
      "weighted avg       0.84      0.85      0.84     14050\n",
      "\n"
     ]
    }
   ],
   "source": [
    "classif_report(forthModel)"
   ]
  },
  {
   "cell_type": "markdown",
   "metadata": {
    "colab_type": "text",
    "id": "YFObThmwcF54"
   },
   "source": [
    "может, пообучать её чуть побольше?"
   ]
  },
  {
   "cell_type": "code",
   "execution_count": 0,
   "metadata": {
    "colab": {
     "base_uri": "https://localhost:8080/",
     "height": 269
    },
    "colab_type": "code",
    "executionInfo": {
     "elapsed": 9,
     "status": "ok",
     "timestamp": 1556212644133,
     "user": {
      "displayName": "Valerie Shelgunova",
      "photoUrl": "https://lh5.googleusercontent.com/-i2CX_QSsamo/AAAAAAAAAAI/AAAAAAAAAB8/YRSVdMujpXw/s64/photo.jpg",
      "userId": "14712883095412086889"
     },
     "user_tz": -180
    },
    "id": "DwUFxtV5Kk1w",
    "outputId": "deb86c2e-d970-4735-d6bc-e6fe3331bc12"
   },
   "outputs": [
    {
     "data": {
      "image/png": "[encoded data removed]",
      "text/plain": [
       "<Figure size 432x288 with 1 Axes>"
      ]
     },
     "metadata": {
      "tags": []
     },
     "output_type": "display_data"
    }
   ],
   "source": [
    "history = forthModel.fit(X_train, y_train, epochs=50, callbacks=[plot_losses])"
   ]
  },
  {
   "cell_type": "code",
   "execution_count": 0,
   "metadata": {
    "colab": {
     "base_uri": "https://localhost:8080/",
     "height": 195
    },
    "colab_type": "code",
    "executionInfo": {
     "elapsed": 291000,
     "status": "ok",
     "timestamp": 1556212645195,
     "user": {
      "displayName": "Valerie Shelgunova",
      "photoUrl": "https://lh5.googleusercontent.com/-i2CX_QSsamo/AAAAAAAAAAI/AAAAAAAAAB8/YRSVdMujpXw/s64/photo.jpg",
      "userId": "14712883095412086889"
     },
     "user_tz": -180
    },
    "id": "sNJeppp7cTYO",
    "outputId": "fa8a20da-c4e6-40a1-8cf4-e6759037c610"
   },
   "outputs": [
    {
     "name": "stdout",
     "output_type": "stream",
     "text": [
      "              precision    recall  f1-score   support\n",
      "\n",
      "           0       0.88      0.80      0.84      3462\n",
      "           1       0.47      0.45      0.46      1145\n",
      "           2       0.87      0.90      0.88      9443\n",
      "\n",
      "   micro avg       0.84      0.84      0.84     14050\n",
      "   macro avg       0.74      0.72      0.73     14050\n",
      "weighted avg       0.84      0.84      0.84     14050\n",
      "\n"
     ]
    }
   ],
   "source": [
    "classif_report(forthModel)"
   ]
  },
  {
   "cell_type": "markdown",
   "metadata": {
    "colab_type": "text",
    "id": "2sUnXvfWiTPm"
   },
   "source": [
    "От большего количества эпох толку нет. Попробую увеличить количество нейронов."
   ]
  },
  {
   "cell_type": "markdown",
   "metadata": {
    "colab_type": "text",
    "id": "X-2juWLABpBK"
   },
   "source": [
    "## 5"
   ]
  },
  {
   "cell_type": "code",
   "execution_count": 0,
   "metadata": {
    "colab": {
     "base_uri": "https://localhost:8080/",
     "height": 90
    },
    "colab_type": "code",
    "executionInfo": {
     "elapsed": 656,
     "status": "ok",
     "timestamp": 1556246782323,
     "user": {
      "displayName": "Valerie Shelgunova",
      "photoUrl": "https://lh5.googleusercontent.com/-i2CX_QSsamo/AAAAAAAAAAI/AAAAAAAAAB8/YRSVdMujpXw/s64/photo.jpg",
      "userId": "14712883095412086889"
     },
     "user_tz": -180
    },
    "id": "yfRUPGmLhK2y",
    "outputId": "28edf7be-a583-415a-cf5a-2d61dc3176a1"
   },
   "outputs": [
    {
     "name": "stdout",
     "output_type": "stream",
     "text": [
      "WARNING:tensorflow:From /usr/local/lib/python3.6/dist-packages/tensorflow/python/framework/op_def_library.py:263: colocate_with (from tensorflow.python.framework.ops) is deprecated and will be removed in a future version.\n",
      "Instructions for updating:\n",
      "Colocations handled automatically by placer.\n"
     ]
    }
   ],
   "source": [
    "fifthModel = getModel([input_dim,100,100,50,3])"
   ]
  },
  {
   "cell_type": "code",
   "execution_count": 0,
   "metadata": {
    "colab": {
     "base_uri": "https://localhost:8080/",
     "height": 284
    },
    "colab_type": "code",
    "executionInfo": {
     "elapsed": 624,
     "status": "ok",
     "timestamp": 1556246785771,
     "user": {
      "displayName": "Valerie Shelgunova",
      "photoUrl": "https://lh5.googleusercontent.com/-i2CX_QSsamo/AAAAAAAAAAI/AAAAAAAAAB8/YRSVdMujpXw/s64/photo.jpg",
      "userId": "14712883095412086889"
     },
     "user_tz": -180
    },
    "id": "EI28HvFfhfV2",
    "outputId": "89c6adcc-f68b-4556-c3ab-3ba2bf03776c"
   },
   "outputs": [
    {
     "name": "stdout",
     "output_type": "stream",
     "text": [
      "_________________________________________________________________\n",
      "Layer (type)                 Output Shape              Param #   \n",
      "=================================================================\n",
      "dense_1 (Dense)              (None, 100)               842100    \n",
      "_________________________________________________________________\n",
      "dense_2 (Dense)              (None, 100)               10100     \n",
      "_________________________________________________________________\n",
      "dense_3 (Dense)              (None, 50)                5050      \n",
      "_________________________________________________________________\n",
      "dense_4 (Dense)              (None, 3)                 153       \n",
      "=================================================================\n",
      "Total params: 857,403\n",
      "Trainable params: 857,403\n",
      "Non-trainable params: 0\n",
      "_________________________________________________________________\n"
     ]
    }
   ],
   "source": [
    "fifthModel.summary()"
   ]
  },
  {
   "cell_type": "code",
   "execution_count": 0,
   "metadata": {
    "colab": {
     "base_uri": "https://localhost:8080/",
     "height": 269
    },
    "colab_type": "code",
    "executionInfo": {
     "elapsed": 25,
     "status": "ok",
     "timestamp": 1556246959821,
     "user": {
      "displayName": "Valerie Shelgunova",
      "photoUrl": "https://lh5.googleusercontent.com/-i2CX_QSsamo/AAAAAAAAAAI/AAAAAAAAAB8/YRSVdMujpXw/s64/photo.jpg",
      "userId": "14712883095412086889"
     },
     "user_tz": -180
    },
    "id": "MejSlCzuhfI_",
    "outputId": "bd73342a-7b9b-49bc-d8d0-bafb6a068805"
   },
   "outputs": [
    {
     "data": {
      "image/png": "[encoded data removed]",
      "text/plain": [
       "<Figure size 432x288 with 1 Axes>"
      ]
     },
     "metadata": {
      "tags": []
     },
     "output_type": "display_data"
    }
   ],
   "source": [
    "history = fifthModel.fit(X_train, y_train, epochs=10, callbacks=[plot_losses])"
   ]
  },
  {
   "cell_type": "code",
   "execution_count": 0,
   "metadata": {
    "colab": {
     "base_uri": "https://localhost:8080/",
     "height": 195
    },
    "colab_type": "code",
    "executionInfo": {
     "elapsed": 1863,
     "status": "ok",
     "timestamp": 1556246967623,
     "user": {
      "displayName": "Valerie Shelgunova",
      "photoUrl": "https://lh5.googleusercontent.com/-i2CX_QSsamo/AAAAAAAAAAI/AAAAAAAAAB8/YRSVdMujpXw/s64/photo.jpg",
      "userId": "14712883095412086889"
     },
     "user_tz": -180
    },
    "id": "g7uIQ2iri-Vk",
    "outputId": "c34e6e48-3950-4710-fcb2-df7f0342f596"
   },
   "outputs": [
    {
     "name": "stdout",
     "output_type": "stream",
     "text": [
      "              precision    recall  f1-score   support\n",
      "\n",
      "           0       0.84      0.84      0.84      3361\n",
      "           1       0.50      0.37      0.42      1161\n",
      "           2       0.86      0.89      0.87      8437\n",
      "\n",
      "   micro avg       0.83      0.83      0.83     12959\n",
      "   macro avg       0.73      0.70      0.71     12959\n",
      "weighted avg       0.82      0.83      0.82     12959\n",
      "\n"
     ]
    }
   ],
   "source": [
    "classif_report(fifthModel)"
   ]
  },
  {
   "cell_type": "markdown",
   "metadata": {
    "colab_type": "text",
    "id": "hD3ufnpRjGKt"
   },
   "source": [
    "Да, результат такой же. Теперь я хочу посмотреть, какие именно тексты показались трудными классификатору, что он их неправильно распознал. Для этого, видимо, мне придется разделить тексты на трейн и тест по-новому."
   ]
  },
  {
   "cell_type": "markdown",
   "metadata": {
    "colab_type": "text",
    "id": "3UHkWfOInzbY"
   },
   "source": [
    "## 6"
   ]
  },
  {
   "cell_type": "code",
   "execution_count": 0,
   "metadata": {
    "colab": {},
    "colab_type": "code",
    "id": "suBmliDAkhsf"
   },
   "outputs": [],
   "source": [
    "x_train, x_test, y_train, y_test = train_test_split(df_features.text, df_features.label, random_state=20)"
   ]
  },
  {
   "cell_type": "code",
   "execution_count": 0,
   "metadata": {
    "colab": {
     "base_uri": "https://localhost:8080/",
     "height": 52
    },
    "colab_type": "code",
    "executionInfo": {
     "elapsed": 6104,
     "status": "ok",
     "timestamp": 1556248486686,
     "user": {
      "displayName": "Valerie Shelgunova",
      "photoUrl": "https://lh5.googleusercontent.com/-i2CX_QSsamo/AAAAAAAAAAI/AAAAAAAAAB8/YRSVdMujpXw/s64/photo.jpg",
      "userId": "14712883095412086889"
     },
     "user_tz": -180
    },
    "id": "0wJadFhVnsZ1",
    "outputId": "ca39d534-4be7-4fd8-a16c-d6c61bffc4e3"
   },
   "outputs": [
    {
     "data": {
      "text/plain": [
       "<38877x8420 sparse matrix of type '<class 'numpy.int64'>'\n",
       "\twith 2075986 stored elements in Compressed Sparse Row format>"
      ]
     },
     "execution_count": 13,
     "metadata": {
      "tags": []
     },
     "output_type": "execute_result"
    }
   ],
   "source": [
    "vectorizer = CountVectorizer(analyzer=\"char\", ngram_range=(2,2)) \n",
    "vectorizer.fit(df_features.text)\n",
    "\n",
    "X_train = vectorizer.transform(x_train)\n",
    "X_test  = vectorizer.transform(x_test)\n",
    "X_train"
   ]
  },
  {
   "cell_type": "code",
   "execution_count": 0,
   "metadata": {
    "colab": {},
    "colab_type": "code",
    "id": "7BofCvgfo8aB"
   },
   "outputs": [],
   "source": [
    "input_dim = X_train.shape[1]"
   ]
  },
  {
   "cell_type": "code",
   "execution_count": 0,
   "metadata": {
    "colab": {
     "base_uri": "https://localhost:8080/",
     "height": 90
    },
    "colab_type": "code",
    "executionInfo": {
     "elapsed": 657,
     "status": "ok",
     "timestamp": 1556248598336,
     "user": {
      "displayName": "Valerie Shelgunova",
      "photoUrl": "https://lh5.googleusercontent.com/-i2CX_QSsamo/AAAAAAAAAAI/AAAAAAAAAB8/YRSVdMujpXw/s64/photo.jpg",
      "userId": "14712883095412086889"
     },
     "user_tz": -180
    },
    "id": "wC0wIqM4pKDm",
    "outputId": "d66a8fe9-daec-465c-f318-b525e66a51a5"
   },
   "outputs": [
    {
     "name": "stdout",
     "output_type": "stream",
     "text": [
      "WARNING:tensorflow:From /usr/local/lib/python3.6/dist-packages/tensorflow/python/framework/op_def_library.py:263: colocate_with (from tensorflow.python.framework.ops) is deprecated and will be removed in a future version.\n",
      "Instructions for updating:\n",
      "Colocations handled automatically by placer.\n"
     ]
    }
   ],
   "source": [
    "sixthModel = getModel([input_dim,200,200,200,3])"
   ]
  },
  {
   "cell_type": "code",
   "execution_count": 0,
   "metadata": {
    "colab": {
     "base_uri": "https://localhost:8080/",
     "height": 284
    },
    "colab_type": "code",
    "executionInfo": {
     "elapsed": 619,
     "status": "ok",
     "timestamp": 1556248615226,
     "user": {
      "displayName": "Valerie Shelgunova",
      "photoUrl": "https://lh5.googleusercontent.com/-i2CX_QSsamo/AAAAAAAAAAI/AAAAAAAAAB8/YRSVdMujpXw/s64/photo.jpg",
      "userId": "14712883095412086889"
     },
     "user_tz": -180
    },
    "id": "GiT8X07vpSF5",
    "outputId": "ca90ac13-001f-4782-c4c6-09c9317d15eb"
   },
   "outputs": [
    {
     "name": "stdout",
     "output_type": "stream",
     "text": [
      "_________________________________________________________________\n",
      "Layer (type)                 Output Shape              Param #   \n",
      "=================================================================\n",
      "dense_1 (Dense)              (None, 200)               1684200   \n",
      "_________________________________________________________________\n",
      "dense_2 (Dense)              (None, 200)               40200     \n",
      "_________________________________________________________________\n",
      "dense_3 (Dense)              (None, 200)               40200     \n",
      "_________________________________________________________________\n",
      "dense_4 (Dense)              (None, 3)                 603       \n",
      "=================================================================\n",
      "Total params: 1,765,203\n",
      "Trainable params: 1,765,203\n",
      "Non-trainable params: 0\n",
      "_________________________________________________________________\n"
     ]
    }
   ],
   "source": [
    "sixthModel.summary()"
   ]
  },
  {
   "cell_type": "code",
   "execution_count": 0,
   "metadata": {
    "colab": {
     "base_uri": "https://localhost:8080/",
     "height": 269
    },
    "colab_type": "code",
    "executionInfo": {
     "elapsed": 12,
     "status": "ok",
     "timestamp": 1556248887734,
     "user": {
      "displayName": "Valerie Shelgunova",
      "photoUrl": "https://lh5.googleusercontent.com/-i2CX_QSsamo/AAAAAAAAAAI/AAAAAAAAAB8/YRSVdMujpXw/s64/photo.jpg",
      "userId": "14712883095412086889"
     },
     "user_tz": -180
    },
    "id": "6i2LGbHDpegp",
    "outputId": "a9d66859-f2be-48ba-ffe8-788b5fdb3bcb"
   },
   "outputs": [
    {
     "data": {
      "image/png": "[encoded data removed]",
      "text/plain": [
       "<Figure size 432x288 with 1 Axes>"
      ]
     },
     "metadata": {
      "tags": []
     },
     "output_type": "display_data"
    }
   ],
   "source": [
    "history = sixthModel.fit(X_train, y_train, epochs=6, callbacks=[plot_losses])"
   ]
  },
  {
   "cell_type": "markdown",
   "metadata": {
    "colab_type": "text",
    "id": "3RWyXV3Fv6h4"
   },
   "source": [
    "В этот момент я немного переписала функцию classif_report, чтобы она возвращала еще и аррей с предсказанными классами."
   ]
  },
  {
   "cell_type": "code",
   "execution_count": 0,
   "metadata": {
    "colab": {},
    "colab_type": "code",
    "id": "BBD6dsTlrQIw"
   },
   "outputs": [],
   "source": [
    "def classif_report(current_model):\n",
    "    predY=current_model.predict(X_test) \n",
    "    new_ar = []\n",
    "    for el in predY:\n",
    "        new_ar.append(np.argmax(el))\n",
    "    print(classification_report(y_test, new_ar))\n",
    "    return new_ar"
   ]
  },
  {
   "cell_type": "code",
   "execution_count": 0,
   "metadata": {
    "colab": {
     "base_uri": "https://localhost:8080/",
     "height": 195
    },
    "colab_type": "code",
    "executionInfo": {
     "elapsed": 2720,
     "status": "ok",
     "timestamp": 1556249615269,
     "user": {
      "displayName": "Valerie Shelgunova",
      "photoUrl": "https://lh5.googleusercontent.com/-i2CX_QSsamo/AAAAAAAAAAI/AAAAAAAAAB8/YRSVdMujpXw/s64/photo.jpg",
      "userId": "14712883095412086889"
     },
     "user_tz": -180
    },
    "id": "FCXYjBN9pvwa",
    "outputId": "e0b14eeb-6c8e-4c39-a5a1-2403dca4e394"
   },
   "outputs": [
    {
     "name": "stdout",
     "output_type": "stream",
     "text": [
      "              precision    recall  f1-score   support\n",
      "\n",
      "           0       0.81      0.88      0.84      3370\n",
      "           1       0.57      0.35      0.43      1094\n",
      "           2       0.87      0.89      0.88      8495\n",
      "\n",
      "   micro avg       0.84      0.84      0.84     12959\n",
      "   macro avg       0.75      0.70      0.72     12959\n",
      "weighted avg       0.83      0.84      0.83     12959\n",
      "\n"
     ]
    }
   ],
   "source": [
    "\n",
    "predY = classif_report(sixthModel)"
   ]
  },
  {
   "cell_type": "markdown",
   "metadata": {
    "colab_type": "text",
    "id": "up8wbNIJwKHf"
   },
   "source": [
    "Сделаю датафрейм, в котором смогу посмотреть, какие тексты классифицировались правильно, а какие нет."
   ]
  },
  {
   "cell_type": "code",
   "execution_count": 0,
   "metadata": {
    "colab": {
     "base_uri": "https://localhost:8080/",
     "height": 1930
    },
    "colab_type": "code",
    "executionInfo": {
     "elapsed": 864,
     "status": "ok",
     "timestamp": 1556250224863,
     "user": {
      "displayName": "Valerie Shelgunova",
      "photoUrl": "https://lh5.googleusercontent.com/-i2CX_QSsamo/AAAAAAAAAAI/AAAAAAAAAB8/YRSVdMujpXw/s64/photo.jpg",
      "userId": "14712883095412086889"
     },
     "user_tz": -180
    },
    "id": "o-12RdgwrVpu",
    "outputId": "643ceb73-32b6-4153-a523-355b72beb153"
   },
   "outputs": [
    {
     "data": {
      "text/html": [
       "<div>\n",
       "<style scoped>\n",
       "    .dataframe tbody tr th:only-of-type {\n",
       "        vertical-align: middle;\n",
       "    }\n",
       "\n",
       "    .dataframe tbody tr th {\n",
       "        vertical-align: top;\n",
       "    }\n",
       "\n",
       "    .dataframe thead th {\n",
       "        text-align: right;\n",
       "    }\n",
       "</style>\n",
       "<table border=\"1\" class=\"dataframe\">\n",
       "  <thead>\n",
       "    <tr style=\"text-align: right;\">\n",
       "      <th></th>\n",
       "      <th>index</th>\n",
       "      <th>text</th>\n",
       "      <th>y_true</th>\n",
       "      <th>y_pred</th>\n",
       "      <th>result</th>\n",
       "    </tr>\n",
       "  </thead>\n",
       "  <tbody>\n",
       "    <tr>\n",
       "      <th>0</th>\n",
       "      <td>7805</td>\n",
       "      <td>почему у пилотов столько фанатов а очевидную л...</td>\n",
       "      <td>0</td>\n",
       "      <td>0</td>\n",
       "      <td>True</td>\n",
       "    </tr>\n",
       "    <tr>\n",
       "      <th>1</th>\n",
       "      <td>30271</td>\n",
       "      <td>Ого опять</td>\n",
       "      <td>2</td>\n",
       "      <td>2</td>\n",
       "      <td>True</td>\n",
       "    </tr>\n",
       "    <tr>\n",
       "      <th>2</th>\n",
       "      <td>26836</td>\n",
       "      <td>Вот за Тома сейчас обидно было</td>\n",
       "      <td>2</td>\n",
       "      <td>2</td>\n",
       "      <td>True</td>\n",
       "    </tr>\n",
       "    <tr>\n",
       "      <th>3</th>\n",
       "      <td>47225</td>\n",
       "      <td>правда ли что все музыканты делающие на концер...</td>\n",
       "      <td>0</td>\n",
       "      <td>0</td>\n",
       "      <td>True</td>\n",
       "    </tr>\n",
       "    <tr>\n",
       "      <th>4</th>\n",
       "      <td>26077</td>\n",
       "      <td>Смотреть концерт без загораживающих обзор смар...</td>\n",
       "      <td>2</td>\n",
       "      <td>0</td>\n",
       "      <td>False</td>\n",
       "    </tr>\n",
       "    <tr>\n",
       "      <th>5</th>\n",
       "      <td>44795</td>\n",
       "      <td>скорее бы вышла группа я хоть забуду что устал</td>\n",
       "      <td>0</td>\n",
       "      <td>2</td>\n",
       "      <td>False</td>\n",
       "    </tr>\n",
       "    <tr>\n",
       "      <th>6</th>\n",
       "      <td>4732</td>\n",
       "      <td>Как пойти с радужным флагом, чтоб тебя не побили</td>\n",
       "      <td>2</td>\n",
       "      <td>2</td>\n",
       "      <td>True</td>\n",
       "    </tr>\n",
       "    <tr>\n",
       "      <th>7</th>\n",
       "      <td>7799</td>\n",
       "      <td>Топлю за Wonderful Life, хотя Мантра тоже непл...</td>\n",
       "      <td>2</td>\n",
       "      <td>2</td>\n",
       "      <td>True</td>\n",
       "    </tr>\n",
       "    <tr>\n",
       "      <th>8</th>\n",
       "      <td>5965</td>\n",
       "      <td>Єєєє, Florence + The Machine</td>\n",
       "      <td>2</td>\n",
       "      <td>2</td>\n",
       "      <td>True</td>\n",
       "    </tr>\n",
       "    <tr>\n",
       "      <th>9</th>\n",
       "      <td>47158</td>\n",
       "      <td>люблю вокалистку но я чмо что делать</td>\n",
       "      <td>0</td>\n",
       "      <td>0</td>\n",
       "      <td>True</td>\n",
       "    </tr>\n",
       "    <tr>\n",
       "      <th>10</th>\n",
       "      <td>1493</td>\n",
       "      <td>#newconcert@the4gkz\\r\\r\\r\\nPapa Roach | Киев —...</td>\n",
       "      <td>0</td>\n",
       "      <td>0</td>\n",
       "      <td>True</td>\n",
       "    </tr>\n",
       "    <tr>\n",
       "      <th>11</th>\n",
       "      <td>27665</td>\n",
       "      <td>[id150389609|Polina], тест на возраст</td>\n",
       "      <td>2</td>\n",
       "      <td>2</td>\n",
       "      <td>True</td>\n",
       "    </tr>\n",
       "    <tr>\n",
       "      <th>12</th>\n",
       "      <td>25084</td>\n",
       "      <td>вэсп багряного идола в ноябре отыграли целиком...</td>\n",
       "      <td>2</td>\n",
       "      <td>2</td>\n",
       "      <td>True</td>\n",
       "    </tr>\n",
       "    <tr>\n",
       "      <th>13</th>\n",
       "      <td>32597</td>\n",
       "      <td>Miss Memphis May I Fire</td>\n",
       "      <td>2</td>\n",
       "      <td>2</td>\n",
       "      <td>True</td>\n",
       "    </tr>\n",
       "    <tr>\n",
       "      <th>14</th>\n",
       "      <td>33478</td>\n",
       "      <td>Буерак »»&gt; пошлая молли</td>\n",
       "      <td>2</td>\n",
       "      <td>2</td>\n",
       "      <td>True</td>\n",
       "    </tr>\n",
       "    <tr>\n",
       "      <th>15</th>\n",
       "      <td>6677</td>\n",
       "      <td>[id289378389|Fatal], Ярославль очень приличный...</td>\n",
       "      <td>1</td>\n",
       "      <td>2</td>\n",
       "      <td>False</td>\n",
       "    </tr>\n",
       "    <tr>\n",
       "      <th>16</th>\n",
       "      <td>36660</td>\n",
       "      <td>HMLTD и Confidence man-оба  благодаря вечеринк...</td>\n",
       "      <td>2</td>\n",
       "      <td>2</td>\n",
       "      <td>True</td>\n",
       "    </tr>\n",
       "    <tr>\n",
       "      <th>17</th>\n",
       "      <td>36975</td>\n",
       "      <td>Бомбит из-за тех, у кого бомбит с нового сингла</td>\n",
       "      <td>2</td>\n",
       "      <td>2</td>\n",
       "      <td>True</td>\n",
       "    </tr>\n",
       "    <tr>\n",
       "      <th>18</th>\n",
       "      <td>35872</td>\n",
       "      <td>расскажите эррорам про отсутствие концертов в ...</td>\n",
       "      <td>2</td>\n",
       "      <td>2</td>\n",
       "      <td>True</td>\n",
       "    </tr>\n",
       "    <tr>\n",
       "      <th>19</th>\n",
       "      <td>41386</td>\n",
       "      <td>Да, Nickelback lite охрененно отыграли</td>\n",
       "      <td>2</td>\n",
       "      <td>2</td>\n",
       "      <td>True</td>\n",
       "    </tr>\n",
       "    <tr>\n",
       "      <th>20</th>\n",
       "      <td>2587</td>\n",
       "      <td>#fest@the4gkz\\r\\r\\r\\nСнова рассказываем о свеж...</td>\n",
       "      <td>0</td>\n",
       "      <td>0</td>\n",
       "      <td>True</td>\n",
       "    </tr>\n",
       "    <tr>\n",
       "      <th>21</th>\n",
       "      <td>32591</td>\n",
       "      <td>только цена совсем не народная</td>\n",
       "      <td>2</td>\n",
       "      <td>2</td>\n",
       "      <td>True</td>\n",
       "    </tr>\n",
       "    <tr>\n",
       "      <th>22</th>\n",
       "      <td>5152</td>\n",
       "      <td>RY X сильный альбом !</td>\n",
       "      <td>2</td>\n",
       "      <td>2</td>\n",
       "      <td>True</td>\n",
       "    </tr>\n",
       "    <tr>\n",
       "      <th>23</th>\n",
       "      <td>24525</td>\n",
       "      <td>Для ПРОСЛУШИВАНИЯ нового альбома собираемся)))</td>\n",
       "      <td>2</td>\n",
       "      <td>2</td>\n",
       "      <td>True</td>\n",
       "    </tr>\n",
       "    <tr>\n",
       "      <th>24</th>\n",
       "      <td>50383</td>\n",
       "      <td>есть ли скидки на билеты если отмечаешь д/р на...</td>\n",
       "      <td>0</td>\n",
       "      <td>0</td>\n",
       "      <td>True</td>\n",
       "    </tr>\n",
       "    <tr>\n",
       "      <th>25</th>\n",
       "      <td>7657</td>\n",
       "      <td>[id401020082|Иван], ты думал они выпустят очер...</td>\n",
       "      <td>1</td>\n",
       "      <td>2</td>\n",
       "      <td>False</td>\n",
       "    </tr>\n",
       "    <tr>\n",
       "      <th>26</th>\n",
       "      <td>14204</td>\n",
       "      <td>Я знаю один случай из жизни когда арена была х...</td>\n",
       "      <td>2</td>\n",
       "      <td>2</td>\n",
       "      <td>True</td>\n",
       "    </tr>\n",
       "    <tr>\n",
       "      <th>27</th>\n",
       "      <td>36390</td>\n",
       "      <td>Жиза</td>\n",
       "      <td>2</td>\n",
       "      <td>2</td>\n",
       "      <td>True</td>\n",
       "    </tr>\n",
       "    <tr>\n",
       "      <th>28</th>\n",
       "      <td>15808</td>\n",
       "      <td>[id19825608|Arkady], да какой там 2007, давно ...</td>\n",
       "      <td>1</td>\n",
       "      <td>1</td>\n",
       "      <td>True</td>\n",
       "    </tr>\n",
       "    <tr>\n",
       "      <th>29</th>\n",
       "      <td>49454</td>\n",
       "      <td>сортирую одежду по жанрам концертов на которые...</td>\n",
       "      <td>0</td>\n",
       "      <td>0</td>\n",
       "      <td>True</td>\n",
       "    </tr>\n",
       "    <tr>\n",
       "      <th>...</th>\n",
       "      <td>...</td>\n",
       "      <td>...</td>\n",
       "      <td>...</td>\n",
       "      <td>...</td>\n",
       "      <td>...</td>\n",
       "    </tr>\n",
       "    <tr>\n",
       "      <th>12929</th>\n",
       "      <td>43086</td>\n",
       "      <td>привезет ли в этот раз тео в россию джона ньюм...</td>\n",
       "      <td>0</td>\n",
       "      <td>0</td>\n",
       "      <td>True</td>\n",
       "    </tr>\n",
       "    <tr>\n",
       "      <th>12930</th>\n",
       "      <td>3578</td>\n",
       "      <td>[id135469077|Мария], тебе какой ремень, плоски...</td>\n",
       "      <td>1</td>\n",
       "      <td>2</td>\n",
       "      <td>False</td>\n",
       "    </tr>\n",
       "    <tr>\n",
       "      <th>12931</th>\n",
       "      <td>34778</td>\n",
       "      <td>Выходные той же недели считаются?🤔</td>\n",
       "      <td>2</td>\n",
       "      <td>2</td>\n",
       "      <td>True</td>\n",
       "    </tr>\n",
       "    <tr>\n",
       "      <th>12932</th>\n",
       "      <td>37066</td>\n",
       "      <td>Лучше много фоток с концертов, чем много фоток...</td>\n",
       "      <td>2</td>\n",
       "      <td>2</td>\n",
       "      <td>True</td>\n",
       "    </tr>\n",
       "    <tr>\n",
       "      <th>12933</th>\n",
       "      <td>34930</td>\n",
       "      <td>[id12061653|Илюса], жиза</td>\n",
       "      <td>2</td>\n",
       "      <td>2</td>\n",
       "      <td>True</td>\n",
       "    </tr>\n",
       "    <tr>\n",
       "      <th>12934</th>\n",
       "      <td>21322</td>\n",
       "      <td>Вчера буквально случайно их песня включилась ^.^</td>\n",
       "      <td>2</td>\n",
       "      <td>2</td>\n",
       "      <td>True</td>\n",
       "    </tr>\n",
       "    <tr>\n",
       "      <th>12935</th>\n",
       "      <td>36024</td>\n",
       "      <td>Я под них засыпаю смотря на  белые гирлянды ви...</td>\n",
       "      <td>2</td>\n",
       "      <td>2</td>\n",
       "      <td>True</td>\n",
       "    </tr>\n",
       "    <tr>\n",
       "      <th>12936</th>\n",
       "      <td>25922</td>\n",
       "      <td>мне б твои проблемы</td>\n",
       "      <td>2</td>\n",
       "      <td>2</td>\n",
       "      <td>True</td>\n",
       "    </tr>\n",
       "    <tr>\n",
       "      <th>12937</th>\n",
       "      <td>34584</td>\n",
       "      <td>Благодарить сестру</td>\n",
       "      <td>2</td>\n",
       "      <td>2</td>\n",
       "      <td>True</td>\n",
       "    </tr>\n",
       "    <tr>\n",
       "      <th>12938</th>\n",
       "      <td>23633</td>\n",
       "      <td>Наличие мозгов у её правительства</td>\n",
       "      <td>2</td>\n",
       "      <td>2</td>\n",
       "      <td>True</td>\n",
       "    </tr>\n",
       "    <tr>\n",
       "      <th>12939</th>\n",
       "      <td>42487</td>\n",
       "      <td>[id58172631|Дана], держусь за чужие рюкзаки, к...</td>\n",
       "      <td>2</td>\n",
       "      <td>2</td>\n",
       "      <td>True</td>\n",
       "    </tr>\n",
       "    <tr>\n",
       "      <th>12940</th>\n",
       "      <td>46298</td>\n",
       "      <td>сборник поздравлений концертных задротов на вс...</td>\n",
       "      <td>0</td>\n",
       "      <td>2</td>\n",
       "      <td>False</td>\n",
       "    </tr>\n",
       "    <tr>\n",
       "      <th>12941</th>\n",
       "      <td>5384</td>\n",
       "      <td>БОЖЕ ДА</td>\n",
       "      <td>2</td>\n",
       "      <td>2</td>\n",
       "      <td>True</td>\n",
       "    </tr>\n",
       "    <tr>\n",
       "      <th>12942</th>\n",
       "      <td>10135</td>\n",
       "      <td>Marmozets + 2\\r\\r\\r\\nEmigrate + 2\\r\\r\\r\\nMiles...</td>\n",
       "      <td>2</td>\n",
       "      <td>2</td>\n",
       "      <td>True</td>\n",
       "    </tr>\n",
       "    <tr>\n",
       "      <th>12943</th>\n",
       "      <td>33469</td>\n",
       "      <td>как перестать рыдать слушая linkin park</td>\n",
       "      <td>0</td>\n",
       "      <td>0</td>\n",
       "      <td>True</td>\n",
       "    </tr>\n",
       "    <tr>\n",
       "      <th>12944</th>\n",
       "      <td>9194</td>\n",
       "      <td>У меня доходит только до брони отеля, потом пр...</td>\n",
       "      <td>2</td>\n",
       "      <td>2</td>\n",
       "      <td>True</td>\n",
       "    </tr>\n",
       "    <tr>\n",
       "      <th>12945</th>\n",
       "      <td>27900</td>\n",
       "      <td>не, раньше было +/-</td>\n",
       "      <td>2</td>\n",
       "      <td>2</td>\n",
       "      <td>True</td>\n",
       "    </tr>\n",
       "    <tr>\n",
       "      <th>12946</th>\n",
       "      <td>24488</td>\n",
       "      <td>мне кажется сколько бы лет мне не было guano a...</td>\n",
       "      <td>0</td>\n",
       "      <td>0</td>\n",
       "      <td>True</td>\n",
       "    </tr>\n",
       "    <tr>\n",
       "      <th>12947</th>\n",
       "      <td>15106</td>\n",
       "      <td>на самом деле в фильме местами пел сам Рами, с...</td>\n",
       "      <td>2</td>\n",
       "      <td>0</td>\n",
       "      <td>False</td>\n",
       "    </tr>\n",
       "    <tr>\n",
       "      <th>12948</th>\n",
       "      <td>6107</td>\n",
       "      <td>Если я проезжал мимо мегаспорта на той неделе,...</td>\n",
       "      <td>2</td>\n",
       "      <td>2</td>\n",
       "      <td>True</td>\n",
       "    </tr>\n",
       "    <tr>\n",
       "      <th>12949</th>\n",
       "      <td>15789</td>\n",
       "      <td>И немного Твери! Если частно - горжусь ребятам...</td>\n",
       "      <td>2</td>\n",
       "      <td>2</td>\n",
       "      <td>True</td>\n",
       "    </tr>\n",
       "    <tr>\n",
       "      <th>12950</th>\n",
       "      <td>42988</td>\n",
       "      <td>какие вы душные, а!</td>\n",
       "      <td>2</td>\n",
       "      <td>2</td>\n",
       "      <td>True</td>\n",
       "    </tr>\n",
       "    <tr>\n",
       "      <th>12951</th>\n",
       "      <td>20102</td>\n",
       "      <td>Скажи спасибо, что со слухом все в порядке</td>\n",
       "      <td>2</td>\n",
       "      <td>2</td>\n",
       "      <td>True</td>\n",
       "    </tr>\n",
       "    <tr>\n",
       "      <th>12952</th>\n",
       "      <td>14331</td>\n",
       "      <td>[id222969842|Станислава], анонсировали их не т...</td>\n",
       "      <td>1</td>\n",
       "      <td>2</td>\n",
       "      <td>False</td>\n",
       "    </tr>\n",
       "    <tr>\n",
       "      <th>12953</th>\n",
       "      <td>14072</td>\n",
       "      <td>[id184821467|Анастасия], хуже, чем френдзона?</td>\n",
       "      <td>1</td>\n",
       "      <td>1</td>\n",
       "      <td>True</td>\n",
       "    </tr>\n",
       "    <tr>\n",
       "      <th>12954</th>\n",
       "      <td>1562</td>\n",
       "      <td>[id87406040|Милки], неа :)</td>\n",
       "      <td>1</td>\n",
       "      <td>2</td>\n",
       "      <td>False</td>\n",
       "    </tr>\n",
       "    <tr>\n",
       "      <th>12955</th>\n",
       "      <td>3081</td>\n",
       "      <td>OMG, как же всё надоело...😳😳😳</td>\n",
       "      <td>2</td>\n",
       "      <td>2</td>\n",
       "      <td>True</td>\n",
       "    </tr>\n",
       "    <tr>\n",
       "      <th>12956</th>\n",
       "      <td>47493</td>\n",
       "      <td>это мурашки от музыки или от кондиционера в клубе</td>\n",
       "      <td>0</td>\n",
       "      <td>2</td>\n",
       "      <td>False</td>\n",
       "    </tr>\n",
       "    <tr>\n",
       "      <th>12957</th>\n",
       "      <td>13545</td>\n",
       "      <td>Постиронично</td>\n",
       "      <td>2</td>\n",
       "      <td>2</td>\n",
       "      <td>True</td>\n",
       "    </tr>\n",
       "    <tr>\n",
       "      <th>12958</th>\n",
       "      <td>10361</td>\n",
       "      <td>зачем заводят инстаграм обычные музыканты: рас...</td>\n",
       "      <td>0</td>\n",
       "      <td>0</td>\n",
       "      <td>True</td>\n",
       "    </tr>\n",
       "  </tbody>\n",
       "</table>\n",
       "<p>12959 rows × 5 columns</p>\n",
       "</div>"
      ],
      "text/plain": [
       "       index                                               text  y_true  \\\n",
       "0       7805  почему у пилотов столько фанатов а очевидную л...       0   \n",
       "1      30271                                          Ого опять       2   \n",
       "2      26836                     Вот за Тома сейчас обидно было       2   \n",
       "3      47225  правда ли что все музыканты делающие на концер...       0   \n",
       "4      26077  Смотреть концерт без загораживающих обзор смар...       2   \n",
       "5      44795     скорее бы вышла группа я хоть забуду что устал       0   \n",
       "6       4732   Как пойти с радужным флагом, чтоб тебя не побили       2   \n",
       "7       7799  Топлю за Wonderful Life, хотя Мантра тоже непл...       2   \n",
       "8       5965                       Єєєє, Florence + The Machine       2   \n",
       "9      47158               люблю вокалистку но я чмо что делать       0   \n",
       "10      1493  #newconcert@the4gkz\\r\\r\\r\\nPapa Roach | Киев —...       0   \n",
       "11     27665              [id150389609|Polina], тест на возраст       2   \n",
       "12     25084  вэсп багряного идола в ноябре отыграли целиком...       2   \n",
       "13     32597                            Miss Memphis May I Fire       2   \n",
       "14     33478                            Буерак »»> пошлая молли       2   \n",
       "15      6677  [id289378389|Fatal], Ярославль очень приличный...       1   \n",
       "16     36660  HMLTD и Confidence man-оба  благодаря вечеринк...       2   \n",
       "17     36975    Бомбит из-за тех, у кого бомбит с нового сингла       2   \n",
       "18     35872  расскажите эррорам про отсутствие концертов в ...       2   \n",
       "19     41386             Да, Nickelback lite охрененно отыграли       2   \n",
       "20      2587  #fest@the4gkz\\r\\r\\r\\nСнова рассказываем о свеж...       0   \n",
       "21     32591                     только цена совсем не народная       2   \n",
       "22      5152                              RY X сильный альбом !       2   \n",
       "23     24525     Для ПРОСЛУШИВАНИЯ нового альбома собираемся)))       2   \n",
       "24     50383  есть ли скидки на билеты если отмечаешь д/р на...       0   \n",
       "25      7657  [id401020082|Иван], ты думал они выпустят очер...       1   \n",
       "26     14204  Я знаю один случай из жизни когда арена была х...       2   \n",
       "27     36390                                               Жиза       2   \n",
       "28     15808  [id19825608|Arkady], да какой там 2007, давно ...       1   \n",
       "29     49454  сортирую одежду по жанрам концертов на которые...       0   \n",
       "...      ...                                                ...     ...   \n",
       "12929  43086  привезет ли в этот раз тео в россию джона ньюм...       0   \n",
       "12930   3578  [id135469077|Мария], тебе какой ремень, плоски...       1   \n",
       "12931  34778                 Выходные той же недели считаются?🤔       2   \n",
       "12932  37066  Лучше много фоток с концертов, чем много фоток...       2   \n",
       "12933  34930                           [id12061653|Илюса], жиза       2   \n",
       "12934  21322   Вчера буквально случайно их песня включилась ^.^       2   \n",
       "12935  36024  Я под них засыпаю смотря на  белые гирлянды ви...       2   \n",
       "12936  25922                                мне б твои проблемы       2   \n",
       "12937  34584                                 Благодарить сестру       2   \n",
       "12938  23633                  Наличие мозгов у её правительства       2   \n",
       "12939  42487  [id58172631|Дана], держусь за чужие рюкзаки, к...       2   \n",
       "12940  46298  сборник поздравлений концертных задротов на вс...       0   \n",
       "12941   5384                                            БОЖЕ ДА       2   \n",
       "12942  10135  Marmozets + 2\\r\\r\\r\\nEmigrate + 2\\r\\r\\r\\nMiles...       2   \n",
       "12943  33469            как перестать рыдать слушая linkin park       0   \n",
       "12944   9194  У меня доходит только до брони отеля, потом пр...       2   \n",
       "12945  27900                                не, раньше было +/-       2   \n",
       "12946  24488  мне кажется сколько бы лет мне не было guano a...       0   \n",
       "12947  15106  на самом деле в фильме местами пел сам Рами, с...       2   \n",
       "12948   6107  Если я проезжал мимо мегаспорта на той неделе,...       2   \n",
       "12949  15789  И немного Твери! Если частно - горжусь ребятам...       2   \n",
       "12950  42988                                какие вы душные, а!       2   \n",
       "12951  20102         Скажи спасибо, что со слухом все в порядке       2   \n",
       "12952  14331  [id222969842|Станислава], анонсировали их не т...       1   \n",
       "12953  14072      [id184821467|Анастасия], хуже, чем френдзона?       1   \n",
       "12954   1562                         [id87406040|Милки], неа :)       1   \n",
       "12955   3081                      OMG, как же всё надоело...😳😳😳       2   \n",
       "12956  47493  это мурашки от музыки или от кондиционера в клубе       0   \n",
       "12957  13545                                       Постиронично       2   \n",
       "12958  10361  зачем заводят инстаграм обычные музыканты: рас...       0   \n",
       "\n",
       "       y_pred  result  \n",
       "0           0    True  \n",
       "1           2    True  \n",
       "2           2    True  \n",
       "3           0    True  \n",
       "4           0   False  \n",
       "5           2   False  \n",
       "6           2    True  \n",
       "7           2    True  \n",
       "8           2    True  \n",
       "9           0    True  \n",
       "10          0    True  \n",
       "11          2    True  \n",
       "12          2    True  \n",
       "13          2    True  \n",
       "14          2    True  \n",
       "15          2   False  \n",
       "16          2    True  \n",
       "17          2    True  \n",
       "18          2    True  \n",
       "19          2    True  \n",
       "20          0    True  \n",
       "21          2    True  \n",
       "22          2    True  \n",
       "23          2    True  \n",
       "24          0    True  \n",
       "25          2   False  \n",
       "26          2    True  \n",
       "27          2    True  \n",
       "28          1    True  \n",
       "29          0    True  \n",
       "...       ...     ...  \n",
       "12929       0    True  \n",
       "12930       2   False  \n",
       "12931       2    True  \n",
       "12932       2    True  \n",
       "12933       2    True  \n",
       "12934       2    True  \n",
       "12935       2    True  \n",
       "12936       2    True  \n",
       "12937       2    True  \n",
       "12938       2    True  \n",
       "12939       2    True  \n",
       "12940       2   False  \n",
       "12941       2    True  \n",
       "12942       2    True  \n",
       "12943       0    True  \n",
       "12944       2    True  \n",
       "12945       2    True  \n",
       "12946       0    True  \n",
       "12947       0   False  \n",
       "12948       2    True  \n",
       "12949       2    True  \n",
       "12950       2    True  \n",
       "12951       2    True  \n",
       "12952       2   False  \n",
       "12953       1    True  \n",
       "12954       2   False  \n",
       "12955       2    True  \n",
       "12956       2   False  \n",
       "12957       2    True  \n",
       "12958       0    True  \n",
       "\n",
       "[12959 rows x 5 columns]"
      ]
     },
     "execution_count": 48,
     "metadata": {
      "tags": []
     },
     "output_type": "execute_result"
    }
   ],
   "source": [
    "analize_df = pd.DataFrame(x_test).reset_index()\n",
    "analize_df['y_true'] = y_test.array\n",
    "analize_df['y_pred'] = predY\n",
    "analize_df['result'] = analize_df.apply(lambda x: x['y_true']==x['y_pred'], axis = 1)\n",
    "analize_df\n",
    "# 0 - post, 1 - comment_to_comment. 2 - comment"
   ]
  },
  {
   "cell_type": "code",
   "execution_count": 0,
   "metadata": {
    "colab": {
     "base_uri": "https://localhost:8080/",
     "height": 1930
    },
    "colab_type": "code",
    "executionInfo": {
     "elapsed": 630,
     "status": "ok",
     "timestamp": 1556251037426,
     "user": {
      "displayName": "Valerie Shelgunova",
      "photoUrl": "https://lh5.googleusercontent.com/-i2CX_QSsamo/AAAAAAAAAAI/AAAAAAAAAB8/YRSVdMujpXw/s64/photo.jpg",
      "userId": "14712883095412086889"
     },
     "user_tz": -180
    },
    "id": "SEafgsxXxqv6",
    "outputId": "c6bd9fab-5f6a-4ca1-b667-a4c6da7c3e53"
   },
   "outputs": [
    {
     "data": {
      "text/html": [
       "<div>\n",
       "<style scoped>\n",
       "    .dataframe tbody tr th:only-of-type {\n",
       "        vertical-align: middle;\n",
       "    }\n",
       "\n",
       "    .dataframe tbody tr th {\n",
       "        vertical-align: top;\n",
       "    }\n",
       "\n",
       "    .dataframe thead th {\n",
       "        text-align: right;\n",
       "    }\n",
       "</style>\n",
       "<table border=\"1\" class=\"dataframe\">\n",
       "  <thead>\n",
       "    <tr style=\"text-align: right;\">\n",
       "      <th></th>\n",
       "      <th>index</th>\n",
       "      <th>text</th>\n",
       "      <th>y_true</th>\n",
       "      <th>y_pred</th>\n",
       "      <th>result</th>\n",
       "    </tr>\n",
       "  </thead>\n",
       "  <tbody>\n",
       "    <tr>\n",
       "      <th>4</th>\n",
       "      <td>26077</td>\n",
       "      <td>Смотреть концерт без загораживающих обзор смар...</td>\n",
       "      <td>2</td>\n",
       "      <td>0</td>\n",
       "      <td>False</td>\n",
       "    </tr>\n",
       "    <tr>\n",
       "      <th>5</th>\n",
       "      <td>44795</td>\n",
       "      <td>скорее бы вышла группа я хоть забуду что устал</td>\n",
       "      <td>0</td>\n",
       "      <td>2</td>\n",
       "      <td>False</td>\n",
       "    </tr>\n",
       "    <tr>\n",
       "      <th>15</th>\n",
       "      <td>6677</td>\n",
       "      <td>[id289378389|Fatal], Ярославль очень приличный...</td>\n",
       "      <td>1</td>\n",
       "      <td>2</td>\n",
       "      <td>False</td>\n",
       "    </tr>\n",
       "    <tr>\n",
       "      <th>25</th>\n",
       "      <td>7657</td>\n",
       "      <td>[id401020082|Иван], ты думал они выпустят очер...</td>\n",
       "      <td>1</td>\n",
       "      <td>2</td>\n",
       "      <td>False</td>\n",
       "    </tr>\n",
       "    <tr>\n",
       "      <th>36</th>\n",
       "      <td>20769</td>\n",
       "      <td>Потому что они делают всю dirty work</td>\n",
       "      <td>2</td>\n",
       "      <td>0</td>\n",
       "      <td>False</td>\n",
       "    </tr>\n",
       "    <tr>\n",
       "      <th>41</th>\n",
       "      <td>17578</td>\n",
       "      <td>Именно поэтому к концертному сезону купила поя...</td>\n",
       "      <td>2</td>\n",
       "      <td>0</td>\n",
       "      <td>False</td>\n",
       "    </tr>\n",
       "    <tr>\n",
       "      <th>46</th>\n",
       "      <td>12195</td>\n",
       "      <td>[id10723909|Vanya], ахахахха, я просто не помн...</td>\n",
       "      <td>1</td>\n",
       "      <td>2</td>\n",
       "      <td>False</td>\n",
       "    </tr>\n",
       "    <tr>\n",
       "      <th>47</th>\n",
       "      <td>32156</td>\n",
       "      <td>Когда сначала негодовал что два концерта в оди...</td>\n",
       "      <td>2</td>\n",
       "      <td>0</td>\n",
       "      <td>False</td>\n",
       "    </tr>\n",
       "    <tr>\n",
       "      <th>48</th>\n",
       "      <td>1479</td>\n",
       "      <td>\"Главный гитарист 21 века\" как интересно это г...</td>\n",
       "      <td>2</td>\n",
       "      <td>0</td>\n",
       "      <td>False</td>\n",
       "    </tr>\n",
       "    <tr>\n",
       "      <th>55</th>\n",
       "      <td>7095</td>\n",
       "      <td>[id156904779|Елена], молодежи в этой очереди н...</td>\n",
       "      <td>1</td>\n",
       "      <td>2</td>\n",
       "      <td>False</td>\n",
       "    </tr>\n",
       "    <tr>\n",
       "      <th>65</th>\n",
       "      <td>2110</td>\n",
       "      <td>[id184492956|Лиза], хотелось бы верить💖</td>\n",
       "      <td>1</td>\n",
       "      <td>2</td>\n",
       "      <td>False</td>\n",
       "    </tr>\n",
       "    <tr>\n",
       "      <th>72</th>\n",
       "      <td>26441</td>\n",
       "      <td>поставил на работе деспасито на репит сижу кай...</td>\n",
       "      <td>0</td>\n",
       "      <td>2</td>\n",
       "      <td>False</td>\n",
       "    </tr>\n",
       "    <tr>\n",
       "      <th>80</th>\n",
       "      <td>13767</td>\n",
       "      <td>[id333655646|Алина], увезли - собственно за то...</td>\n",
       "      <td>1</td>\n",
       "      <td>2</td>\n",
       "      <td>False</td>\n",
       "    </tr>\n",
       "    <tr>\n",
       "      <th>100</th>\n",
       "      <td>41884</td>\n",
       "      <td>Как будто эти группы только старики слушают😕😠</td>\n",
       "      <td>2</td>\n",
       "      <td>0</td>\n",
       "      <td>False</td>\n",
       "    </tr>\n",
       "    <tr>\n",
       "      <th>102</th>\n",
       "      <td>2473</td>\n",
       "      <td>[id326847914|Savva], типа того :)</td>\n",
       "      <td>1</td>\n",
       "      <td>2</td>\n",
       "      <td>False</td>\n",
       "    </tr>\n",
       "    <tr>\n",
       "      <th>103</th>\n",
       "      <td>6093</td>\n",
       "      <td>[id152398910|Миха], там вроде если больше ста ...</td>\n",
       "      <td>1</td>\n",
       "      <td>2</td>\n",
       "      <td>False</td>\n",
       "    </tr>\n",
       "    <tr>\n",
       "      <th>106</th>\n",
       "      <td>1450</td>\n",
       "      <td>[id223713590|Екатерина], ну на фоне того, каку...</td>\n",
       "      <td>1</td>\n",
       "      <td>2</td>\n",
       "      <td>False</td>\n",
       "    </tr>\n",
       "    <tr>\n",
       "      <th>127</th>\n",
       "      <td>15021</td>\n",
       "      <td>[id204629850|Андрей], да? Просто я видел 2-3 к...</td>\n",
       "      <td>1</td>\n",
       "      <td>2</td>\n",
       "      <td>False</td>\n",
       "    </tr>\n",
       "    <tr>\n",
       "      <th>136</th>\n",
       "      <td>19158</td>\n",
       "      <td>[id142633448|Тамари], потому что ещё одну отме...</td>\n",
       "      <td>2</td>\n",
       "      <td>0</td>\n",
       "      <td>False</td>\n",
       "    </tr>\n",
       "    <tr>\n",
       "      <th>152</th>\n",
       "      <td>13365</td>\n",
       "      <td>Открывали бы фест Twenty One Pilots и пол выст...</td>\n",
       "      <td>2</td>\n",
       "      <td>0</td>\n",
       "      <td>False</td>\n",
       "    </tr>\n",
       "    <tr>\n",
       "      <th>156</th>\n",
       "      <td>45577</td>\n",
       "      <td>купил билет на сигет а еду на tomorrowland мис...</td>\n",
       "      <td>0</td>\n",
       "      <td>2</td>\n",
       "      <td>False</td>\n",
       "    </tr>\n",
       "    <tr>\n",
       "      <th>158</th>\n",
       "      <td>42013</td>\n",
       "      <td>вот раньше была группа мультфильмы а сейчас ес...</td>\n",
       "      <td>0</td>\n",
       "      <td>2</td>\n",
       "      <td>False</td>\n",
       "    </tr>\n",
       "    <tr>\n",
       "      <th>202</th>\n",
       "      <td>15965</td>\n",
       "      <td>[id222969842|Stanislava], блятб стасян.....</td>\n",
       "      <td>2</td>\n",
       "      <td>1</td>\n",
       "      <td>False</td>\n",
       "    </tr>\n",
       "    <tr>\n",
       "      <th>203</th>\n",
       "      <td>2114</td>\n",
       "      <td>[id122403684|Мария], Их фильм/концерт Halber M...</td>\n",
       "      <td>1</td>\n",
       "      <td>2</td>\n",
       "      <td>False</td>\n",
       "    </tr>\n",
       "    <tr>\n",
       "      <th>217</th>\n",
       "      <td>29039</td>\n",
       "      <td>меня одну смущает отсутствие томо везде</td>\n",
       "      <td>0</td>\n",
       "      <td>2</td>\n",
       "      <td>False</td>\n",
       "    </tr>\n",
       "    <tr>\n",
       "      <th>234</th>\n",
       "      <td>6678</td>\n",
       "      <td>[id677517|Zhenya], да да конечно но надо оцени...</td>\n",
       "      <td>1</td>\n",
       "      <td>2</td>\n",
       "      <td>False</td>\n",
       "    </tr>\n",
       "    <tr>\n",
       "      <th>235</th>\n",
       "      <td>29237</td>\n",
       "      <td>[id189067726|Рустем], 1 пара палочек стоит от ...</td>\n",
       "      <td>2</td>\n",
       "      <td>1</td>\n",
       "      <td>False</td>\n",
       "    </tr>\n",
       "    <tr>\n",
       "      <th>237</th>\n",
       "      <td>24409</td>\n",
       "      <td>уроки танцев хаски</td>\n",
       "      <td>0</td>\n",
       "      <td>2</td>\n",
       "      <td>False</td>\n",
       "    </tr>\n",
       "    <tr>\n",
       "      <th>244</th>\n",
       "      <td>12123</td>\n",
       "      <td>[id132480317|Екатерина], Можно и в другие горо...</td>\n",
       "      <td>1</td>\n",
       "      <td>2</td>\n",
       "      <td>False</td>\n",
       "    </tr>\n",
       "    <tr>\n",
       "      <th>249</th>\n",
       "      <td>10483</td>\n",
       "      <td>[id135436730|Маша], \"ждала и ещё подождешь\" (с...</td>\n",
       "      <td>1</td>\n",
       "      <td>2</td>\n",
       "      <td>False</td>\n",
       "    </tr>\n",
       "    <tr>\n",
       "      <th>...</th>\n",
       "      <td>...</td>\n",
       "      <td>...</td>\n",
       "      <td>...</td>\n",
       "      <td>...</td>\n",
       "      <td>...</td>\n",
       "    </tr>\n",
       "    <tr>\n",
       "      <th>12757</th>\n",
       "      <td>24515</td>\n",
       "      <td>Такой же как коэффициент на чемпионство лестер...</td>\n",
       "      <td>2</td>\n",
       "      <td>0</td>\n",
       "      <td>False</td>\n",
       "    </tr>\n",
       "    <tr>\n",
       "      <th>12758</th>\n",
       "      <td>23576</td>\n",
       "      <td>[id23236337|Сергей], про Сержа 💕</td>\n",
       "      <td>2</td>\n",
       "      <td>1</td>\n",
       "      <td>False</td>\n",
       "    </tr>\n",
       "    <tr>\n",
       "      <th>12761</th>\n",
       "      <td>13161</td>\n",
       "      <td>[id322946990|Кирилл], заходишь в любой графиче...</td>\n",
       "      <td>1</td>\n",
       "      <td>2</td>\n",
       "      <td>False</td>\n",
       "    </tr>\n",
       "    <tr>\n",
       "      <th>12765</th>\n",
       "      <td>4128</td>\n",
       "      <td>[id97977746|Ion], крис углов</td>\n",
       "      <td>1</td>\n",
       "      <td>2</td>\n",
       "      <td>False</td>\n",
       "    </tr>\n",
       "    <tr>\n",
       "      <th>12772</th>\n",
       "      <td>50718</td>\n",
       "      <td>возрастное ограничение на концерте брингов в 2...</td>\n",
       "      <td>0</td>\n",
       "      <td>2</td>\n",
       "      <td>False</td>\n",
       "    </tr>\n",
       "    <tr>\n",
       "      <th>12780</th>\n",
       "      <td>41102</td>\n",
       "      <td>Как и фанаты группы Pain.</td>\n",
       "      <td>2</td>\n",
       "      <td>0</td>\n",
       "      <td>False</td>\n",
       "    </tr>\n",
       "    <tr>\n",
       "      <th>12790</th>\n",
       "      <td>5426</td>\n",
       "      <td>[id14134907|Дарья], да они всегда были.</td>\n",
       "      <td>1</td>\n",
       "      <td>2</td>\n",
       "      <td>False</td>\n",
       "    </tr>\n",
       "    <tr>\n",
       "      <th>12798</th>\n",
       "      <td>4836</td>\n",
       "      <td>как сокращенно называть 1975</td>\n",
       "      <td>0</td>\n",
       "      <td>2</td>\n",
       "      <td>False</td>\n",
       "    </tr>\n",
       "    <tr>\n",
       "      <th>12802</th>\n",
       "      <td>46680</td>\n",
       "      <td>взяла автограф на руке как мыться</td>\n",
       "      <td>0</td>\n",
       "      <td>2</td>\n",
       "      <td>False</td>\n",
       "    </tr>\n",
       "    <tr>\n",
       "      <th>12805</th>\n",
       "      <td>40547</td>\n",
       "      <td>еще было бы здорово потусить на одном из конце...</td>\n",
       "      <td>2</td>\n",
       "      <td>0</td>\n",
       "      <td>False</td>\n",
       "    </tr>\n",
       "    <tr>\n",
       "      <th>12809</th>\n",
       "      <td>9476</td>\n",
       "      <td>[id388269692|Карина],</td>\n",
       "      <td>1</td>\n",
       "      <td>2</td>\n",
       "      <td>False</td>\n",
       "    </tr>\n",
       "    <tr>\n",
       "      <th>12814</th>\n",
       "      <td>38339</td>\n",
       "      <td>[id436004290|Варвара], ты наверно уже миллионы...</td>\n",
       "      <td>2</td>\n",
       "      <td>1</td>\n",
       "      <td>False</td>\n",
       "    </tr>\n",
       "    <tr>\n",
       "      <th>12831</th>\n",
       "      <td>46905</td>\n",
       "      <td>my chemical romance концерты 2017</td>\n",
       "      <td>0</td>\n",
       "      <td>2</td>\n",
       "      <td>False</td>\n",
       "    </tr>\n",
       "    <tr>\n",
       "      <th>12837</th>\n",
       "      <td>39379</td>\n",
       "      <td>[id222643198|Ася], теперь мою боль понимаешь к...</td>\n",
       "      <td>2</td>\n",
       "      <td>1</td>\n",
       "      <td>False</td>\n",
       "    </tr>\n",
       "    <tr>\n",
       "      <th>12838</th>\n",
       "      <td>46731</td>\n",
       "      <td>зачем лаури юлонен из the rasmus состриг свои ...</td>\n",
       "      <td>0</td>\n",
       "      <td>2</td>\n",
       "      <td>False</td>\n",
       "    </tr>\n",
       "    <tr>\n",
       "      <th>12859</th>\n",
       "      <td>14029</td>\n",
       "      <td>[id273597433|Екатерина],  Точно не могу сказат...</td>\n",
       "      <td>1</td>\n",
       "      <td>2</td>\n",
       "      <td>False</td>\n",
       "    </tr>\n",
       "    <tr>\n",
       "      <th>12874</th>\n",
       "      <td>21854</td>\n",
       "      <td>*ac/dc - thunderstruck playing in the distance*</td>\n",
       "      <td>0</td>\n",
       "      <td>2</td>\n",
       "      <td>False</td>\n",
       "    </tr>\n",
       "    <tr>\n",
       "      <th>12878</th>\n",
       "      <td>15101</td>\n",
       "      <td>[id137902935|Алиса], конечно, они бы просто не...</td>\n",
       "      <td>1</td>\n",
       "      <td>2</td>\n",
       "      <td>False</td>\n",
       "    </tr>\n",
       "    <tr>\n",
       "      <th>12882</th>\n",
       "      <td>2142</td>\n",
       "      <td>[id122403684|Мария], эх, ну да. Нью Йорк Доллс...</td>\n",
       "      <td>1</td>\n",
       "      <td>2</td>\n",
       "      <td>False</td>\n",
       "    </tr>\n",
       "    <tr>\n",
       "      <th>12886</th>\n",
       "      <td>22650</td>\n",
       "      <td>если не едете на Park Live (такие люди существ...</td>\n",
       "      <td>0</td>\n",
       "      <td>2</td>\n",
       "      <td>False</td>\n",
       "    </tr>\n",
       "    <tr>\n",
       "      <th>12894</th>\n",
       "      <td>8529</td>\n",
       "      <td>мне еще мелкой и несовершеннолетней тогда было...</td>\n",
       "      <td>2</td>\n",
       "      <td>0</td>\n",
       "      <td>False</td>\n",
       "    </tr>\n",
       "    <tr>\n",
       "      <th>12906</th>\n",
       "      <td>27433</td>\n",
       "      <td>На бритву давайте, а то он со своей чёрной лоп...</td>\n",
       "      <td>2</td>\n",
       "      <td>0</td>\n",
       "      <td>False</td>\n",
       "    </tr>\n",
       "    <tr>\n",
       "      <th>12910</th>\n",
       "      <td>11923</td>\n",
       "      <td>[id91240185|Andrey], а вдруг там выкрик какой-...</td>\n",
       "      <td>1</td>\n",
       "      <td>2</td>\n",
       "      <td>False</td>\n",
       "    </tr>\n",
       "    <tr>\n",
       "      <th>12925</th>\n",
       "      <td>661</td>\n",
       "      <td>Тошько что вернулся с концертов в Краснодаре и...</td>\n",
       "      <td>2</td>\n",
       "      <td>0</td>\n",
       "      <td>False</td>\n",
       "    </tr>\n",
       "    <tr>\n",
       "      <th>12930</th>\n",
       "      <td>3578</td>\n",
       "      <td>[id135469077|Мария], тебе какой ремень, плоски...</td>\n",
       "      <td>1</td>\n",
       "      <td>2</td>\n",
       "      <td>False</td>\n",
       "    </tr>\n",
       "    <tr>\n",
       "      <th>12940</th>\n",
       "      <td>46298</td>\n",
       "      <td>сборник поздравлений концертных задротов на вс...</td>\n",
       "      <td>0</td>\n",
       "      <td>2</td>\n",
       "      <td>False</td>\n",
       "    </tr>\n",
       "    <tr>\n",
       "      <th>12947</th>\n",
       "      <td>15106</td>\n",
       "      <td>на самом деле в фильме местами пел сам Рами, с...</td>\n",
       "      <td>2</td>\n",
       "      <td>0</td>\n",
       "      <td>False</td>\n",
       "    </tr>\n",
       "    <tr>\n",
       "      <th>12952</th>\n",
       "      <td>14331</td>\n",
       "      <td>[id222969842|Станислава], анонсировали их не т...</td>\n",
       "      <td>1</td>\n",
       "      <td>2</td>\n",
       "      <td>False</td>\n",
       "    </tr>\n",
       "    <tr>\n",
       "      <th>12954</th>\n",
       "      <td>1562</td>\n",
       "      <td>[id87406040|Милки], неа :)</td>\n",
       "      <td>1</td>\n",
       "      <td>2</td>\n",
       "      <td>False</td>\n",
       "    </tr>\n",
       "    <tr>\n",
       "      <th>12956</th>\n",
       "      <td>47493</td>\n",
       "      <td>это мурашки от музыки или от кондиционера в клубе</td>\n",
       "      <td>0</td>\n",
       "      <td>2</td>\n",
       "      <td>False</td>\n",
       "    </tr>\n",
       "  </tbody>\n",
       "</table>\n",
       "<p>2093 rows × 5 columns</p>\n",
       "</div>"
      ],
      "text/plain": [
       "       index                                               text  y_true  \\\n",
       "4      26077  Смотреть концерт без загораживающих обзор смар...       2   \n",
       "5      44795     скорее бы вышла группа я хоть забуду что устал       0   \n",
       "15      6677  [id289378389|Fatal], Ярославль очень приличный...       1   \n",
       "25      7657  [id401020082|Иван], ты думал они выпустят очер...       1   \n",
       "36     20769               Потому что они делают всю dirty work       2   \n",
       "41     17578  Именно поэтому к концертному сезону купила поя...       2   \n",
       "46     12195  [id10723909|Vanya], ахахахха, я просто не помн...       1   \n",
       "47     32156  Когда сначала негодовал что два концерта в оди...       2   \n",
       "48      1479  \"Главный гитарист 21 века\" как интересно это г...       2   \n",
       "55      7095  [id156904779|Елена], молодежи в этой очереди н...       1   \n",
       "65      2110            [id184492956|Лиза], хотелось бы верить💖       1   \n",
       "72     26441  поставил на работе деспасито на репит сижу кай...       0   \n",
       "80     13767  [id333655646|Алина], увезли - собственно за то...       1   \n",
       "100    41884      Как будто эти группы только старики слушают😕😠       2   \n",
       "102     2473                  [id326847914|Savva], типа того :)       1   \n",
       "103     6093  [id152398910|Миха], там вроде если больше ста ...       1   \n",
       "106     1450  [id223713590|Екатерина], ну на фоне того, каку...       1   \n",
       "127    15021  [id204629850|Андрей], да? Просто я видел 2-3 к...       1   \n",
       "136    19158  [id142633448|Тамари], потому что ещё одну отме...       2   \n",
       "152    13365  Открывали бы фест Twenty One Pilots и пол выст...       2   \n",
       "156    45577  купил билет на сигет а еду на tomorrowland мис...       0   \n",
       "158    42013  вот раньше была группа мультфильмы а сейчас ес...       0   \n",
       "202    15965        [id222969842|Stanislava], блятб стасян.....       2   \n",
       "203     2114  [id122403684|Мария], Их фильм/концерт Halber M...       1   \n",
       "217    29039            меня одну смущает отсутствие томо везде       0   \n",
       "234     6678  [id677517|Zhenya], да да конечно но надо оцени...       1   \n",
       "235    29237  [id189067726|Рустем], 1 пара палочек стоит от ...       2   \n",
       "237    24409                                 уроки танцев хаски       0   \n",
       "244    12123  [id132480317|Екатерина], Можно и в другие горо...       1   \n",
       "249    10483  [id135436730|Маша], \"ждала и ещё подождешь\" (с...       1   \n",
       "...      ...                                                ...     ...   \n",
       "12757  24515  Такой же как коэффициент на чемпионство лестер...       2   \n",
       "12758  23576                   [id23236337|Сергей], про Сержа 💕       2   \n",
       "12761  13161  [id322946990|Кирилл], заходишь в любой графиче...       1   \n",
       "12765   4128                       [id97977746|Ion], крис углов       1   \n",
       "12772  50718  возрастное ограничение на концерте брингов в 2...       0   \n",
       "12780  41102                          Как и фанаты группы Pain.       2   \n",
       "12790   5426            [id14134907|Дарья], да они всегда были.       1   \n",
       "12798   4836                       как сокращенно называть 1975       0   \n",
       "12802  46680                  взяла автограф на руке как мыться       0   \n",
       "12805  40547  еще было бы здорово потусить на одном из конце...       2   \n",
       "12809   9476                              [id388269692|Карина],       1   \n",
       "12814  38339  [id436004290|Варвара], ты наверно уже миллионы...       2   \n",
       "12831  46905                  my chemical romance концерты 2017       0   \n",
       "12837  39379  [id222643198|Ася], теперь мою боль понимаешь к...       2   \n",
       "12838  46731  зачем лаури юлонен из the rasmus состриг свои ...       0   \n",
       "12859  14029  [id273597433|Екатерина],  Точно не могу сказат...       1   \n",
       "12874  21854    *ac/dc - thunderstruck playing in the distance*       0   \n",
       "12878  15101  [id137902935|Алиса], конечно, они бы просто не...       1   \n",
       "12882   2142  [id122403684|Мария], эх, ну да. Нью Йорк Доллс...       1   \n",
       "12886  22650  если не едете на Park Live (такие люди существ...       0   \n",
       "12894   8529  мне еще мелкой и несовершеннолетней тогда было...       2   \n",
       "12906  27433  На бритву давайте, а то он со своей чёрной лоп...       2   \n",
       "12910  11923  [id91240185|Andrey], а вдруг там выкрик какой-...       1   \n",
       "12925    661  Тошько что вернулся с концертов в Краснодаре и...       2   \n",
       "12930   3578  [id135469077|Мария], тебе какой ремень, плоски...       1   \n",
       "12940  46298  сборник поздравлений концертных задротов на вс...       0   \n",
       "12947  15106  на самом деле в фильме местами пел сам Рами, с...       2   \n",
       "12952  14331  [id222969842|Станислава], анонсировали их не т...       1   \n",
       "12954   1562                         [id87406040|Милки], неа :)       1   \n",
       "12956  47493  это мурашки от музыки или от кондиционера в клубе       0   \n",
       "\n",
       "       y_pred  result  \n",
       "4           0   False  \n",
       "5           2   False  \n",
       "15          2   False  \n",
       "25          2   False  \n",
       "36          0   False  \n",
       "41          0   False  \n",
       "46          2   False  \n",
       "47          0   False  \n",
       "48          0   False  \n",
       "55          2   False  \n",
       "65          2   False  \n",
       "72          2   False  \n",
       "80          2   False  \n",
       "100         0   False  \n",
       "102         2   False  \n",
       "103         2   False  \n",
       "106         2   False  \n",
       "127         2   False  \n",
       "136         0   False  \n",
       "152         0   False  \n",
       "156         2   False  \n",
       "158         2   False  \n",
       "202         1   False  \n",
       "203         2   False  \n",
       "217         2   False  \n",
       "234         2   False  \n",
       "235         1   False  \n",
       "237         2   False  \n",
       "244         2   False  \n",
       "249         2   False  \n",
       "...       ...     ...  \n",
       "12757       0   False  \n",
       "12758       1   False  \n",
       "12761       2   False  \n",
       "12765       2   False  \n",
       "12772       2   False  \n",
       "12780       0   False  \n",
       "12790       2   False  \n",
       "12798       2   False  \n",
       "12802       2   False  \n",
       "12805       0   False  \n",
       "12809       2   False  \n",
       "12814       1   False  \n",
       "12831       2   False  \n",
       "12837       1   False  \n",
       "12838       2   False  \n",
       "12859       2   False  \n",
       "12874       2   False  \n",
       "12878       2   False  \n",
       "12882       2   False  \n",
       "12886       2   False  \n",
       "12894       0   False  \n",
       "12906       0   False  \n",
       "12910       2   False  \n",
       "12925       0   False  \n",
       "12930       2   False  \n",
       "12940       2   False  \n",
       "12947       0   False  \n",
       "12952       2   False  \n",
       "12954       2   False  \n",
       "12956       2   False  \n",
       "\n",
       "[2093 rows x 5 columns]"
      ]
     },
     "execution_count": 55,
     "metadata": {
      "tags": []
     },
     "output_type": "execute_result"
    }
   ],
   "source": [
    "# 0 - post, 1 - comment_to_comment. 2 - comment\n",
    "analize_df[analize_df['result']==False]"
   ]
  },
  {
   "cell_type": "markdown",
   "metadata": {
    "colab_type": "text",
    "id": "J-dTFZl6y6Qf"
   },
   "source": [
    "Судя по датафрейму, нейросетка так и не смогла уловить, что тексты, начинающиеся с  \" [id12345678....]\"    относятся к комментам второго уровня. Неужели это настолько сложно?  Попробую добавить веса, чтобы нейросеть уделяла больше внимания комментам второго уровня.\n",
    "Про веса читала вот здесь:\n",
    "https://datascience.stackexchange.com/questions/13490/how-to-set-class-weights-for-imbalanced-classes-in-keras/42534#42534"
   ]
  },
  {
   "cell_type": "markdown",
   "metadata": {
    "colab_type": "text",
    "id": "f97FmY2M8PQr"
   },
   "source": [
    "## 7."
   ]
  },
  {
   "cell_type": "code",
   "execution_count": 0,
   "metadata": {
    "colab": {},
    "colab_type": "code",
    "id": "VjiXZiGK8SKO"
   },
   "outputs": [],
   "source": [
    "x_train, x_test, y_train, y_test = train_test_split(df_features.text, df_features.label)"
   ]
  },
  {
   "cell_type": "code",
   "execution_count": 10,
   "metadata": {
    "colab": {
     "base_uri": "https://localhost:8080/",
     "height": 52
    },
    "colab_type": "code",
    "executionInfo": {
     "elapsed": 6199,
     "status": "ok",
     "timestamp": 1556435942944,
     "user": {
      "displayName": "Valerie Shelgunova",
      "photoUrl": "https://lh5.googleusercontent.com/-i2CX_QSsamo/AAAAAAAAAAI/AAAAAAAAAB8/YRSVdMujpXw/s64/photo.jpg",
      "userId": "14712883095412086889"
     },
     "user_tz": -180
    },
    "id": "Fptu2NTw8TFT",
    "outputId": "9f6d4eeb-3e80-401f-841c-a8d30c254f7a"
   },
   "outputs": [
    {
     "data": {
      "text/plain": [
       "<38877x8420 sparse matrix of type '<class 'numpy.int64'>'\n",
       "\twith 2078182 stored elements in Compressed Sparse Row format>"
      ]
     },
     "execution_count": 10,
     "metadata": {
      "tags": []
     },
     "output_type": "execute_result"
    }
   ],
   "source": [
    "vectorizer = CountVectorizer(analyzer=\"char\", ngram_range=(2,2)) \n",
    "vectorizer.fit(df_features.text)\n",
    "\n",
    "X_train = vectorizer.transform(x_train)\n",
    "X_test  = vectorizer.transform(x_test)\n",
    "X_train"
   ]
  },
  {
   "cell_type": "code",
   "execution_count": 0,
   "metadata": {
    "colab": {},
    "colab_type": "code",
    "id": "BKVQ0H2h8S5b"
   },
   "outputs": [],
   "source": [
    "class_weights = class_weight.compute_class_weight('balanced',\n",
    "                                                 np.unique(y_train),\n",
    "                                                 y_train)"
   ]
  },
  {
   "cell_type": "code",
   "execution_count": 12,
   "metadata": {
    "colab": {
     "base_uri": "https://localhost:8080/",
     "height": 35
    },
    "colab_type": "code",
    "executionInfo": {
     "elapsed": 398,
     "status": "ok",
     "timestamp": 1556435950031,
     "user": {
      "displayName": "Valerie Shelgunova",
      "photoUrl": "https://lh5.googleusercontent.com/-i2CX_QSsamo/AAAAAAAAAAI/AAAAAAAAAB8/YRSVdMujpXw/s64/photo.jpg",
      "userId": "14712883095412086889"
     },
     "user_tz": -180
    },
    "id": "nGS1eXgo-gkF",
    "outputId": "0e0d5574-8b99-40ce-9605-2925c87dcdb3"
   },
   "outputs": [
    {
     "data": {
      "text/plain": [
       "array([1.27036565, 3.84768409, 0.51205153])"
      ]
     },
     "execution_count": 12,
     "metadata": {
      "tags": []
     },
     "output_type": "execute_result"
    }
   ],
   "source": [
    "class_weights\n",
    "# 0 - post, 1 - comment_to_comment. 2 - comment\n",
    "# всё верно, у комментов к комментам самый большой вес, у просто комментов - самый маленький, т.к. их больше всего."
   ]
  },
  {
   "cell_type": "code",
   "execution_count": 0,
   "metadata": {
    "colab": {},
    "colab_type": "code",
    "id": "rLgFeuqK9Qdx"
   },
   "outputs": [],
   "source": [
    "input_dim = X_train.shape[1]"
   ]
  },
  {
   "cell_type": "code",
   "execution_count": 0,
   "metadata": {
    "colab": {},
    "colab_type": "code",
    "id": "_aNj4lOc9XkX"
   },
   "outputs": [],
   "source": [
    "sevensModel = getModel([input_dim,100,100, 100, 3])"
   ]
  },
  {
   "cell_type": "code",
   "execution_count": 22,
   "metadata": {
    "colab": {
     "base_uri": "https://localhost:8080/",
     "height": 284
    },
    "colab_type": "code",
    "executionInfo": {
     "elapsed": 566,
     "status": "ok",
     "timestamp": 1556436326901,
     "user": {
      "displayName": "Valerie Shelgunova",
      "photoUrl": "https://lh5.googleusercontent.com/-i2CX_QSsamo/AAAAAAAAAAI/AAAAAAAAAB8/YRSVdMujpXw/s64/photo.jpg",
      "userId": "14712883095412086889"
     },
     "user_tz": -180
    },
    "id": "U8hWCujS9lTM",
    "outputId": "0973240b-d8e8-4ba8-aa26-4f8529d75615"
   },
   "outputs": [
    {
     "name": "stdout",
     "output_type": "stream",
     "text": [
      "_________________________________________________________________\n",
      "Layer (type)                 Output Shape              Param #   \n",
      "=================================================================\n",
      "dense_7 (Dense)              (None, 100)               842100    \n",
      "_________________________________________________________________\n",
      "dense_8 (Dense)              (None, 100)               10100     \n",
      "_________________________________________________________________\n",
      "dense_9 (Dense)              (None, 100)               10100     \n",
      "_________________________________________________________________\n",
      "dense_10 (Dense)             (None, 3)                 303       \n",
      "=================================================================\n",
      "Total params: 862,603\n",
      "Trainable params: 862,603\n",
      "Non-trainable params: 0\n",
      "_________________________________________________________________\n"
     ]
    }
   ],
   "source": [
    "sevensModel.summary()"
   ]
  },
  {
   "cell_type": "code",
   "execution_count": 23,
   "metadata": {
    "colab": {
     "base_uri": "https://localhost:8080/",
     "height": 269
    },
    "colab_type": "code",
    "executionInfo": {
     "elapsed": 5,
     "status": "ok",
     "timestamp": 1556436534267,
     "user": {
      "displayName": "Valerie Shelgunova",
      "photoUrl": "https://lh5.googleusercontent.com/-i2CX_QSsamo/AAAAAAAAAAI/AAAAAAAAAB8/YRSVdMujpXw/s64/photo.jpg",
      "userId": "14712883095412086889"
     },
     "user_tz": -180
    },
    "id": "tun1exQk9yPx",
    "outputId": "a3aff1c6-bcce-427c-9319-988f5df1033b"
   },
   "outputs": [
    {
     "data": {
      "image/png": "[encoded data removed]",
      "text/plain": [
       "<Figure size 432x288 with 1 Axes>"
      ]
     },
     "metadata": {
      "tags": []
     },
     "output_type": "display_data"
    }
   ],
   "source": [
    "history = sevensModel.fit(X_train, y_train, class_weight= {0:1.27977484, 1:3.8534047, 2:0.510438}, epochs=10, callbacks=[plot_losses])"
   ]
  },
  {
   "cell_type": "code",
   "execution_count": 25,
   "metadata": {
    "colab": {
     "base_uri": "https://localhost:8080/",
     "height": 195
    },
    "colab_type": "code",
    "executionInfo": {
     "elapsed": 1873,
     "status": "ok",
     "timestamp": 1556436573982,
     "user": {
      "displayName": "Valerie Shelgunova",
      "photoUrl": "https://lh5.googleusercontent.com/-i2CX_QSsamo/AAAAAAAAAAI/AAAAAAAAAB8/YRSVdMujpXw/s64/photo.jpg",
      "userId": "14712883095412086889"
     },
     "user_tz": -180
    },
    "id": "FYXfc64g-S96",
    "outputId": "2739744c-5d0e-4744-e9db-d83b10aacb1f"
   },
   "outputs": [
    {
     "name": "stdout",
     "output_type": "stream",
     "text": [
      "              precision    recall  f1-score   support\n",
      "\n",
      "           0       0.71      0.91      0.80      3368\n",
      "           1       0.40      0.51      0.45      1127\n",
      "           2       0.89      0.76      0.82      8464\n",
      "\n",
      "   micro avg       0.78      0.78      0.78     12959\n",
      "   macro avg       0.67      0.72      0.69     12959\n",
      "weighted avg       0.80      0.78      0.78     12959\n",
      "\n"
     ]
    }
   ],
   "source": [
    "predY = classif_report(sevensModel)"
   ]
  },
  {
   "cell_type": "markdown",
   "metadata": {
    "colab_type": "text",
    "id": "J7LfG0EE-qkv"
   },
   "source": [
    "В общем и целом результаты стали хуже. Попробую понизить вес класса комментов к комментам, чтоб не случался такой сильный перекос."
   ]
  },
  {
   "cell_type": "code",
   "execution_count": 28,
   "metadata": {
    "colab": {
     "base_uri": "https://localhost:8080/",
     "height": 269
    },
    "colab_type": "code",
    "executionInfo": {
     "elapsed": 10,
     "status": "ok",
     "timestamp": 1556437006319,
     "user": {
      "displayName": "Valerie Shelgunova",
      "photoUrl": "https://lh5.googleusercontent.com/-i2CX_QSsamo/AAAAAAAAAAI/AAAAAAAAAB8/YRSVdMujpXw/s64/photo.jpg",
      "userId": "14712883095412086889"
     },
     "user_tz": -180
    },
    "id": "TmOnTeSW-pEt",
    "outputId": "5e0a5d82-715f-4c3c-fc31-2c65337c39c2"
   },
   "outputs": [
    {
     "data": {
      "image/png": "[encoded data removed]",
      "text/plain": [
       "<Figure size 432x288 with 1 Axes>"
      ]
     },
     "metadata": {
      "tags": []
     },
     "output_type": "display_data"
    }
   ],
   "source": [
    "history = sevensModel.fit(X_train, y_train, class_weight= {0:1.27977484, 1:2.8534047, 2:0.510438}, epochs=15, callbacks=[plot_losses])"
   ]
  },
  {
   "cell_type": "code",
   "execution_count": 29,
   "metadata": {
    "colab": {
     "base_uri": "https://localhost:8080/",
     "height": 195
    },
    "colab_type": "code",
    "executionInfo": {
     "elapsed": 1922,
     "status": "ok",
     "timestamp": 1556437011289,
     "user": {
      "displayName": "Valerie Shelgunova",
      "photoUrl": "https://lh5.googleusercontent.com/-i2CX_QSsamo/AAAAAAAAAAI/AAAAAAAAAB8/YRSVdMujpXw/s64/photo.jpg",
      "userId": "14712883095412086889"
     },
     "user_tz": -180
    },
    "id": "sMqngq4W_zq3",
    "outputId": "7f69ee6b-15eb-4e65-a635-c552e6614246"
   },
   "outputs": [
    {
     "name": "stdout",
     "output_type": "stream",
     "text": [
      "              precision    recall  f1-score   support\n",
      "\n",
      "           0       0.75      0.87      0.81      3368\n",
      "           1       0.42      0.49      0.45      1127\n",
      "           2       0.88      0.80      0.84      8464\n",
      "\n",
      "   micro avg       0.79      0.79      0.79     12959\n",
      "   macro avg       0.68      0.72      0.70     12959\n",
      "weighted avg       0.80      0.79      0.80     12959\n",
      "\n"
     ]
    }
   ],
   "source": [
    "predY = classif_report(sevensModel)"
   ]
  },
  {
   "cell_type": "markdown",
   "metadata": {
    "colab_type": "text",
    "id": "W_OCESAc_8nP"
   },
   "source": [
    "То есть веса здесь особой пользы не приносят. Комменты второго уровня распознаются чуть лучше, но за счет того, что остальные тексты распознаются хуже."
   ]
  },
  {
   "cell_type": "code",
   "execution_count": null,
   "metadata": {},
   "outputs": [],
   "source": []
  }
 ],
 "metadata": {
  "colab": {
   "collapsed_sections": [],
   "name": "Untitled5.ipynb",
   "provenance": [],
   "toc_visible": true,
   "version": "0.3.2"
  },
  "kernelspec": {
   "display_name": "Python 3",
   "language": "python",
   "name": "python3"
  },
  "language_info": {
   "codemirror_mode": {
    "name": "ipython",
    "version": 3
   },
   "file_extension": ".py",
   "mimetype": "text/x-python",
   "name": "python",
   "nbconvert_exporter": "python",
   "pygments_lexer": "ipython3",
   "version": "3.6.8"
  }
 },
 "nbformat": 4,
 "nbformat_minor": 1
}
