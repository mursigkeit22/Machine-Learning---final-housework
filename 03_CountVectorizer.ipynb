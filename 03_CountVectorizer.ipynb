{
 "cells": [
  {
   "cell_type": "markdown",
   "metadata": {},
   "source": [
    "Сейчас я попробую классифицировать тексты не на тех признаках, которые я сама выделила, а на тех, которые вернет КаунтВекторайзер"
   ]
  },
  {
   "cell_type": "code",
   "execution_count": 1,
   "metadata": {},
   "outputs": [],
   "source": [
    "import re\n",
    "import nltk\n",
    "import numpy as np\n",
    "import pandas as pd\n",
    "from nltk import word_tokenize\n",
    "from collections import Counter\n",
    "from nltk.corpus import stopwords\n",
    "from nltk.tokenize import wordpunct_tokenize\n",
    "import matplotlib.pyplot as plt\n",
    "import seaborn as sns\n",
    "%matplotlib inline\n"
   ]
  },
  {
   "cell_type": "code",
   "execution_count": 2,
   "metadata": {},
   "outputs": [],
   "source": [
    "from sklearn.feature_extraction.text import CountVectorizer, TfidfVectorizer\n",
    "from sklearn.cluster import KMeans\n",
    "from sklearn.metrics import adjusted_rand_score, homogeneity_score, completeness_score, v_measure_score\n",
    "from sklearn.model_selection import train_test_split\n",
    "from sklearn.feature_extraction.text import CountVectorizer\n",
    "from sklearn.linear_model import LogisticRegression\n",
    "from sklearn.metrics import classification_report\n",
    "from sklearn.decomposition import TruncatedSVD\n",
    "from sklearn.metrics.pairwise import cosine_similarity\n",
    "from sklearn.naive_bayes import MultinomialNB\n"
   ]
  },
  {
   "cell_type": "code",
   "execution_count": 3,
   "metadata": {
    "collapsed": true
   },
   "outputs": [
    {
     "name": "stdout",
     "output_type": "stream",
     "text": [
      "[nltk_data] Downloading package punkt to\n",
      "[nltk_data]     C:\\Users\\Lera\\AppData\\Roaming\\nltk_data...\n",
      "[nltk_data]   Package punkt is already up-to-date!\n"
     ]
    },
    {
     "data": {
      "text/plain": [
       "True"
      ]
     },
     "execution_count": 3,
     "metadata": {},
     "output_type": "execute_result"
    }
   ],
   "source": [
    "nltk.download('punkt')"
   ]
  },
  {
   "cell_type": "code",
   "execution_count": 4,
   "metadata": {},
   "outputs": [
    {
     "data": {
      "text/html": [
       "<div>\n",
       "<style scoped>\n",
       "    .dataframe tbody tr th:only-of-type {\n",
       "        vertical-align: middle;\n",
       "    }\n",
       "\n",
       "    .dataframe tbody tr th {\n",
       "        vertical-align: top;\n",
       "    }\n",
       "\n",
       "    .dataframe thead th {\n",
       "        text-align: right;\n",
       "    }\n",
       "</style>\n",
       "<table border=\"1\" class=\"dataframe\">\n",
       "  <thead>\n",
       "    <tr style=\"text-align: right;\">\n",
       "      <th></th>\n",
       "      <th>id</th>\n",
       "      <th>text</th>\n",
       "      <th>likes</th>\n",
       "      <th>label</th>\n",
       "    </tr>\n",
       "  </thead>\n",
       "  <tbody>\n",
       "    <tr>\n",
       "      <th>0</th>\n",
       "      <td>76000</td>\n",
       "      <td>#конкурс@the4gkz \\r\\nДля вашего удобства собра...</td>\n",
       "      <td>17</td>\n",
       "      <td>post</td>\n",
       "    </tr>\n",
       "    <tr>\n",
       "      <th>1</th>\n",
       "      <td>76914</td>\n",
       "      <td>Уже сегодня ночью (по МСК) начнётся один из са...</td>\n",
       "      <td>34</td>\n",
       "      <td>post</td>\n",
       "    </tr>\n",
       "    <tr>\n",
       "      <th>2</th>\n",
       "      <td>76917</td>\n",
       "      <td>Ого, Нина Кравиц в лайн-апе😲</td>\n",
       "      <td>0</td>\n",
       "      <td>comment</td>\n",
       "    </tr>\n",
       "    <tr>\n",
       "      <th>3</th>\n",
       "      <td>76920</td>\n",
       "      <td>[id17823823|Анастасия], с новым крутым шоу от ...</td>\n",
       "      <td>0</td>\n",
       "      <td>comment_to_comment</td>\n",
       "    </tr>\n",
       "    <tr>\n",
       "      <th>4</th>\n",
       "      <td>76922</td>\n",
       "      <td>Скину расписание на сегодня сюда. Время москов...</td>\n",
       "      <td>0</td>\n",
       "      <td>comment</td>\n",
       "    </tr>\n",
       "  </tbody>\n",
       "</table>\n",
       "</div>"
      ],
      "text/plain": [
       "      id                                               text  likes  \\\n",
       "0  76000  #конкурс@the4gkz \\r\\nДля вашего удобства собра...     17   \n",
       "1  76914  Уже сегодня ночью (по МСК) начнётся один из са...     34   \n",
       "2  76917                       Ого, Нина Кравиц в лайн-апе😲      0   \n",
       "3  76920  [id17823823|Анастасия], с новым крутым шоу от ...      0   \n",
       "4  76922  Скину расписание на сегодня сюда. Время москов...      0   \n",
       "\n",
       "                label  \n",
       "0                post  \n",
       "1                post  \n",
       "2             comment  \n",
       "3  comment_to_comment  \n",
       "4             comment  "
      ]
     },
     "execution_count": 4,
     "metadata": {},
     "output_type": "execute_result"
    }
   ],
   "source": [
    "df = pd.read_csv('gk4z_texts.csv')\n",
    "df.head()"
   ]
  },
  {
   "cell_type": "code",
   "execution_count": 5,
   "metadata": {},
   "outputs": [],
   "source": [
    "df.text.fillna('', inplace=True) # заменяем нан на пустую строку"
   ]
  },
  {
   "cell_type": "markdown",
   "metadata": {},
   "source": [
    "##### Сначала попробую все основные классификаторы и посмотрю, какие результаты. \n",
    "В качестве токенизатора взяла punkt_tokenizer, потому что я считаю, что здесь очень важно хорошее распознавание знаков препинания."
   ]
  },
  {
   "cell_type": "markdown",
   "metadata": {},
   "source": [
    "Intuitively, precision is the ability of the classifier not to label as positive a sample that is negative, and recall is the ability of the classifier to find all the positive samples. The F-measure can be interpreted as a weighted harmonic mean of the precision and recall."
   ]
  },
  {
   "cell_type": "code",
   "execution_count": 6,
   "metadata": {},
   "outputs": [],
   "source": [
    "vectorizer = CountVectorizer(tokenizer=wordpunct_tokenize)\n",
    "bow = vectorizer.fit_transform(df.text)\n",
    "X_train, X_test, y_train, y_test = train_test_split(bow, df.label)"
   ]
  },
  {
   "cell_type": "code",
   "execution_count": 7,
   "metadata": {},
   "outputs": [
    {
     "data": {
      "text/plain": [
       "<56200x68660 sparse matrix of type '<class 'numpy.int64'>'\n",
       "\twith 674699 stored elements in Compressed Sparse Row format>"
      ]
     },
     "execution_count": 7,
     "metadata": {},
     "output_type": "execute_result"
    }
   ],
   "source": [
    "bow"
   ]
  },
  {
   "cell_type": "code",
   "execution_count": 8,
   "metadata": {},
   "outputs": [
    {
     "data": {
      "text/plain": [
       "<42150x68660 sparse matrix of type '<class 'numpy.int64'>'\n",
       "\twith 507138 stored elements in Compressed Sparse Row format>"
      ]
     },
     "execution_count": 8,
     "metadata": {},
     "output_type": "execute_result"
    }
   ],
   "source": [
    "X_train"
   ]
  },
  {
   "cell_type": "markdown",
   "metadata": {},
   "source": [
    "##### LogisticRegression"
   ]
  },
  {
   "cell_type": "code",
   "execution_count": 24,
   "metadata": {},
   "outputs": [
    {
     "name": "stdout",
     "output_type": "stream",
     "text": [
      "                    precision    recall  f1-score   support\n",
      "\n",
      "           comment       0.87      0.94      0.90      9483\n",
      "comment_to_comment       0.65      0.43      0.52      1165\n",
      "              post       0.88      0.80      0.84      3402\n",
      "\n",
      "       avg / total       0.85      0.86      0.85     14050\n",
      "\n"
     ]
    }
   ],
   "source": [
    "lr = LogisticRegression()\n",
    "clf = lr.fit(X_train, y_train)\n",
    "print(classification_report(y_test, clf.predict(X_test)))"
   ]
  },
  {
   "cell_type": "markdown",
   "metadata": {},
   "source": [
    "Интересно, что результат не хуже, чем по признакам, которые я сама составляла, а для комментов второго уровня даже лучше"
   ]
  },
  {
   "cell_type": "markdown",
   "metadata": {},
   "source": [
    "##### TruncatedSVD + LogisticRegression"
   ]
  },
  {
   "cell_type": "code",
   "execution_count": 15,
   "metadata": {},
   "outputs": [
    {
     "data": {
      "text/plain": [
       "TruncatedSVD(algorithm='randomized', n_components=50, n_iter=7,\n",
       "       random_state=42, tol=0.0)"
      ]
     },
     "execution_count": 15,
     "metadata": {},
     "output_type": "execute_result"
    }
   ],
   "source": [
    "svd = TruncatedSVD(n_components=50, n_iter=7, random_state=42)\n",
    "svd.fit(bow)"
   ]
  },
  {
   "cell_type": "code",
   "execution_count": 16,
   "metadata": {},
   "outputs": [],
   "source": [
    "bow_svd = svd.transform(bow)\n",
    "X_train_svd, X_test_svd, y_train_svd, y_test_svd = train_test_split(bow_svd, df.label)"
   ]
  },
  {
   "cell_type": "code",
   "execution_count": 12,
   "metadata": {},
   "outputs": [
    {
     "data": {
      "text/plain": [
       "(56200, 500)"
      ]
     },
     "execution_count": 12,
     "metadata": {},
     "output_type": "execute_result"
    }
   ],
   "source": [
    "bow_svd.shape"
   ]
  },
  {
   "cell_type": "code",
   "execution_count": 14,
   "metadata": {},
   "outputs": [
    {
     "data": {
      "text/plain": [
       "(42150, 500)"
      ]
     },
     "execution_count": 14,
     "metadata": {},
     "output_type": "execute_result"
    }
   ],
   "source": [
    "X_train_svd.shape\n"
   ]
  },
  {
   "cell_type": "code",
   "execution_count": 17,
   "metadata": {},
   "outputs": [
    {
     "name": "stdout",
     "output_type": "stream",
     "text": [
      "                    precision    recall  f1-score   support\n",
      "\n",
      "           comment       0.79      0.95      0.86      9469\n",
      "comment_to_comment       0.41      0.08      0.14      1114\n",
      "              post       0.84      0.61      0.71      3467\n",
      "\n",
      "       avg / total       0.77      0.79      0.77     14050\n",
      "\n"
     ]
    }
   ],
   "source": [
    "clf_svd = LogisticRegression()\n",
    "clf_svd.fit(X_train_svd, y_train_svd)\n",
    "print(classification_report(y_test_svd, clf_svd.predict(X_test_svd)))"
   ]
  },
  {
   "cell_type": "markdown",
   "metadata": {},
   "source": [
    "##### Наивный Баес"
   ]
  },
  {
   "cell_type": "code",
   "execution_count": 8,
   "metadata": {},
   "outputs": [
    {
     "name": "stdout",
     "output_type": "stream",
     "text": [
      "                    precision    recall  f1-score   support\n",
      "\n",
      "           comment       0.82      0.91      0.86      9327\n",
      "comment_to_comment       0.56      0.27      0.36      1228\n",
      "              post       0.79      0.70      0.75      3495\n",
      "\n",
      "       avg / total       0.79      0.80      0.79     14050\n",
      "\n"
     ]
    }
   ],
   "source": [
    "nb = MultinomialNB()\n",
    "nbc = nb.fit(X_train, y_train)\n",
    "print(classification_report(y_test, nbc.predict(X_test)))"
   ]
  },
  {
   "cell_type": "markdown",
   "metadata": {},
   "source": [
    "##### TfidfVectorizer + LogisticRegression"
   ]
  },
  {
   "cell_type": "code",
   "execution_count": 9,
   "metadata": {},
   "outputs": [],
   "source": [
    "vectorizer2 = TfidfVectorizer(tokenizer=wordpunct_tokenize)\n",
    "bow2 = vectorizer2.fit_transform(df.text)\n",
    "X_train2, X_test2, y_train2, y_test2 = train_test_split(bow2, df.label)"
   ]
  },
  {
   "cell_type": "code",
   "execution_count": 10,
   "metadata": {},
   "outputs": [
    {
     "name": "stdout",
     "output_type": "stream",
     "text": [
      "                    precision    recall  f1-score   support\n",
      "\n",
      "           comment       0.84      0.94      0.89      9534\n",
      "comment_to_comment       0.56      0.24      0.33      1113\n",
      "              post       0.88      0.73      0.80      3403\n",
      "\n",
      "       avg / total       0.83      0.84      0.82     14050\n",
      "\n"
     ]
    }
   ],
   "source": [
    "lr2 = LogisticRegression()\n",
    "clf2 = lr2.fit(X_train2, y_train2)\n",
    "print(classification_report(y_test2, clf2.predict(X_test2)))"
   ]
  },
  {
   "cell_type": "markdown",
   "metadata": {},
   "source": [
    "##### TfidfVectorizer + MultinomialNB"
   ]
  },
  {
   "cell_type": "code",
   "execution_count": 11,
   "metadata": {},
   "outputs": [
    {
     "name": "stdout",
     "output_type": "stream",
     "text": [
      "                    precision    recall  f1-score   support\n",
      "\n",
      "           comment       0.73      0.99      0.84      9534\n",
      "comment_to_comment       1.00      0.00      0.00      1113\n",
      "              post       0.94      0.29      0.44      3403\n",
      "\n",
      "       avg / total       0.80      0.74      0.68     14050\n",
      "\n"
     ]
    }
   ],
   "source": [
    "nb2 = MultinomialNB()\n",
    "nbc2 = nb2.fit(X_train2, y_train2)\n",
    "print(classification_report(y_test2, nbc2.predict(X_test2)))"
   ]
  },
  {
   "cell_type": "markdown",
   "metadata": {},
   "source": [
    "здесть precision у комментов второго уровня единица, а всё остальное по нулям, видимо, классификатор ничего не записал в этот класс"
   ]
  },
  {
   "cell_type": "markdown",
   "metadata": {},
   "source": [
    "##### Кластеризация"
   ]
  },
  {
   "cell_type": "markdown",
   "metadata": {},
   "source": [
    "Посмотрю, как сработает кластеризатор. "
   ]
  },
  {
   "cell_type": "code",
   "execution_count": 15,
   "metadata": {},
   "outputs": [
    {
     "data": {
      "text/plain": [
       "KMeans(algorithm='auto', copy_x=True, init='k-means++', max_iter=300,\n",
       "    n_clusters=3, n_init=10, n_jobs=-1, precompute_distances='auto',\n",
       "    random_state=44, tol=0.0001, verbose=0)"
      ]
     },
     "execution_count": 15,
     "metadata": {},
     "output_type": "execute_result"
    }
   ],
   "source": [
    "model = KMeans(n_clusters=3, init='k-means++', max_iter=300, n_init=10, n_jobs=-1, random_state=44)\n",
    "model.fit(bow)"
   ]
  },
  {
   "cell_type": "code",
   "execution_count": 16,
   "metadata": {},
   "outputs": [
    {
     "data": {
      "text/plain": [
       "KMeans(algorithm='auto', copy_x=True, init='k-means++', max_iter=300,\n",
       "    n_clusters=3, n_init=10, n_jobs=-1, precompute_distances='auto',\n",
       "    random_state=88, tol=0.0001, verbose=0)"
      ]
     },
     "execution_count": 16,
     "metadata": {},
     "output_type": "execute_result"
    }
   ],
   "source": [
    "model2 = KMeans(n_clusters=3, init='k-means++', max_iter=300, n_init=10, n_jobs=-1, random_state=88)\n",
    "model2.fit(bow2)"
   ]
  },
  {
   "cell_type": "code",
   "execution_count": 17,
   "metadata": {},
   "outputs": [
    {
     "data": {
      "text/plain": [
       "0.1289879130768284"
      ]
     },
     "execution_count": 17,
     "metadata": {},
     "output_type": "execute_result"
    }
   ],
   "source": [
    "adjusted_rand_score(model.labels_, model2.labels_)"
   ]
  },
  {
   "cell_type": "markdown",
   "metadata": {},
   "source": [
    "ага, кластеризатор не нашел какого-то очевидного параметра, как делить датасет. Есть ли совпадение с делением на посты\\комменты?"
   ]
  },
  {
   "cell_type": "code",
   "execution_count": 21,
   "metadata": {},
   "outputs": [
    {
     "name": "stdout",
     "output_type": "stream",
     "text": [
      "0.0229503766657702\n",
      "0.014719670659369728\n"
     ]
    }
   ],
   "source": [
    "print(adjusted_rand_score(model.labels_, df.label))\n",
    "print(adjusted_rand_score(model2.labels_, df.label))"
   ]
  },
  {
   "cell_type": "markdown",
   "metadata": {},
   "source": [
    "нет, никакого. Посмотрим на кластеры, будет ли прослеживаться какая-то логика"
   ]
  },
  {
   "cell_type": "code",
   "execution_count": 22,
   "metadata": {},
   "outputs": [],
   "source": [
    "from sklearn.metrics import pairwise_distances_argmin_min\n",
    "closest, _ = pairwise_distances_argmin_min(model.cluster_centers_, bow)"
   ]
  },
  {
   "cell_type": "code",
   "execution_count": 23,
   "metadata": {},
   "outputs": [
    {
     "data": {
      "text/plain": [
       "(array([ 7895, 10713,    21], dtype=int64),\n",
       " array([ 5.70361734, 24.413762  ,  0.74364699]))"
      ]
     },
     "execution_count": 23,
     "metadata": {},
     "output_type": "execute_result"
    }
   ],
   "source": [
    "closest, _"
   ]
  },
  {
   "cell_type": "code",
   "execution_count": 41,
   "metadata": {
    "collapsed": true
   },
   "outputs": [
    {
     "name": "stdout",
     "output_type": "stream",
     "text": [
      "друзья-москвичи, напоминаю, что сегодня во всем городе минимум школьников, поэтому все идем гулять в центр, на каток, в кино и т.д. и наслаждаться спокойствием!\n",
      "#bestof2018@the4gkz\r\n",
      "Продолжаем погружаться в мой мир песенок и открытий этого года. \r\n",
      "Данный список состоит из артистов, которые не вошли по каким-либо причинам в основной топ, но для меня их релизы были важны. \r\n",
      " \r\n",
      "1. СБПЧ – «Мы не спали, мы снились» \r\n",
      "Как и со многими группами, я пытался послушать ребят еще несколько лет назад, но что-то все как-то нет. И вот с релизом нового альбома я прямо-таки открыл для себя группу заново. Кирилл говорит, что под новый альбом нужно танцевать, а не вслушиваться в текста, но я так не согласен, у данного релиза просто потрясающие текста в песенках. Если вы все ждали момент, чтобы начать слушать эту группу, то сейчас самое время. \r\n",
      " \r\n",
      "2. Nothing But Thieves – “What Did You Think When You Made Me This Way?” \r\n",
      "Ну, тут даже и говорить ни о чем не нужно. Группа продолжает взлетать все выше и выше, выпустив потрясающий ЕР. \r\n",
      " \r\n",
      "3. Arctic Monkeys – «Tranquility Base Hotel & Casino» \r\n",
      "Очень много кому не понравился новый альбом Мартышек, но я считаю его очень достойной пластинкой. Для нее нужна специальная атмосфера, настрой и просто погрузиться с головой в данную работу. \r\n",
      " \r\n",
      "4. Two Feet \r\n",
      "Молодой музыкант с необычным звучанием, сочетающее блюз и даб-элементы. Продолжает экспериментировать со стилями и выпускает кучу всякого разного материала. \r\n",
      " \r\n",
      "5. ВОЛГА 24 \r\n",
      "Андеграунд сайд-проект моего любимого проекта «Вкусный Позор» и его друга Кости, который в этом году релизнул первый альбом. Мощно, бодро, пьяно, самое оно для пьяненьких концертиков в какой-нибудь Смене на один вечер, чтобы не париться вообще ни о чем. \r\n",
      " \r\n",
      "6. Matt Maeson \r\n",
      "Еще один молодой исполнитель, чьи песни просто окутывают своей необычной атмосферой. \r\n",
      " \r\n",
      "7. Монеточка \r\n",
      "Ну, тут, думаю, тоже без лишних слов. Пошел на нее на Пикнике чисто чтоб ознакомиться, но очень сильно понравились песенки Лизы. \r\n",
      " \r\n",
      "8. Daniel Shake – «Осень» \r\n",
      "Чтокак эта песня оказалась у меня в плейлисте, как он мне понравилась, как она оказалась тут – я не знаю. Но почему-то этот трек сайд-проекта вокалиста группы МЫ меня чем-то зацепил, ну и вот.\r\n",
      "\r\n",
      "9. Fall Out Boy - \"MANIA\".\r\n",
      "\r\n",
      "Нууу эээ, многие ожидали от альбома куда большего, но получилось что получилось. Тем не менее альбом неплох, есть несколько песен, которые очень хорошо звучат.\n",
      "\n"
     ]
    }
   ],
   "source": [
    "ultimate_texts = df.loc[[7895, 10713,    21]]\n",
    "ultimate_texts\n",
    "print(ultimate_texts.text[7895])\n",
    "print(ultimate_texts.text[10713])\n",
    "print(ultimate_texts.text[21])"
   ]
  },
  {
   "cell_type": "code",
   "execution_count": 53,
   "metadata": {},
   "outputs": [
    {
     "data": {
      "text/html": [
       "<div>\n",
       "<style scoped>\n",
       "    .dataframe tbody tr th:only-of-type {\n",
       "        vertical-align: middle;\n",
       "    }\n",
       "\n",
       "    .dataframe tbody tr th {\n",
       "        vertical-align: top;\n",
       "    }\n",
       "\n",
       "    .dataframe thead th {\n",
       "        text-align: right;\n",
       "    }\n",
       "</style>\n",
       "<table border=\"1\" class=\"dataframe\">\n",
       "  <thead>\n",
       "    <tr style=\"text-align: right;\">\n",
       "      <th></th>\n",
       "      <th>id</th>\n",
       "      <th>text</th>\n",
       "      <th>likes</th>\n",
       "      <th>label</th>\n",
       "      <th>clasters</th>\n",
       "      <th>clasters2</th>\n",
       "    </tr>\n",
       "  </thead>\n",
       "  <tbody>\n",
       "    <tr>\n",
       "      <th>0</th>\n",
       "      <td>76000</td>\n",
       "      <td>#конкурс@the4gkz \\r\\nДля вашего удобства собра...</td>\n",
       "      <td>17</td>\n",
       "      <td>post</td>\n",
       "      <td>0</td>\n",
       "      <td>2</td>\n",
       "    </tr>\n",
       "    <tr>\n",
       "      <th>1</th>\n",
       "      <td>76914</td>\n",
       "      <td>Уже сегодня ночью (по МСК) начнётся один из са...</td>\n",
       "      <td>34</td>\n",
       "      <td>post</td>\n",
       "      <td>0</td>\n",
       "      <td>2</td>\n",
       "    </tr>\n",
       "    <tr>\n",
       "      <th>2</th>\n",
       "      <td>76917</td>\n",
       "      <td>Ого, Нина Кравиц в лайн-апе😲</td>\n",
       "      <td>0</td>\n",
       "      <td>comment</td>\n",
       "      <td>2</td>\n",
       "      <td>2</td>\n",
       "    </tr>\n",
       "    <tr>\n",
       "      <th>4</th>\n",
       "      <td>76922</td>\n",
       "      <td>Скину расписание на сегодня сюда. Время москов...</td>\n",
       "      <td>0</td>\n",
       "      <td>comment</td>\n",
       "      <td>0</td>\n",
       "      <td>2</td>\n",
       "    </tr>\n",
       "    <tr>\n",
       "      <th>5</th>\n",
       "      <td>76933</td>\n",
       "      <td>[id18399319|Anastasia], неправда, в Москве вре...</td>\n",
       "      <td>0</td>\n",
       "      <td>comment_to_comment</td>\n",
       "      <td>2</td>\n",
       "      <td>2</td>\n",
       "    </tr>\n",
       "    <tr>\n",
       "      <th>6</th>\n",
       "      <td>76929</td>\n",
       "      <td>Трансляция, конечно, моё почтение. Классно выг...</td>\n",
       "      <td>1</td>\n",
       "      <td>comment</td>\n",
       "      <td>2</td>\n",
       "      <td>2</td>\n",
       "    </tr>\n",
       "    <tr>\n",
       "      <th>7</th>\n",
       "      <td>76930</td>\n",
       "      <td>Моё увожение Блэкпинк, которые даже с живыми и...</td>\n",
       "      <td>1</td>\n",
       "      <td>comment</td>\n",
       "      <td>2</td>\n",
       "      <td>2</td>\n",
       "    </tr>\n",
       "    <tr>\n",
       "      <th>8</th>\n",
       "      <td>76934</td>\n",
       "      <td>Часть пропустила, конец сета у SG Lewis был кл...</td>\n",
       "      <td>0</td>\n",
       "      <td>comment</td>\n",
       "      <td>0</td>\n",
       "      <td>2</td>\n",
       "    </tr>\n",
       "    <tr>\n",
       "      <th>9</th>\n",
       "      <td>76935</td>\n",
       "      <td>сейчас посмотрела лайв Rufus Du Sol, очень бод...</td>\n",
       "      <td>0</td>\n",
       "      <td>comment</td>\n",
       "      <td>2</td>\n",
       "      <td>2</td>\n",
       "    </tr>\n",
       "    <tr>\n",
       "      <th>11</th>\n",
       "      <td>76908</td>\n",
       "      <td>#newalbum@the4gkz \\r\\nКак обычно, рассказываем...</td>\n",
       "      <td>14</td>\n",
       "      <td>post</td>\n",
       "      <td>0</td>\n",
       "      <td>2</td>\n",
       "    </tr>\n",
       "    <tr>\n",
       "      <th>15</th>\n",
       "      <td>76924</td>\n",
       "      <td>[id135469077|Мария], если «любитель попсы» — э...</td>\n",
       "      <td>0</td>\n",
       "      <td>comment_to_comment</td>\n",
       "      <td>2</td>\n",
       "      <td>2</td>\n",
       "    </tr>\n",
       "    <tr>\n",
       "      <th>16</th>\n",
       "      <td>76926</td>\n",
       "      <td>[id136522683|Никита], я никого конкретного в в...</td>\n",
       "      <td>0</td>\n",
       "      <td>comment_to_comment</td>\n",
       "      <td>2</td>\n",
       "      <td>2</td>\n",
       "    </tr>\n",
       "    <tr>\n",
       "      <th>22</th>\n",
       "      <td>76915</td>\n",
       "      <td>Воу, годнота подъехала</td>\n",
       "      <td>0</td>\n",
       "      <td>comment</td>\n",
       "      <td>2</td>\n",
       "      <td>2</td>\n",
       "    </tr>\n",
       "    <tr>\n",
       "      <th>23</th>\n",
       "      <td>76897</td>\n",
       "      <td>Подводим итоги розыгрыша билетов на [club11686...</td>\n",
       "      <td>12</td>\n",
       "      <td>post</td>\n",
       "      <td>0</td>\n",
       "      <td>2</td>\n",
       "    </tr>\n",
       "    <tr>\n",
       "      <th>24</th>\n",
       "      <td>76898</td>\n",
       "      <td>randstuff лежит, пришлось использовать другой ...</td>\n",
       "      <td>0</td>\n",
       "      <td>comment</td>\n",
       "      <td>2</td>\n",
       "      <td>2</td>\n",
       "    </tr>\n",
       "    <tr>\n",
       "      <th>29</th>\n",
       "      <td>76890</td>\n",
       "      <td>А помните, когда не было вот этой хуйни \"а пом...</td>\n",
       "      <td>8</td>\n",
       "      <td>comment</td>\n",
       "      <td>2</td>\n",
       "      <td>2</td>\n",
       "    </tr>\n",
       "    <tr>\n",
       "      <th>32</th>\n",
       "      <td>76872</td>\n",
       "      <td>#fest@the4gkz\\r\\nДавненько мы про польский Ope...</td>\n",
       "      <td>22</td>\n",
       "      <td>post</td>\n",
       "      <td>0</td>\n",
       "      <td>2</td>\n",
       "    </tr>\n",
       "    <tr>\n",
       "      <th>35</th>\n",
       "      <td>76888</td>\n",
       "      <td>Пока непонятно 😉\\r\\nБольно много хэдов в этот ...</td>\n",
       "      <td>0</td>\n",
       "      <td>comment_to_comment</td>\n",
       "      <td>2</td>\n",
       "      <td>2</td>\n",
       "    </tr>\n",
       "    <tr>\n",
       "      <th>37</th>\n",
       "      <td>76885</td>\n",
       "      <td>господи, Касабланкас, почему так больно</td>\n",
       "      <td>1</td>\n",
       "      <td>comment</td>\n",
       "      <td>2</td>\n",
       "      <td>2</td>\n",
       "    </tr>\n",
       "    <tr>\n",
       "      <th>44</th>\n",
       "      <td>76864</td>\n",
       "      <td>Пользуясь случаем - продам два билета на пикни...</td>\n",
       "      <td>0</td>\n",
       "      <td>comment</td>\n",
       "      <td>2</td>\n",
       "      <td>2</td>\n",
       "    </tr>\n",
       "    <tr>\n",
       "      <th>51</th>\n",
       "      <td>76844</td>\n",
       "      <td>#festmusic@the4gkz \\r\\nДо фестивального сезона...</td>\n",
       "      <td>7</td>\n",
       "      <td>post</td>\n",
       "      <td>0</td>\n",
       "      <td>2</td>\n",
       "    </tr>\n",
       "    <tr>\n",
       "      <th>54</th>\n",
       "      <td>76835</td>\n",
       "      <td>Их группы хотя бы музыку играют, в отличии от ...</td>\n",
       "      <td>35</td>\n",
       "      <td>comment</td>\n",
       "      <td>2</td>\n",
       "      <td>2</td>\n",
       "    </tr>\n",
       "    <tr>\n",
       "      <th>57</th>\n",
       "      <td>76882</td>\n",
       "      <td>Все ещё лучше, чем группа Ic3peak.</td>\n",
       "      <td>5</td>\n",
       "      <td>comment_to_comment</td>\n",
       "      <td>2</td>\n",
       "      <td>2</td>\n",
       "    </tr>\n",
       "    <tr>\n",
       "      <th>77</th>\n",
       "      <td>76860</td>\n",
       "      <td>[id23289687|Милана], или когда тебя начали узн...</td>\n",
       "      <td>3</td>\n",
       "      <td>comment_to_comment</td>\n",
       "      <td>2</td>\n",
       "      <td>2</td>\n",
       "    </tr>\n",
       "    <tr>\n",
       "      <th>80</th>\n",
       "      <td>76808</td>\n",
       "      <td>Понял, что концертный задрот, когда группа отк...</td>\n",
       "      <td>61</td>\n",
       "      <td>comment</td>\n",
       "      <td>2</td>\n",
       "      <td>2</td>\n",
       "    </tr>\n",
       "    <tr>\n",
       "      <th>83</th>\n",
       "      <td>76869</td>\n",
       "      <td>[id165160374|Георгий], хахах, да)</td>\n",
       "      <td>0</td>\n",
       "      <td>comment_to_comment</td>\n",
       "      <td>2</td>\n",
       "      <td>2</td>\n",
       "    </tr>\n",
       "    <tr>\n",
       "      <th>87</th>\n",
       "      <td>76812</td>\n",
       "      <td>- о, я тебя видел(а) на концерте *название гру...</td>\n",
       "      <td>33</td>\n",
       "      <td>comment</td>\n",
       "      <td>2</td>\n",
       "      <td>2</td>\n",
       "    </tr>\n",
       "    <tr>\n",
       "      <th>89</th>\n",
       "      <td>76813</td>\n",
       "      <td>Это странное чувство, когда видишь одни и те ж...</td>\n",
       "      <td>12</td>\n",
       "      <td>comment</td>\n",
       "      <td>2</td>\n",
       "      <td>2</td>\n",
       "    </tr>\n",
       "    <tr>\n",
       "      <th>90</th>\n",
       "      <td>76938</td>\n",
       "      <td>[id157754043|Алена], не виду в этом ничего стр...</td>\n",
       "      <td>0</td>\n",
       "      <td>comment_to_comment</td>\n",
       "      <td>2</td>\n",
       "      <td>2</td>\n",
       "    </tr>\n",
       "    <tr>\n",
       "      <th>92</th>\n",
       "      <td>76821</td>\n",
       "      <td>Понял, что концертный задрот, когда купил квар...</td>\n",
       "      <td>12</td>\n",
       "      <td>comment</td>\n",
       "      <td>2</td>\n",
       "      <td>2</td>\n",
       "    </tr>\n",
       "    <tr>\n",
       "      <th>...</th>\n",
       "      <td>...</td>\n",
       "      <td>...</td>\n",
       "      <td>...</td>\n",
       "      <td>...</td>\n",
       "      <td>...</td>\n",
       "      <td>...</td>\n",
       "    </tr>\n",
       "    <tr>\n",
       "      <th>53791</th>\n",
       "      <td>6194</td>\n",
       "      <td>где достать билет на максидром без комиссии \\r...</td>\n",
       "      <td>243</td>\n",
       "      <td>post</td>\n",
       "      <td>2</td>\n",
       "      <td>2</td>\n",
       "    </tr>\n",
       "    <tr>\n",
       "      <th>53817</th>\n",
       "      <td>6137</td>\n",
       "      <td>Счастливчиком, который пойдет на концерт групп...</td>\n",
       "      <td>13</td>\n",
       "      <td>post</td>\n",
       "      <td>2</td>\n",
       "      <td>2</td>\n",
       "    </tr>\n",
       "    <tr>\n",
       "      <th>53839</th>\n",
       "      <td>6076</td>\n",
       "      <td>где есть новые мемы и приколы про концерты \\r\\...</td>\n",
       "      <td>61</td>\n",
       "      <td>post</td>\n",
       "      <td>2</td>\n",
       "      <td>2</td>\n",
       "    </tr>\n",
       "    <tr>\n",
       "      <th>53898</th>\n",
       "      <td>5920</td>\n",
       "      <td>в чгкз разыгрывали мерч eskimo callboy будут л...</td>\n",
       "      <td>22</td>\n",
       "      <td>post</td>\n",
       "      <td>2</td>\n",
       "      <td>2</td>\n",
       "    </tr>\n",
       "    <tr>\n",
       "      <th>53944</th>\n",
       "      <td>5803</td>\n",
       "      <td>может ли кор ещё чем-то удивить в 2016 году\\r\\...</td>\n",
       "      <td>164</td>\n",
       "      <td>post</td>\n",
       "      <td>0</td>\n",
       "      <td>2</td>\n",
       "    </tr>\n",
       "    <tr>\n",
       "      <th>53987</th>\n",
       "      <td>5704</td>\n",
       "      <td>Футболку Eskimo Callboy получает [id2605881|Ан...</td>\n",
       "      <td>21</td>\n",
       "      <td>post</td>\n",
       "      <td>2</td>\n",
       "      <td>2</td>\n",
       "    </tr>\n",
       "    <tr>\n",
       "      <th>54061</th>\n",
       "      <td>5500</td>\n",
       "      <td>не в чем идти на концерт eskimo callboy что де...</td>\n",
       "      <td>267</td>\n",
       "      <td>post</td>\n",
       "      <td>0</td>\n",
       "      <td>2</td>\n",
       "    </tr>\n",
       "    <tr>\n",
       "      <th>54072</th>\n",
       "      <td>5477</td>\n",
       "      <td>есть ли у hollywood undead песни не про клубы ...</td>\n",
       "      <td>78</td>\n",
       "      <td>post</td>\n",
       "      <td>2</td>\n",
       "      <td>2</td>\n",
       "    </tr>\n",
       "    <tr>\n",
       "      <th>54174</th>\n",
       "      <td>5250</td>\n",
       "      <td>когда уже чгкз выложит видео с концерта slipkn...</td>\n",
       "      <td>257</td>\n",
       "      <td>post</td>\n",
       "      <td>0</td>\n",
       "      <td>2</td>\n",
       "    </tr>\n",
       "    <tr>\n",
       "      <th>54242</th>\n",
       "      <td>5074</td>\n",
       "      <td>сколько песен с нового альбома исполнят [club7...</td>\n",
       "      <td>419</td>\n",
       "      <td>post</td>\n",
       "      <td>0</td>\n",
       "      <td>2</td>\n",
       "    </tr>\n",
       "    <tr>\n",
       "      <th>54245</th>\n",
       "      <td>5061</td>\n",
       "      <td>Билет на концерт [club100354774|Escape The Fat...</td>\n",
       "      <td>36</td>\n",
       "      <td>post</td>\n",
       "      <td>2</td>\n",
       "      <td>2</td>\n",
       "    </tr>\n",
       "    <tr>\n",
       "      <th>54313</th>\n",
       "      <td>4835</td>\n",
       "      <td>будет ли вокалист escape the fate на московско...</td>\n",
       "      <td>195</td>\n",
       "      <td>post</td>\n",
       "      <td>0</td>\n",
       "      <td>2</td>\n",
       "    </tr>\n",
       "    <tr>\n",
       "      <th>54416</th>\n",
       "      <td>4574</td>\n",
       "      <td>Итак, результаты!\\r\\nБилет на концерт Three Da...</td>\n",
       "      <td>23</td>\n",
       "      <td>post</td>\n",
       "      <td>0</td>\n",
       "      <td>2</td>\n",
       "    </tr>\n",
       "    <tr>\n",
       "      <th>54435</th>\n",
       "      <td>4533</td>\n",
       "      <td>Возможно, вы имели в виду: как найти друзей по...</td>\n",
       "      <td>189</td>\n",
       "      <td>post</td>\n",
       "      <td>2</td>\n",
       "      <td>2</td>\n",
       "    </tr>\n",
       "    <tr>\n",
       "      <th>54564</th>\n",
       "      <td>4207</td>\n",
       "      <td>кто лучше тянет партии адам гонтье или мэтт уо...</td>\n",
       "      <td>815</td>\n",
       "      <td>post</td>\n",
       "      <td>0</td>\n",
       "      <td>2</td>\n",
       "    </tr>\n",
       "    <tr>\n",
       "      <th>54575</th>\n",
       "      <td>4166</td>\n",
       "      <td>прослушал альбом уже больше 10 раз а так ничег...</td>\n",
       "      <td>200</td>\n",
       "      <td>post</td>\n",
       "      <td>2</td>\n",
       "      <td>2</td>\n",
       "    </tr>\n",
       "    <tr>\n",
       "      <th>54628</th>\n",
       "      <td>4028</td>\n",
       "      <td>хочу попасть в интервью про любимую группу че ...</td>\n",
       "      <td>181</td>\n",
       "      <td>post</td>\n",
       "      <td>0</td>\n",
       "      <td>2</td>\n",
       "    </tr>\n",
       "    <tr>\n",
       "      <th>54829</th>\n",
       "      <td>3512</td>\n",
       "      <td>никто не лайкает мои фотки на концертную тему ...</td>\n",
       "      <td>86</td>\n",
       "      <td>post</td>\n",
       "      <td>0</td>\n",
       "      <td>2</td>\n",
       "    </tr>\n",
       "    <tr>\n",
       "      <th>55001</th>\n",
       "      <td>3076</td>\n",
       "      <td>каким должен быть инстаграм концертного задрот...</td>\n",
       "      <td>115</td>\n",
       "      <td>post</td>\n",
       "      <td>2</td>\n",
       "      <td>2</td>\n",
       "    </tr>\n",
       "    <tr>\n",
       "      <th>55006</th>\n",
       "      <td>3067</td>\n",
       "      <td>Возможно, вы имели в виду: реально ли вообще п...</td>\n",
       "      <td>169</td>\n",
       "      <td>post</td>\n",
       "      <td>2</td>\n",
       "      <td>2</td>\n",
       "    </tr>\n",
       "    <tr>\n",
       "      <th>55012</th>\n",
       "      <td>3037</td>\n",
       "      <td>есть ли по аналогии с p.o.d. группы p.a.d. и p...</td>\n",
       "      <td>107</td>\n",
       "      <td>post</td>\n",
       "      <td>0</td>\n",
       "      <td>2</td>\n",
       "    </tr>\n",
       "    <tr>\n",
       "      <th>55136</th>\n",
       "      <td>2708</td>\n",
       "      <td>Возможно, вы имели в виду: как жить когда ты л...</td>\n",
       "      <td>179</td>\n",
       "      <td>post</td>\n",
       "      <td>2</td>\n",
       "      <td>2</td>\n",
       "    </tr>\n",
       "    <tr>\n",
       "      <th>55159</th>\n",
       "      <td>2636</td>\n",
       "      <td>можно ли увидеть участников three days grace f...</td>\n",
       "      <td>358</td>\n",
       "      <td>post</td>\n",
       "      <td>0</td>\n",
       "      <td>2</td>\n",
       "    </tr>\n",
       "    <tr>\n",
       "      <th>55166</th>\n",
       "      <td>2618</td>\n",
       "      <td>А вот и результаты розыгрыша билета на концерт...</td>\n",
       "      <td>27</td>\n",
       "      <td>post</td>\n",
       "      <td>2</td>\n",
       "      <td>2</td>\n",
       "    </tr>\n",
       "    <tr>\n",
       "      <th>55282</th>\n",
       "      <td>2312</td>\n",
       "      <td>Извините, по вашему запросу ничего не найдено.</td>\n",
       "      <td>120</td>\n",
       "      <td>post</td>\n",
       "      <td>2</td>\n",
       "      <td>2</td>\n",
       "    </tr>\n",
       "    <tr>\n",
       "      <th>55743</th>\n",
       "      <td>1116</td>\n",
       "      <td>как попасть на концерт если нет денег\\r\\n\\r\\nЛ...</td>\n",
       "      <td>1391</td>\n",
       "      <td>post</td>\n",
       "      <td>0</td>\n",
       "      <td>2</td>\n",
       "    </tr>\n",
       "    <tr>\n",
       "      <th>55749</th>\n",
       "      <td>1104</td>\n",
       "      <td>фанаты bmth и one direction теперь в принципе ...</td>\n",
       "      <td>372</td>\n",
       "      <td>post</td>\n",
       "      <td>2</td>\n",
       "      <td>2</td>\n",
       "    </tr>\n",
       "    <tr>\n",
       "      <th>55842</th>\n",
       "      <td>867</td>\n",
       "      <td>dope d.o.d. dope stars inc. и dope они что спе...</td>\n",
       "      <td>106</td>\n",
       "      <td>post</td>\n",
       "      <td>2</td>\n",
       "      <td>2</td>\n",
       "    </tr>\n",
       "    <tr>\n",
       "      <th>56031</th>\n",
       "      <td>401</td>\n",
       "      <td>Возможно, вы имели в виду: хожу на все концерт...</td>\n",
       "      <td>168</td>\n",
       "      <td>post</td>\n",
       "      <td>2</td>\n",
       "      <td>2</td>\n",
       "    </tr>\n",
       "    <tr>\n",
       "      <th>56075</th>\n",
       "      <td>307</td>\n",
       "      <td>Возможно, вы имели в виду: 2015 почему так мно...</td>\n",
       "      <td>137</td>\n",
       "      <td>post</td>\n",
       "      <td>2</td>\n",
       "      <td>2</td>\n",
       "    </tr>\n",
       "  </tbody>\n",
       "</table>\n",
       "<p>13329 rows × 6 columns</p>\n",
       "</div>"
      ],
      "text/plain": [
       "          id                                               text  likes  \\\n",
       "0      76000  #конкурс@the4gkz \\r\\nДля вашего удобства собра...     17   \n",
       "1      76914  Уже сегодня ночью (по МСК) начнётся один из са...     34   \n",
       "2      76917                       Ого, Нина Кравиц в лайн-апе😲      0   \n",
       "4      76922  Скину расписание на сегодня сюда. Время москов...      0   \n",
       "5      76933  [id18399319|Anastasia], неправда, в Москве вре...      0   \n",
       "6      76929  Трансляция, конечно, моё почтение. Классно выг...      1   \n",
       "7      76930  Моё увожение Блэкпинк, которые даже с живыми и...      1   \n",
       "8      76934  Часть пропустила, конец сета у SG Lewis был кл...      0   \n",
       "9      76935  сейчас посмотрела лайв Rufus Du Sol, очень бод...      0   \n",
       "11     76908  #newalbum@the4gkz \\r\\nКак обычно, рассказываем...     14   \n",
       "15     76924  [id135469077|Мария], если «любитель попсы» — э...      0   \n",
       "16     76926  [id136522683|Никита], я никого конкретного в в...      0   \n",
       "22     76915                             Воу, годнота подъехала      0   \n",
       "23     76897  Подводим итоги розыгрыша билетов на [club11686...     12   \n",
       "24     76898  randstuff лежит, пришлось использовать другой ...      0   \n",
       "29     76890  А помните, когда не было вот этой хуйни \"а пом...      8   \n",
       "32     76872  #fest@the4gkz\\r\\nДавненько мы про польский Ope...     22   \n",
       "35     76888  Пока непонятно 😉\\r\\nБольно много хэдов в этот ...      0   \n",
       "37     76885            господи, Касабланкас, почему так больно      1   \n",
       "44     76864  Пользуясь случаем - продам два билета на пикни...      0   \n",
       "51     76844  #festmusic@the4gkz \\r\\nДо фестивального сезона...      7   \n",
       "54     76835  Их группы хотя бы музыку играют, в отличии от ...     35   \n",
       "57     76882                 Все ещё лучше, чем группа Ic3peak.      5   \n",
       "77     76860  [id23289687|Милана], или когда тебя начали узн...      3   \n",
       "80     76808  Понял, что концертный задрот, когда группа отк...     61   \n",
       "83     76869                  [id165160374|Георгий], хахах, да)      0   \n",
       "87     76812  - о, я тебя видел(а) на концерте *название гру...     33   \n",
       "89     76813  Это странное чувство, когда видишь одни и те ж...     12   \n",
       "90     76938  [id157754043|Алена], не виду в этом ничего стр...      0   \n",
       "92     76821  Понял, что концертный задрот, когда купил квар...     12   \n",
       "...      ...                                                ...    ...   \n",
       "53791   6194  где достать билет на максидром без комиссии \\r...    243   \n",
       "53817   6137  Счастливчиком, который пойдет на концерт групп...     13   \n",
       "53839   6076  где есть новые мемы и приколы про концерты \\r\\...     61   \n",
       "53898   5920  в чгкз разыгрывали мерч eskimo callboy будут л...     22   \n",
       "53944   5803  может ли кор ещё чем-то удивить в 2016 году\\r\\...    164   \n",
       "53987   5704  Футболку Eskimo Callboy получает [id2605881|Ан...     21   \n",
       "54061   5500  не в чем идти на концерт eskimo callboy что де...    267   \n",
       "54072   5477  есть ли у hollywood undead песни не про клубы ...     78   \n",
       "54174   5250  когда уже чгкз выложит видео с концерта slipkn...    257   \n",
       "54242   5074  сколько песен с нового альбома исполнят [club7...    419   \n",
       "54245   5061  Билет на концерт [club100354774|Escape The Fat...     36   \n",
       "54313   4835  будет ли вокалист escape the fate на московско...    195   \n",
       "54416   4574  Итак, результаты!\\r\\nБилет на концерт Three Da...     23   \n",
       "54435   4533  Возможно, вы имели в виду: как найти друзей по...    189   \n",
       "54564   4207  кто лучше тянет партии адам гонтье или мэтт уо...    815   \n",
       "54575   4166  прослушал альбом уже больше 10 раз а так ничег...    200   \n",
       "54628   4028  хочу попасть в интервью про любимую группу че ...    181   \n",
       "54829   3512  никто не лайкает мои фотки на концертную тему ...     86   \n",
       "55001   3076  каким должен быть инстаграм концертного задрот...    115   \n",
       "55006   3067  Возможно, вы имели в виду: реально ли вообще п...    169   \n",
       "55012   3037  есть ли по аналогии с p.o.d. группы p.a.d. и p...    107   \n",
       "55136   2708  Возможно, вы имели в виду: как жить когда ты л...    179   \n",
       "55159   2636  можно ли увидеть участников three days grace f...    358   \n",
       "55166   2618  А вот и результаты розыгрыша билета на концерт...     27   \n",
       "55282   2312     Извините, по вашему запросу ничего не найдено.    120   \n",
       "55743   1116  как попасть на концерт если нет денег\\r\\n\\r\\nЛ...   1391   \n",
       "55749   1104  фанаты bmth и one direction теперь в принципе ...    372   \n",
       "55842    867  dope d.o.d. dope stars inc. и dope они что спе...    106   \n",
       "56031    401  Возможно, вы имели в виду: хожу на все концерт...    168   \n",
       "56075    307  Возможно, вы имели в виду: 2015 почему так мно...    137   \n",
       "\n",
       "                    label  clasters  clasters2  \n",
       "0                    post         0          2  \n",
       "1                    post         0          2  \n",
       "2                 comment         2          2  \n",
       "4                 comment         0          2  \n",
       "5      comment_to_comment         2          2  \n",
       "6                 comment         2          2  \n",
       "7                 comment         2          2  \n",
       "8                 comment         0          2  \n",
       "9                 comment         2          2  \n",
       "11                   post         0          2  \n",
       "15     comment_to_comment         2          2  \n",
       "16     comment_to_comment         2          2  \n",
       "22                comment         2          2  \n",
       "23                   post         0          2  \n",
       "24                comment         2          2  \n",
       "29                comment         2          2  \n",
       "32                   post         0          2  \n",
       "35     comment_to_comment         2          2  \n",
       "37                comment         2          2  \n",
       "44                comment         2          2  \n",
       "51                   post         0          2  \n",
       "54                comment         2          2  \n",
       "57     comment_to_comment         2          2  \n",
       "77     comment_to_comment         2          2  \n",
       "80                comment         2          2  \n",
       "83     comment_to_comment         2          2  \n",
       "87                comment         2          2  \n",
       "89                comment         2          2  \n",
       "90     comment_to_comment         2          2  \n",
       "92                comment         2          2  \n",
       "...                   ...       ...        ...  \n",
       "53791                post         2          2  \n",
       "53817                post         2          2  \n",
       "53839                post         2          2  \n",
       "53898                post         2          2  \n",
       "53944                post         0          2  \n",
       "53987                post         2          2  \n",
       "54061                post         0          2  \n",
       "54072                post         2          2  \n",
       "54174                post         0          2  \n",
       "54242                post         0          2  \n",
       "54245                post         2          2  \n",
       "54313                post         0          2  \n",
       "54416                post         0          2  \n",
       "54435                post         2          2  \n",
       "54564                post         0          2  \n",
       "54575                post         2          2  \n",
       "54628                post         0          2  \n",
       "54829                post         0          2  \n",
       "55001                post         2          2  \n",
       "55006                post         2          2  \n",
       "55012                post         0          2  \n",
       "55136                post         2          2  \n",
       "55159                post         0          2  \n",
       "55166                post         2          2  \n",
       "55282                post         2          2  \n",
       "55743                post         0          2  \n",
       "55749                post         2          2  \n",
       "55842                post         2          2  \n",
       "56031                post         2          2  \n",
       "56075                post         2          2  \n",
       "\n",
       "[13329 rows x 6 columns]"
      ]
     },
     "execution_count": 53,
     "metadata": {},
     "output_type": "execute_result"
    }
   ],
   "source": [
    "df['clasters'] = model.labels_\n",
    "df['clasters2'] = model2.labels_\n",
    "\n",
    "df[df.clasters2==2]"
   ]
  },
  {
   "cell_type": "markdown",
   "metadata": {},
   "source": [
    "Судя по тому, что я увидела, в обоих случаях деление на кластеры произошло по признакам размера поста и наличия в нем латиницы.\n",
    "Посмотрю центроиды в тф-идф"
   ]
  },
  {
   "cell_type": "code",
   "execution_count": 51,
   "metadata": {
    "collapsed": true
   },
   "outputs": [
    {
     "name": "stdout",
     "output_type": "stream",
     "text": [
      "Top terms per cluster:\n",
      "Cluster 0:\n",
      " в\n",
      " на\n",
      " |\n",
      " [\n",
      " ],\n",
      " и\n",
      " не\n",
      " ?\n",
      " как\n",
      " что\n",
      " а\n",
      " -\n",
      " это\n",
      " я\n",
      " с\n",
      " ли\n",
      " у\n",
      " когда\n",
      " или\n",
      " .\n",
      "Cluster 1:\n",
      " the4gkz\n",
      " #\n",
      " @\n",
      " eveningclassics\n",
      " -\n",
      " —\n",
      " newconcert\n",
      " (\n",
      " .\n",
      " )\n",
      " |\n",
      " москва\n",
      " ]\n",
      " the\n",
      " 07\n",
      " [\n",
      " петербург\n",
      " санкт\n",
      " 06\n",
      " alternativerock\n",
      "Cluster 2:\n",
      " ,\n",
      " .\n",
      " не\n",
      " и\n",
      " в\n",
      " -\n",
      " |\n",
      " на\n",
      " [\n",
      " что\n",
      " ],\n",
      " я\n",
      " а\n",
      " то\n",
      " это\n",
      " но\n",
      " с\n",
      " так\n",
      " )\n",
      " !\n"
     ]
    }
   ],
   "source": [
    "print(\"Top terms per cluster:\")\n",
    "order_centroids = model2.cluster_centers_.argsort()[:, ::-1]\n",
    "terms = vectorizer2.get_feature_names()\n",
    "for i in range(3):\n",
    "    print(\"Cluster %d:\" % i),\n",
    "    for ind in order_centroids[i, :20]:\n",
    "        print(' %s' % terms[ind]),"
   ]
  },
  {
   "cell_type": "markdown",
   "metadata": {},
   "source": [
    "Так себе центроиды, надо сказать. Кластер 0 и кластер 2 практически совпадают, и вошло в них то, что обычно является стоп-словами.По какому принципу он поделил их тогда, интересно? В класс 1 вошла латиница, это видно."
   ]
  },
  {
   "cell_type": "code",
   "execution_count": 54,
   "metadata": {},
   "outputs": [
    {
     "data": {
      "text/plain": [
       "(array([21, 21, 21], dtype=int64), array([0.07169889, 0.54878398, 0.21185283]))"
      ]
     },
     "execution_count": 54,
     "metadata": {},
     "output_type": "execute_result"
    }
   ],
   "source": [
    "closest, _ = pairwise_distances_argmin_min(model2.cluster_centers_, bow2)\n",
    "closest, _"
   ]
  },
  {
   "cell_type": "code",
   "execution_count": 55,
   "metadata": {},
   "outputs": [
    {
     "data": {
      "text/plain": [
       "''"
      ]
     },
     "execution_count": 55,
     "metadata": {},
     "output_type": "execute_result"
    }
   ],
   "source": [
    "df.text[21]"
   ]
  },
  {
   "cell_type": "markdown",
   "metadata": {},
   "source": [
    "Ага. Вау. Плохо кластеризатор их поделил, вот что) Все три класса ближе всего к отсутствию текста. Результат понятный, учитывая то, что деления по тематике в датасете нет как такового, стоп-слова не удалены и вообще везде пишут, что тф-идф векторизация плохо работает на маленьких текстах, а в датасете их большинство."
   ]
  },
  {
   "cell_type": "markdown",
   "metadata": {},
   "source": [
    "##### CountVectorizer(analyzer=\"char\", ngram_range=(2,2)) + LogisticRegression\n",
    "проанализирую по символьным биграммам."
   ]
  },
  {
   "cell_type": "code",
   "execution_count": 12,
   "metadata": {},
   "outputs": [],
   "source": [
    "vectorizer3 = CountVectorizer(analyzer=\"char\", ngram_range=(2,2))\n",
    "bow3 = vectorizer3.fit_transform(df.text)"
   ]
  },
  {
   "cell_type": "code",
   "execution_count": 13,
   "metadata": {},
   "outputs": [],
   "source": [
    "X_train3, X_test3, y_train3, y_test3 = train_test_split(bow3, df.label)"
   ]
  },
  {
   "cell_type": "code",
   "execution_count": 14,
   "metadata": {},
   "outputs": [
    {
     "name": "stdout",
     "output_type": "stream",
     "text": [
      "                    precision    recall  f1-score   support\n",
      "\n",
      "           comment       0.86      0.92      0.89      9350\n",
      "comment_to_comment       0.57      0.37      0.45      1195\n",
      "              post       0.87      0.81      0.84      3505\n",
      "\n",
      "       avg / total       0.84      0.85      0.84     14050\n",
      "\n"
     ]
    }
   ],
   "source": [
    "lr3 = LogisticRegression()\n",
    "clf3 = lr3.fit(X_train3, y_train3)\n",
    "print(classification_report(y_test3, clf3.predict(X_test3)))"
   ]
  },
  {
   "cell_type": "markdown",
   "metadata": {},
   "source": [
    "##### CountVectorizer(analyzer=\"char\", ngram_range=(2,2)) + MultinomialNB()"
   ]
  },
  {
   "cell_type": "code",
   "execution_count": 15,
   "metadata": {},
   "outputs": [
    {
     "name": "stdout",
     "output_type": "stream",
     "text": [
      "                    precision    recall  f1-score   support\n",
      "\n",
      "           comment       0.77      0.76      0.76      9350\n",
      "comment_to_comment       0.41      0.69      0.51      1195\n",
      "              post       0.60      0.49      0.54      3505\n",
      "\n",
      "       avg / total       0.70      0.68      0.68     14050\n",
      "\n"
     ]
    }
   ],
   "source": [
    "nb3 = MultinomialNB()\n",
    "nbc3 = nb3.fit(X_train3, y_train3)\n",
    "print(classification_report(y_test3, nbc3.predict(X_test3)))"
   ]
  },
  {
   "cell_type": "markdown",
   "metadata": {},
   "source": [
    "##### CountVectorizer(analyzer=\"char\", ngram_range=(2,2)) + LogisticRegression + TruncatedSVD\n"
   ]
  },
  {
   "cell_type": "code",
   "execution_count": 16,
   "metadata": {},
   "outputs": [],
   "source": [
    "from sklearn.decomposition import TruncatedSVD\n",
    "from sklearn.metrics.pairwise import cosine_similarity"
   ]
  },
  {
   "cell_type": "code",
   "execution_count": 20,
   "metadata": {},
   "outputs": [],
   "source": [
    "svd = TruncatedSVD(n_components=500, n_iter=7, random_state=42)"
   ]
  },
  {
   "cell_type": "code",
   "execution_count": 21,
   "metadata": {},
   "outputs": [
    {
     "data": {
      "text/plain": [
       "TruncatedSVD(algorithm='randomized', n_components=500, n_iter=7,\n",
       "       random_state=42, tol=0.0)"
      ]
     },
     "execution_count": 21,
     "metadata": {},
     "output_type": "execute_result"
    }
   ],
   "source": [
    "svd.fit(bow3)"
   ]
  },
  {
   "cell_type": "code",
   "execution_count": 22,
   "metadata": {},
   "outputs": [
    {
     "name": "stdout",
     "output_type": "stream",
     "text": [
      "                    precision    recall  f1-score   support\n",
      "\n",
      "           comment       0.84      0.92      0.88      9484\n",
      "comment_to_comment       0.48      0.25      0.33      1145\n",
      "              post       0.85      0.77      0.81      3421\n",
      "\n",
      "       avg / total       0.81      0.83      0.82     14050\n",
      "\n"
     ]
    }
   ],
   "source": [
    "bow_svd = svd.transform(bow3)\n",
    "X_train_svd, X_test_svd, y_train_svd, y_test_svd = train_test_split(bow_svd, df.label)\n",
    "clf_svd = LogisticRegression()\n",
    "clf_svd.fit(X_train_svd, y_train_svd)\n",
    "print(classification_report(y_test_svd, clf_svd.predict(X_test_svd)))"
   ]
  },
  {
   "cell_type": "markdown",
   "metadata": {},
   "source": [
    "#### В итоге на признаках из КаунтВекторайзера самый высокий результат показала логистическая регрессия,\n",
    "как на токенах, так и на символьных биграммах"
   ]
  }
 ],
 "metadata": {
  "kernelspec": {
   "display_name": "Python 3",
   "language": "python",
   "name": "python3"
  },
  "language_info": {
   "codemirror_mode": {
    "name": "ipython",
    "version": 3
   },
   "file_extension": ".py",
   "mimetype": "text/x-python",
   "name": "python",
   "nbconvert_exporter": "python",
   "pygments_lexer": "ipython3",
   "version": "3.7.0"
  }
 },
 "nbformat": 4,
 "nbformat_minor": 2
}
