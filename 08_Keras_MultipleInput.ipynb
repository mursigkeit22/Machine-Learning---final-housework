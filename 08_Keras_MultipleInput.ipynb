{
 "cells": [
  {
   "cell_type": "markdown",
   "metadata": {
    "colab_type": "text",
    "id": "lw4XwptrFbpo"
   },
   "source": [
    "И самое последнее -  я хочу объединить две модели в одну. Первая модель будет получать на вход признаки из CountVectorizer, вторая модель - признаки, которые я выделила сама (количество символов, цифр, латиницы и т.п.) Потом они объединятся и выдадут совместный результат.\n",
    "\n",
    "Я пользовалась вот этим тьюториалом:\n",
    "\n",
    "https://www.pyimagesearch.com/2019/02/04/keras-multiple-inputs-and-mixed-data/"
   ]
  },
  {
   "cell_type": "code",
   "execution_count": 0,
   "metadata": {
    "colab": {},
    "colab_type": "code",
    "id": "DLI9gu5kIe21"
   },
   "outputs": [],
   "source": [
    "!pip install emoji"
   ]
  },
  {
   "cell_type": "code",
   "execution_count": 0,
   "metadata": {
    "colab": {},
    "colab_type": "code",
    "id": "GybONER7S_c1"
   },
   "outputs": [],
   "source": [
    "import numpy as np\n",
    "import pandas as pd\n",
    "from nltk.tokenize import wordpunct_tokenize\n",
    "import emoji\n"
   ]
  },
  {
   "cell_type": "code",
   "execution_count": 2,
   "metadata": {
    "colab": {
     "base_uri": "https://localhost:8080/",
     "height": 35
    },
    "colab_type": "code",
    "executionInfo": {
     "elapsed": 1312,
     "status": "ok",
     "timestamp": 1556468735891,
     "user": {
      "displayName": "Valerie Shelgunova",
      "photoUrl": "https://lh5.googleusercontent.com/-i2CX_QSsamo/AAAAAAAAAAI/AAAAAAAAAB8/YRSVdMujpXw/s64/photo.jpg",
      "userId": "14712883095412086889"
     },
     "user_tz": -180
    },
    "id": "69oFbXtHTMLa",
    "outputId": "ba202395-0152-4ace-c173-32cefd763601"
   },
   "outputs": [
    {
     "name": "stderr",
     "output_type": "stream",
     "text": [
      "Using TensorFlow backend.\n"
     ]
    }
   ],
   "source": [
    "import matplotlib.pyplot as plt\n",
    "from IPython.display import clear_output\n",
    "from IPython.display import Image\n",
    "\n",
    "from keras.utils import plot_model"
   ]
  },
  {
   "cell_type": "code",
   "execution_count": 0,
   "metadata": {
    "colab": {},
    "colab_type": "code",
    "id": "OoUWRslrTMIH"
   },
   "outputs": [],
   "source": [
    "\n",
    "from sklearn.feature_extraction.text import CountVectorizer\n",
    "from sklearn.model_selection import train_test_split\n",
    "from sklearn.metrics import classification_report\n",
    "from sklearn.utils import class_weight"
   ]
  },
  {
   "cell_type": "code",
   "execution_count": 0,
   "metadata": {
    "colab": {},
    "colab_type": "code",
    "id": "Ymsl7s_gTME3"
   },
   "outputs": [],
   "source": [
    "import keras\n",
    "from keras.models import Sequential\n",
    "from keras import layers\n",
    "import tensorflow as tf\n",
    "from keras.layers import Dense,Activation,Layer\n",
    "from keras.preprocessing.text import Tokenizer\n",
    "from keras.preprocessing.sequence import pad_sequences\n",
    "from keras.layers import Input\n",
    "from keras.layers import concatenate\n",
    "from keras.models import Model\n",
    "\n"
   ]
  },
  {
   "cell_type": "code",
   "execution_count": 5,
   "metadata": {
    "colab": {
     "base_uri": "https://localhost:8080/",
     "height": 510
    },
    "colab_type": "code",
    "executionInfo": {
     "elapsed": 1183,
     "status": "ok",
     "timestamp": 1556468748876,
     "user": {
      "displayName": "Valerie Shelgunova",
      "photoUrl": "https://lh5.googleusercontent.com/-i2CX_QSsamo/AAAAAAAAAAI/AAAAAAAAAB8/YRSVdMujpXw/s64/photo.jpg",
      "userId": "14712883095412086889"
     },
     "user_tz": -180
    },
    "id": "7CKD_s_fTMBx",
    "outputId": "9ff03a41-7fc6-4f3d-eeb5-044e8543f149"
   },
   "outputs": [
    {
     "data": {
      "text/html": [
       "<div>\n",
       "<style scoped>\n",
       "    .dataframe tbody tr th:only-of-type {\n",
       "        vertical-align: middle;\n",
       "    }\n",
       "\n",
       "    .dataframe tbody tr th {\n",
       "        vertical-align: top;\n",
       "    }\n",
       "\n",
       "    .dataframe thead th {\n",
       "        text-align: right;\n",
       "    }\n",
       "</style>\n",
       "<table border=\"1\" class=\"dataframe\">\n",
       "  <thead>\n",
       "    <tr style=\"text-align: right;\">\n",
       "      <th></th>\n",
       "      <th>id</th>\n",
       "      <th>text</th>\n",
       "      <th>likes</th>\n",
       "      <th>label</th>\n",
       "      <th>len_char</th>\n",
       "      <th>punct</th>\n",
       "      <th>punct_count</th>\n",
       "      <th>punct%</th>\n",
       "      <th>tokens</th>\n",
       "      <th>tokens_count</th>\n",
       "      <th>tokens%</th>\n",
       "      <th>smiles</th>\n",
       "      <th>smiles_count</th>\n",
       "      <th>smiles%</th>\n",
       "      <th>numbers_count</th>\n",
       "      <th>numbers%</th>\n",
       "      <th>latin_count</th>\n",
       "      <th>latin%</th>\n",
       "    </tr>\n",
       "  </thead>\n",
       "  <tbody>\n",
       "    <tr>\n",
       "      <th>0</th>\n",
       "      <td>76000</td>\n",
       "      <td>#конкурс@the4gkz \\r\\r\\r\\nДля вашего удобства с...</td>\n",
       "      <td>17</td>\n",
       "      <td>post</td>\n",
       "      <td>503</td>\n",
       "      <td>#@.:•|-.—:./:./•|-.—/:./:://./|://./•|.—:./:.,!</td>\n",
       "      <td>47</td>\n",
       "      <td>0.093439</td>\n",
       "      <td>['#', 'конкурс', '@', 'the4gkz', 'Для', 'вашег...</td>\n",
       "      <td>81</td>\n",
       "      <td>0.161034</td>\n",
       "      <td>NaN</td>\n",
       "      <td>0</td>\n",
       "      <td>0.000000</td>\n",
       "      <td>23</td>\n",
       "      <td>0.045726</td>\n",
       "      <td>116</td>\n",
       "      <td>0.230616</td>\n",
       "    </tr>\n",
       "    <tr>\n",
       "      <th>1</th>\n",
       "      <td>76914</td>\n",
       "      <td>Уже сегодня ночью (по МСК) начнётся один из са...</td>\n",
       "      <td>34</td>\n",
       "      <td>post</td>\n",
       "      <td>669</td>\n",
       "      <td>()—.—()!..,!(),—(,).:://..//</td>\n",
       "      <td>28</td>\n",
       "      <td>0.041854</td>\n",
       "      <td>['Уже', 'сегодня', 'ночью', '(', 'по', 'МСК', ...</td>\n",
       "      <td>111</td>\n",
       "      <td>0.165919</td>\n",
       "      <td>NaN</td>\n",
       "      <td>0</td>\n",
       "      <td>0.000000</td>\n",
       "      <td>0</td>\n",
       "      <td>0.000000</td>\n",
       "      <td>49</td>\n",
       "      <td>0.073244</td>\n",
       "    </tr>\n",
       "    <tr>\n",
       "      <th>2</th>\n",
       "      <td>76917</td>\n",
       "      <td>Ого, Нина Кравиц в лайн-апе😲</td>\n",
       "      <td>0</td>\n",
       "      <td>comment</td>\n",
       "      <td>28</td>\n",
       "      <td>,-</td>\n",
       "      <td>2</td>\n",
       "      <td>0.071429</td>\n",
       "      <td>['Ого', ',', 'Нина', 'Кравиц', 'в', 'лайн-апе😲']</td>\n",
       "      <td>6</td>\n",
       "      <td>0.214286</td>\n",
       "      <td>😲</td>\n",
       "      <td>1</td>\n",
       "      <td>0.035714</td>\n",
       "      <td>0</td>\n",
       "      <td>0.000000</td>\n",
       "      <td>0</td>\n",
       "      <td>0.000000</td>\n",
       "    </tr>\n",
       "    <tr>\n",
       "      <th>3</th>\n",
       "      <td>76920</td>\n",
       "      <td>[id17823823|Анастасия], с новым крутым шоу от ...</td>\n",
       "      <td>0</td>\n",
       "      <td>comment_to_comment</td>\n",
       "      <td>56</td>\n",
       "      <td>[|],</td>\n",
       "      <td>4</td>\n",
       "      <td>0.071429</td>\n",
       "      <td>['[', 'id17823823|Анастасия', ']', ',', 'с', '...</td>\n",
       "      <td>11</td>\n",
       "      <td>0.196429</td>\n",
       "      <td>NaN</td>\n",
       "      <td>0</td>\n",
       "      <td>0.000000</td>\n",
       "      <td>8</td>\n",
       "      <td>0.142857</td>\n",
       "      <td>2</td>\n",
       "      <td>0.035714</td>\n",
       "    </tr>\n",
       "    <tr>\n",
       "      <th>4</th>\n",
       "      <td>76922</td>\n",
       "      <td>Скину расписание на сегодня сюда. Время москов...</td>\n",
       "      <td>0</td>\n",
       "      <td>comment</td>\n",
       "      <td>687</td>\n",
       "      <td>..:......&amp;....:..........:......&amp;.....</td>\n",
       "      <td>38</td>\n",
       "      <td>0.055313</td>\n",
       "      <td>['Скину', 'расписание', 'на', 'сегодня', 'сюда...</td>\n",
       "      <td>112</td>\n",
       "      <td>0.163028</td>\n",
       "      <td>NaN</td>\n",
       "      <td>0</td>\n",
       "      <td>0.000000</td>\n",
       "      <td>127</td>\n",
       "      <td>0.184862</td>\n",
       "      <td>332</td>\n",
       "      <td>0.483261</td>\n",
       "    </tr>\n",
       "  </tbody>\n",
       "</table>\n",
       "</div>"
      ],
      "text/plain": [
       "      id                                               text  likes  \\\n",
       "0  76000  #конкурс@the4gkz \\r\\r\\r\\nДля вашего удобства с...     17   \n",
       "1  76914  Уже сегодня ночью (по МСК) начнётся один из са...     34   \n",
       "2  76917                       Ого, Нина Кравиц в лайн-апе😲      0   \n",
       "3  76920  [id17823823|Анастасия], с новым крутым шоу от ...      0   \n",
       "4  76922  Скину расписание на сегодня сюда. Время москов...      0   \n",
       "\n",
       "                label  len_char  \\\n",
       "0                post       503   \n",
       "1                post       669   \n",
       "2             comment        28   \n",
       "3  comment_to_comment        56   \n",
       "4             comment       687   \n",
       "\n",
       "                                             punct  punct_count    punct%  \\\n",
       "0  #@.:•|-.—:./:./•|-.—/:./:://./|://./•|.—:./:.,!           47  0.093439   \n",
       "1                     ()—.—()!..,!(),—(,).:://..//           28  0.041854   \n",
       "2                                               ,-            2  0.071429   \n",
       "3                                             [|],            4  0.071429   \n",
       "4           ..:......&....:..........:......&.....           38  0.055313   \n",
       "\n",
       "                                              tokens  tokens_count   tokens%  \\\n",
       "0  ['#', 'конкурс', '@', 'the4gkz', 'Для', 'вашег...            81  0.161034   \n",
       "1  ['Уже', 'сегодня', 'ночью', '(', 'по', 'МСК', ...           111  0.165919   \n",
       "2   ['Ого', ',', 'Нина', 'Кравиц', 'в', 'лайн-апе😲']             6  0.214286   \n",
       "3  ['[', 'id17823823|Анастасия', ']', ',', 'с', '...            11  0.196429   \n",
       "4  ['Скину', 'расписание', 'на', 'сегодня', 'сюда...           112  0.163028   \n",
       "\n",
       "  smiles  smiles_count   smiles%  numbers_count  numbers%  latin_count  \\\n",
       "0    NaN             0  0.000000             23  0.045726          116   \n",
       "1    NaN             0  0.000000              0  0.000000           49   \n",
       "2      😲             1  0.035714              0  0.000000            0   \n",
       "3    NaN             0  0.000000              8  0.142857            2   \n",
       "4    NaN             0  0.000000            127  0.184862          332   \n",
       "\n",
       "     latin%  \n",
       "0  0.230616  \n",
       "1  0.073244  \n",
       "2  0.000000  \n",
       "3  0.035714  \n",
       "4  0.483261  "
      ]
     },
     "execution_count": 5,
     "metadata": {
      "tags": []
     },
     "output_type": "execute_result"
    }
   ],
   "source": [
    "# загружаю датасет\n",
    "df_features = pd.read_csv('gk4z_features.csv')\n",
    "df_features.head()"
   ]
  },
  {
   "cell_type": "code",
   "execution_count": 0,
   "metadata": {
    "colab": {},
    "colab_type": "code",
    "id": "DjBpW4ilTL-o"
   },
   "outputs": [],
   "source": [
    "# функция, которая меняет лейблы на цифры\n",
    "def mapping(data,feature):\n",
    "    featureMap=dict()\n",
    "    count=0\n",
    "    for i in sorted(data[feature].unique(),reverse=True):\n",
    "        featureMap[i]=count\n",
    "        count=count+1\n",
    "    data[feature]=data[feature].map(featureMap)\n",
    "    return data"
   ]
  },
  {
   "cell_type": "code",
   "execution_count": 0,
   "metadata": {
    "colab": {},
    "colab_type": "code",
    "id": "V_X9QzseHsun"
   },
   "outputs": [],
   "source": [
    "# рисует функцию потерь в процессе выполнения\n",
    "class PlotLosses(keras.callbacks.Callback):\n",
    "    def on_train_begin(self, logs={}):\n",
    "        self.i = 0\n",
    "        self.x = []\n",
    "        self.losses = []\n",
    "        self.val_losses = []\n",
    "        \n",
    "        self.fig = plt.figure()\n",
    "        \n",
    "        self.logs = []\n",
    "\n",
    "    def on_epoch_end(self, epoch, logs={}):\n",
    "        \n",
    "        self.logs.append(logs)\n",
    "        self.x.append(self.i)\n",
    "        self.losses.append(logs.get('loss'))\n",
    "        self.val_losses.append(logs.get('val_loss'))\n",
    "        self.i += 1\n",
    "        \n",
    "        clear_output(wait=True)\n",
    "        plt.plot(self.x, self.losses, label=\"loss\")\n",
    "        plt.legend()\n",
    "        plt.show();\n",
    "        \n",
    "plot_losses = PlotLosses()"
   ]
  },
  {
   "cell_type": "code",
   "execution_count": 0,
   "metadata": {
    "colab": {},
    "colab_type": "code",
    "id": "mkQE4m3XTL7R"
   },
   "outputs": [],
   "source": [
    "#меняем лейблы\n",
    "df_features=mapping(df_features,feature=\"label\")"
   ]
  },
  {
   "cell_type": "code",
   "execution_count": 0,
   "metadata": {
    "colab": {},
    "colab_type": "code",
    "id": "IY4yKq1UTL36"
   },
   "outputs": [],
   "source": [
    "#делим датасет на тренировочный и тестовый\n",
    "x_train, x_test, y_train, y_test = train_test_split(df_features, df_features.label)"
   ]
  },
  {
   "cell_type": "markdown",
   "metadata": {
    "colab_type": "text",
    "id": "HrwPK3jb9-Uk"
   },
   "source": [
    "## Первая ветка"
   ]
  },
  {
   "cell_type": "code",
   "execution_count": 10,
   "metadata": {
    "colab": {
     "base_uri": "https://localhost:8080/",
     "height": 52
    },
    "colab_type": "code",
    "executionInfo": {
     "elapsed": 2602,
     "status": "ok",
     "timestamp": 1556468771127,
     "user": {
      "displayName": "Valerie Shelgunova",
      "photoUrl": "https://lh5.googleusercontent.com/-i2CX_QSsamo/AAAAAAAAAAI/AAAAAAAAAB8/YRSVdMujpXw/s64/photo.jpg",
      "userId": "14712883095412086889"
     },
     "user_tz": -180
    },
    "id": "LK8nZFjxTL0n",
    "outputId": "2ef8801f-70cb-409c-e5ff-ec18fcbd1290"
   },
   "outputs": [
    {
     "data": {
      "text/plain": [
       "<38877x68660 sparse matrix of type '<class 'numpy.int64'>'\n",
       "\twith 504606 stored elements in Compressed Sparse Row format>"
      ]
     },
     "execution_count": 10,
     "metadata": {
      "tags": []
     },
     "output_type": "execute_result"
    }
   ],
   "source": [
    "#делаем признаки КаунтВекторайзером\n",
    "vectorizer = CountVectorizer(tokenizer=wordpunct_tokenize) \n",
    "vectorizer.fit(df_features.text)\n",
    "\n",
    "X_train = vectorizer.transform(x_train.text)\n",
    "X_test  = vectorizer.transform(x_test.text)\n",
    "X_train"
   ]
  },
  {
   "cell_type": "code",
   "execution_count": 11,
   "metadata": {
    "colab": {
     "base_uri": "https://localhost:8080/",
     "height": 35
    },
    "colab_type": "code",
    "executionInfo": {
     "elapsed": 922,
     "status": "ok",
     "timestamp": 1556468775506,
     "user": {
      "displayName": "Valerie Shelgunova",
      "photoUrl": "https://lh5.googleusercontent.com/-i2CX_QSsamo/AAAAAAAAAAI/AAAAAAAAAB8/YRSVdMujpXw/s64/photo.jpg",
      "userId": "14712883095412086889"
     },
     "user_tz": -180
    },
    "id": "dN9Vaa_WDr9S",
    "outputId": "ec026555-cef9-44fb-e54f-5fc97494448d"
   },
   "outputs": [
    {
     "data": {
      "text/plain": [
       "68660"
      ]
     },
     "execution_count": 11,
     "metadata": {
      "tags": []
     },
     "output_type": "execute_result"
    }
   ],
   "source": [
    "input_dim1 = X_train.shape[1]\n",
    "input_dim1"
   ]
  },
  {
   "cell_type": "code",
   "execution_count": 12,
   "metadata": {
    "colab": {
     "base_uri": "https://localhost:8080/",
     "height": 90
    },
    "colab_type": "code",
    "executionInfo": {
     "elapsed": 625,
     "status": "ok",
     "timestamp": 1556468777292,
     "user": {
      "displayName": "Valerie Shelgunova",
      "photoUrl": "https://lh5.googleusercontent.com/-i2CX_QSsamo/AAAAAAAAAAI/AAAAAAAAAB8/YRSVdMujpXw/s64/photo.jpg",
      "userId": "14712883095412086889"
     },
     "user_tz": -180
    },
    "id": "kmwm-bBpB-Ux",
    "outputId": "7f1fd5cf-0fe1-4dd9-ae7e-ecdb1b565cb0"
   },
   "outputs": [
    {
     "name": "stdout",
     "output_type": "stream",
     "text": [
      "WARNING:tensorflow:From /usr/local/lib/python3.6/dist-packages/tensorflow/python/framework/op_def_library.py:263: colocate_with (from tensorflow.python.framework.ops) is deprecated and will be removed in a future version.\n",
      "Instructions for updating:\n",
      "Colocations handled automatically by placer.\n"
     ]
    }
   ],
   "source": [
    "# Делаем модель для первой ветки\n",
    "model1=Sequential()\n",
    "model1.add(Dense(10,input_dim=input_dim1, activation=\"relu\"))\n",
    "model1.add(Dense(10, activation=\"relu\"))\n"
   ]
  },
  {
   "cell_type": "markdown",
   "metadata": {
    "colab_type": "text",
    "id": "2WxgxxOf-CS0"
   },
   "source": [
    "## Вторая ветка"
   ]
  },
  {
   "cell_type": "code",
   "execution_count": 0,
   "metadata": {
    "colab": {},
    "colab_type": "code",
    "id": "Vc8QM-erTLxX"
   },
   "outputs": [],
   "source": [
    "# делаем датасет с признаками для второй ветки\n",
    "X_train2 =x_train.drop([\"label\", 'text', 'id', \"punct\",\"smiles\",\"tokens\"],axis=1)\n",
    "X_test2 = x_test.drop([\"label\", 'text', 'id', \"punct\",\"smiles\",\"tokens\"],axis=1)\n"
   ]
  },
  {
   "cell_type": "code",
   "execution_count": 15,
   "metadata": {
    "colab": {
     "base_uri": "https://localhost:8080/",
     "height": 35
    },
    "colab_type": "code",
    "executionInfo": {
     "elapsed": 694,
     "status": "ok",
     "timestamp": 1556468790159,
     "user": {
      "displayName": "Valerie Shelgunova",
      "photoUrl": "https://lh5.googleusercontent.com/-i2CX_QSsamo/AAAAAAAAAAI/AAAAAAAAAB8/YRSVdMujpXw/s64/photo.jpg",
      "userId": "14712883095412086889"
     },
     "user_tz": -180
    },
    "id": "DuT0zZ5kTLql",
    "outputId": "ea4fe5a0-a6e1-486a-f2ab-9d0674fe0516"
   },
   "outputs": [
    {
     "data": {
      "text/plain": [
       "12"
      ]
     },
     "execution_count": 15,
     "metadata": {
      "tags": []
     },
     "output_type": "execute_result"
    }
   ],
   "source": [
    "input_dim2 = X_train2.shape[1]\n",
    "input_dim2"
   ]
  },
  {
   "cell_type": "code",
   "execution_count": 0,
   "metadata": {
    "colab": {},
    "colab_type": "code",
    "id": "p0VHT7TxTLni"
   },
   "outputs": [],
   "source": [
    "# Делаем модель для второй ветки\n",
    "model2=Sequential()\n",
    "model2.add(Dense(10, input_dim=input_dim2, activation=\"relu\"))\n"
   ]
  },
  {
   "cell_type": "markdown",
   "metadata": {
    "colab_type": "text",
    "id": "u-2ziIdLJtb1"
   },
   "source": [
    "## Объединяем ветки"
   ]
  },
  {
   "cell_type": "code",
   "execution_count": 0,
   "metadata": {
    "colab": {},
    "colab_type": "code",
    "id": "LR1Z-hnzTLfu"
   },
   "outputs": [],
   "source": [
    "# соединяем результаты обеих веток\n",
    "combinedInput = concatenate([model1.output, model2.output])"
   ]
  },
  {
   "cell_type": "code",
   "execution_count": 0,
   "metadata": {
    "colab": {},
    "colab_type": "code",
    "id": "TZbN7O_1TLVB"
   },
   "outputs": [],
   "source": [
    "# прогоняем их еще через два слоя\n",
    "x = Dense(3, activation=\"relu\")(combinedInput)\n",
    "x = Dense(3, activation=tf.nn.softmax)(x)"
   ]
  },
  {
   "cell_type": "code",
   "execution_count": 0,
   "metadata": {
    "colab": {},
    "colab_type": "code",
    "id": "BQtA1xa_TLI9"
   },
   "outputs": [],
   "source": [
    "# записываем всё в единую модель\n",
    "combined_model = Model(inputs=[model1.input, model2.input], outputs=x)"
   ]
  },
  {
   "cell_type": "code",
   "execution_count": 20,
   "metadata": {
    "colab": {
     "base_uri": "https://localhost:8080/",
     "height": 644
    },
    "colab_type": "code",
    "executionInfo": {
     "elapsed": 1000,
     "status": "ok",
     "timestamp": 1556468807622,
     "user": {
      "displayName": "Valerie Shelgunova",
      "photoUrl": "https://lh5.googleusercontent.com/-i2CX_QSsamo/AAAAAAAAAAI/AAAAAAAAAB8/YRSVdMujpXw/s64/photo.jpg",
      "userId": "14712883095412086889"
     },
     "user_tz": -180
    },
    "id": "zQeir9cssRB8",
    "outputId": "06d969aa-83d3-4390-ecea-a84588902bc9"
   },
   "outputs": [
    {
     "data": {
      "image/png": "[encoded data removed]",
      "text/plain": [
       "<IPython.core.display.Image object>"
      ]
     },
     "execution_count": 20,
     "metadata": {
      "tags": []
     },
     "output_type": "execute_result"
    }
   ],
   "source": [
    "# посмотрим, как оно всё выглядит\n",
    "\n",
    "plot_model(combined_model, to_file=\"test_keras_plot_model.png\", show_shapes=True)\n",
    "Image(\"test_keras_plot_model.png\")"
   ]
  },
  {
   "cell_type": "code",
   "execution_count": 0,
   "metadata": {
    "colab": {},
    "colab_type": "code",
    "id": "2rAmWqVPX0M0"
   },
   "outputs": [],
   "source": [
    "# компилируем объединенную модель\n",
    "combined_model.compile(loss=\"sparse_categorical_crossentropy\",optimizer='rmsprop',metrics=['sparse_categorical_accuracy'])"
   ]
  },
  {
   "cell_type": "code",
   "execution_count": 56,
   "metadata": {
    "colab": {
     "base_uri": "https://localhost:8080/",
     "height": 269
    },
    "colab_type": "code",
    "executionInfo": {
     "elapsed": 6,
     "status": "ok",
     "timestamp": 1556465167659,
     "user": {
      "displayName": "Valerie Shelgunova",
      "photoUrl": "https://lh5.googleusercontent.com/-i2CX_QSsamo/AAAAAAAAAAI/AAAAAAAAAB8/YRSVdMujpXw/s64/photo.jpg",
      "userId": "14712883095412086889"
     },
     "user_tz": -180
    },
    "id": "Fo4KwKf1YZba",
    "outputId": "3720442e-47a3-4ede-ff49-12d360ab84aa"
   },
   "outputs": [
    {
     "data": {
      "image/png": "[encoded data removed]",
      "text/plain": [
       "<Figure size 432x288 with 1 Axes>"
      ]
     },
     "metadata": {
      "tags": []
     },
     "output_type": "display_data"
    }
   ],
   "source": [
    "# запускаем обучение\n",
    "history = combined_model.fit([X_train,X_train2],y_train, class_weight= {0:1.27977484, 1:3.8534047, 2:0.510438},epochs=5, callbacks=[plot_losses] )"
   ]
  },
  {
   "cell_type": "code",
   "execution_count": 0,
   "metadata": {
    "colab": {},
    "colab_type": "code",
    "id": "eoX7r5XTf-XI"
   },
   "outputs": [],
   "source": [
    "def classif_report(current_model):\n",
    "    predY=current_model.predict([X_test, X_test2]) \n",
    "    new_ar = []\n",
    "    for el in predY:\n",
    "        new_ar.append(np.argmax(el))\n",
    "    print(classification_report(y_test, new_ar))\n",
    "  "
   ]
  },
  {
   "cell_type": "markdown",
   "metadata": {
    "colab_type": "text",
    "id": "q--R3KE3qJf_"
   },
   "source": [
    "Я попробовала разные варианты (все ниже), но лучший результат у меня получился со следующими настройками:\n",
    "\n",
    "\n",
    "*   word_punct tokenizer в КаунтВекторайзере\n",
    "\n",
    "*   два слоя по 10 нейронов в первой ветке\n",
    "\n",
    "*   один слой с 10 нейронами во второй ветке\n",
    "*   два слоя по 3 нейрона в общей ветке\n",
    "\n",
    "\n",
    "*   веса, которые выдал sklearn {0:1.27977484, 1:3.8534047, 2:0.510438}\n",
    "*   10-15 эпох (на 20 эпохах получилось переобучение)\n",
    "\n",
    "С этими настройками, как мне кажется, комменты второго уровня определяются лучше всего с минимальным ущербом для остальных классов.\n",
    "\n",
    "\n",
    "\n",
    "\n",
    "\n",
    "\n"
   ]
  },
  {
   "cell_type": "code",
   "execution_count": 55,
   "metadata": {
    "colab": {
     "base_uri": "https://localhost:8080/",
     "height": 195
    },
    "colab_type": "code",
    "executionInfo": {
     "elapsed": 5098,
     "status": "ok",
     "timestamp": 1556464968951,
     "user": {
      "displayName": "Valerie Shelgunova",
      "photoUrl": "https://lh5.googleusercontent.com/-i2CX_QSsamo/AAAAAAAAAAI/AAAAAAAAAB8/YRSVdMujpXw/s64/photo.jpg",
      "userId": "14712883095412086889"
     },
     "user_tz": -180
    },
    "id": "CDMabKWvh-W3",
    "outputId": "323acb13-b833-425d-9b0c-8f302f8ee32c"
   },
   "outputs": [
    {
     "name": "stdout",
     "output_type": "stream",
     "text": [
      "              precision    recall  f1-score   support\n",
      "\n",
      "           0       0.96      0.97      0.96      3352\n",
      "           1       0.46      0.73      0.56      1131\n",
      "           2       0.95      0.87      0.91      8476\n",
      "\n",
      "   micro avg       0.88      0.88      0.88     12959\n",
      "   macro avg       0.79      0.86      0.81     12959\n",
      "weighted avg       0.91      0.88      0.89     12959\n",
      "\n"
     ]
    }
   ],
   "source": [
    "classif_report(combined_model)\n",
    "# word_punct tokenizer\n",
    "# веса сбаланс, \n",
    "# ветвь 1 - 10,10\n",
    "# ветвь 2 - 10\n",
    "# общая ветвь -  3,3\n",
    "# эпох 15"
   ]
  },
  {
   "cell_type": "code",
   "execution_count": 58,
   "metadata": {
    "colab": {
     "base_uri": "https://localhost:8080/",
     "height": 195
    },
    "colab_type": "code",
    "executionInfo": {
     "elapsed": 4965,
     "status": "ok",
     "timestamp": 1556466889826,
     "user": {
      "displayName": "Valerie Shelgunova",
      "photoUrl": "https://lh5.googleusercontent.com/-i2CX_QSsamo/AAAAAAAAAAI/AAAAAAAAAB8/YRSVdMujpXw/s64/photo.jpg",
      "userId": "14712883095412086889"
     },
     "user_tz": -180
    },
    "id": "Nz-jSYswi56Q",
    "outputId": "9ee6808d-34f2-499a-8d11-287dd118954d"
   },
   "outputs": [
    {
     "name": "stdout",
     "output_type": "stream",
     "text": [
      "              precision    recall  f1-score   support\n",
      "\n",
      "           0       0.95      0.97      0.96      3352\n",
      "           1       0.39      0.77      0.52      1131\n",
      "           2       0.95      0.82      0.88      8476\n",
      "\n",
      "   micro avg       0.85      0.85      0.85     12959\n",
      "   macro avg       0.76      0.85      0.79     12959\n",
      "weighted avg       0.90      0.85      0.87     12959\n",
      "\n"
     ]
    }
   ],
   "source": [
    "classif_report(combined_model)\n",
    "# word_punct tokenizer\n",
    "# веса сбаланс, \n",
    "# ветвь 1 - 10,10\n",
    "# ветвь 2 - 10\n",
    "# общая ветвь -  3,3\n",
    "# эпох 20 - переобучение, результат похуже."
   ]
  },
  {
   "cell_type": "code",
   "execution_count": 53,
   "metadata": {
    "colab": {
     "base_uri": "https://localhost:8080/",
     "height": 195
    },
    "colab_type": "code",
    "executionInfo": {
     "elapsed": 6555,
     "status": "ok",
     "timestamp": 1556464703287,
     "user": {
      "displayName": "Valerie Shelgunova",
      "photoUrl": "https://lh5.googleusercontent.com/-i2CX_QSsamo/AAAAAAAAAAI/AAAAAAAAAB8/YRSVdMujpXw/s64/photo.jpg",
      "userId": "14712883095412086889"
     },
     "user_tz": -180
    },
    "id": "wcWACiUjgtG0",
    "outputId": "c5efa9a8-e8e8-4973-acdd-29dac7b32467"
   },
   "outputs": [
    {
     "name": "stdout",
     "output_type": "stream",
     "text": [
      "              precision    recall  f1-score   support\n",
      "\n",
      "           0       0.95      0.98      0.96      3352\n",
      "           1       0.43      0.79      0.55      1131\n",
      "           2       0.96      0.84      0.89      8476\n",
      "\n",
      "   micro avg       0.87      0.87      0.87     12959\n",
      "   macro avg       0.78      0.87      0.80     12959\n",
      "weighted avg       0.91      0.87      0.88     12959\n",
      "\n"
     ]
    }
   ],
   "source": [
    "classif_report(combined_model)\n",
    "# word_punct tokenizer\n",
    "# веса сбаланс, \n",
    "# ветвь 1 - 10,10\n",
    "# ветвь 2 - 10\n",
    "# общая ветвь -  3,3\n",
    "# эпох 10"
   ]
  },
  {
   "cell_type": "code",
   "execution_count": 51,
   "metadata": {
    "colab": {
     "base_uri": "https://localhost:8080/",
     "height": 195
    },
    "colab_type": "code",
    "executionInfo": {
     "elapsed": 4626,
     "status": "ok",
     "timestamp": 1556464441308,
     "user": {
      "displayName": "Valerie Shelgunova",
      "photoUrl": "https://lh5.googleusercontent.com/-i2CX_QSsamo/AAAAAAAAAAI/AAAAAAAAAB8/YRSVdMujpXw/s64/photo.jpg",
      "userId": "14712883095412086889"
     },
     "user_tz": -180
    },
    "id": "0fCoXk_1gAC5",
    "outputId": "810d6de2-b321-4431-d5d1-6b50957b5897"
   },
   "outputs": [
    {
     "name": "stdout",
     "output_type": "stream",
     "text": [
      "              precision    recall  f1-score   support\n",
      "\n",
      "           0       0.95      0.97      0.96      3352\n",
      "           1       0.36      0.83      0.50      1131\n",
      "           2       0.96      0.78      0.86      8476\n",
      "\n",
      "   micro avg       0.84      0.84      0.84     12959\n",
      "   macro avg       0.76      0.86      0.77     12959\n",
      "weighted avg       0.90      0.84      0.86     12959\n",
      "\n"
     ]
    }
   ],
   "source": [
    "classif_report(combined_model)\n",
    "# word_punct tokenizer\n",
    "# веса сбаланс, \n",
    "# ветвь 1 - 10,10\n",
    "# ветвь 2 - 10\n",
    "# общая ветвь -  3,3\n",
    "# эпох 5"
   ]
  },
  {
   "cell_type": "markdown",
   "metadata": {
    "colab_type": "text",
    "id": "Lc-99W8TfaVB"
   },
   "source": [
    "analyzer=\"char\", ngram_range=(2,2)"
   ]
  },
  {
   "cell_type": "code",
   "execution_count": 29,
   "metadata": {
    "colab": {
     "base_uri": "https://localhost:8080/",
     "height": 195
    },
    "colab_type": "code",
    "executionInfo": {
     "elapsed": 1263,
     "status": "ok",
     "timestamp": 1556460171661,
     "user": {
      "displayName": "Valerie Shelgunova",
      "photoUrl": "https://lh5.googleusercontent.com/-i2CX_QSsamo/AAAAAAAAAAI/AAAAAAAAAB8/YRSVdMujpXw/s64/photo.jpg",
      "userId": "14712883095412086889"
     },
     "user_tz": -180
    },
    "id": "iTxIVfBiQPRa",
    "outputId": "96fbf652-eca5-4968-ad16-86f58679df89"
   },
   "outputs": [
    {
     "name": "stdout",
     "output_type": "stream",
     "text": [
      "              precision    recall  f1-score   support\n",
      "\n",
      "           0       0.96      0.98      0.97      3381\n",
      "           1       0.42      0.66      0.51      1156\n",
      "           2       0.94      0.86      0.90      8422\n",
      "\n",
      "   micro avg       0.87      0.87      0.87     12959\n",
      "   macro avg       0.77      0.83      0.79     12959\n",
      "weighted avg       0.90      0.87      0.88     12959\n",
      "\n"
     ]
    }
   ],
   "source": [
    "classif_report(combined_model)\n",
    "#analyzer=\"char\", ngram_range=(2,2)\n",
    "# веса сбаланс, \n",
    "# ветвь 1 - 10,\n",
    "# ветвь 2 - 10\n",
    "# общая ветвь -  3\n",
    "# эпох 10"
   ]
  },
  {
   "cell_type": "code",
   "execution_count": 27,
   "metadata": {
    "colab": {
     "base_uri": "https://localhost:8080/",
     "height": 195
    },
    "colab_type": "code",
    "executionInfo": {
     "elapsed": 1436,
     "status": "ok",
     "timestamp": 1556460106905,
     "user": {
      "displayName": "Valerie Shelgunova",
      "photoUrl": "https://lh5.googleusercontent.com/-i2CX_QSsamo/AAAAAAAAAAI/AAAAAAAAAB8/YRSVdMujpXw/s64/photo.jpg",
      "userId": "14712883095412086889"
     },
     "user_tz": -180
    },
    "id": "VFfM-cJ_YZPi",
    "outputId": "2a5d1693-2176-4c44-8772-6d3bc55ef481"
   },
   "outputs": [
    {
     "name": "stdout",
     "output_type": "stream",
     "text": [
      "              precision    recall  f1-score   support\n",
      "\n",
      "           0       0.98      0.96      0.97      3381\n",
      "           1       0.42      0.71      0.53      1156\n",
      "           2       0.94      0.86      0.90      8422\n",
      "\n",
      "   micro avg       0.87      0.87      0.87     12959\n",
      "   macro avg       0.78      0.84      0.80     12959\n",
      "weighted avg       0.90      0.87      0.88     12959\n",
      "\n"
     ]
    }
   ],
   "source": [
    "classif_report(combined_model)\n",
    "#analyzer=\"char\", ngram_range=(2,2)\n",
    "# веса сбаланс, \n",
    "# ветвь 1 - 10,\n",
    "# ветвь 2 - 10\n",
    "# общая ветвь -  3\n",
    "# эпох 5"
   ]
  },
  {
   "cell_type": "code",
   "execution_count": 0,
   "metadata": {
    "colab": {},
    "colab_type": "code",
    "id": "vXjPsan8G_GA"
   },
   "outputs": [],
   "source": [
    "def classif_report(current_model):\n",
    "    predY=current_model.predict([X_test, X_test2]) \n",
    "    new_ar = []\n",
    "    for el in predY:\n",
    "        new_ar.append(np.argmax(el))\n",
    "    print(classification_report(y_test, new_ar))\n",
    "  "
   ]
  },
  {
   "cell_type": "code",
   "execution_count": 24,
   "metadata": {
    "colab": {
     "base_uri": "https://localhost:8080/",
     "height": 195
    },
    "colab_type": "code",
    "executionInfo": {
     "elapsed": 1438,
     "status": "ok",
     "timestamp": 1556459651841,
     "user": {
      "displayName": "Valerie Shelgunova",
      "photoUrl": "https://lh5.googleusercontent.com/-i2CX_QSsamo/AAAAAAAAAAI/AAAAAAAAAB8/YRSVdMujpXw/s64/photo.jpg",
      "userId": "14712883095412086889"
     },
     "user_tz": -180
    },
    "id": "r8AzYTkbM4Hr",
    "outputId": "7761ecb2-aa96-454d-a1e3-1b90c2e8a1c1"
   },
   "outputs": [
    {
     "name": "stdout",
     "output_type": "stream",
     "text": [
      "              precision    recall  f1-score   support\n",
      "\n",
      "           0       0.98      0.95      0.97      3381\n",
      "           1       0.60      0.26      0.36      1156\n",
      "           2       0.89      0.97      0.93      8422\n",
      "\n",
      "   micro avg       0.90      0.90      0.90     12959\n",
      "   macro avg       0.82      0.73      0.75     12959\n",
      "weighted avg       0.89      0.90      0.89     12959\n",
      "\n"
     ]
    }
   ],
   "source": [
    "classif_report(combined_model)\n",
    "#analyzer=\"char\", ngram_range=(2,2)\n",
    "# нет весов, \n",
    "# ветвь 1 - 10,\n",
    "# ветвь 2 - 10\n",
    "# общая ветвь -  3\n",
    "# эпох 10"
   ]
  },
  {
   "cell_type": "code",
   "execution_count": 24,
   "metadata": {
    "colab": {
     "base_uri": "https://localhost:8080/",
     "height": 195
    },
    "colab_type": "code",
    "executionInfo": {
     "elapsed": 1603,
     "status": "ok",
     "timestamp": 1556459336160,
     "user": {
      "displayName": "Valerie Shelgunova",
      "photoUrl": "https://lh5.googleusercontent.com/-i2CX_QSsamo/AAAAAAAAAAI/AAAAAAAAAB8/YRSVdMujpXw/s64/photo.jpg",
      "userId": "14712883095412086889"
     },
     "user_tz": -180
    },
    "id": "29cldzmbL3qQ",
    "outputId": "d11b9932-86f2-4daf-de49-fa4d80b7960a"
   },
   "outputs": [
    {
     "name": "stdout",
     "output_type": "stream",
     "text": [
      "              precision    recall  f1-score   support\n",
      "\n",
      "           0       0.98      0.95      0.97      3347\n",
      "           1       0.56      0.29      0.39      1101\n",
      "           2       0.90      0.96      0.93      8511\n",
      "\n",
      "   micro avg       0.90      0.90      0.90     12959\n",
      "   macro avg       0.81      0.74      0.76     12959\n",
      "weighted avg       0.89      0.90      0.89     12959\n",
      "\n"
     ]
    }
   ],
   "source": [
    "classif_report(combined_model)\n",
    "#analyzer=\"char\", ngram_range=(2,2)\n",
    "# нет весов, \n",
    "# ветвь 1 - 50,50\n",
    "# ветвь 2 - 10\n",
    "# общая ветвь -  3\n",
    "# эпох 10"
   ]
  },
  {
   "cell_type": "code",
   "execution_count": 23,
   "metadata": {
    "colab": {
     "base_uri": "https://localhost:8080/",
     "height": 195
    },
    "colab_type": "code",
    "executionInfo": {
     "elapsed": 1619,
     "status": "ok",
     "timestamp": 1556458711225,
     "user": {
      "displayName": "Valerie Shelgunova",
      "photoUrl": "https://lh5.googleusercontent.com/-i2CX_QSsamo/AAAAAAAAAAI/AAAAAAAAAB8/YRSVdMujpXw/s64/photo.jpg",
      "userId": "14712883095412086889"
     },
     "user_tz": -180
    },
    "id": "IIDOs0BMKE4R",
    "outputId": "ca9f427d-5dd1-426e-83c3-75d31c923055"
   },
   "outputs": [
    {
     "name": "stdout",
     "output_type": "stream",
     "text": [
      "              precision    recall  f1-score   support\n",
      "\n",
      "           0       0.97      0.96      0.96      3416\n",
      "           1       0.59      0.31      0.40      1123\n",
      "           2       0.90      0.96      0.93      8420\n",
      "\n",
      "   micro avg       0.90      0.90      0.90     12959\n",
      "   macro avg       0.82      0.74      0.76     12959\n",
      "weighted avg       0.89      0.90      0.89     12959\n",
      "\n"
     ]
    }
   ],
   "source": [
    "classif_report(combined_model)\n",
    "#analyzer=\"char\", ngram_range=(2,2)\n",
    "# нет весов, \n",
    "# ветвь 1 - 50,50\n",
    "# ветвь 2 - 50\n",
    "# общая ветвь -  3\n",
    "# эпох 5"
   ]
  },
  {
   "cell_type": "code",
   "execution_count": 24,
   "metadata": {
    "colab": {
     "base_uri": "https://localhost:8080/",
     "height": 195
    },
    "colab_type": "code",
    "executionInfo": {
     "elapsed": 1631,
     "status": "ok",
     "timestamp": 1556458412206,
     "user": {
      "displayName": "Valerie Shelgunova",
      "photoUrl": "https://lh5.googleusercontent.com/-i2CX_QSsamo/AAAAAAAAAAI/AAAAAAAAAB8/YRSVdMujpXw/s64/photo.jpg",
      "userId": "14712883095412086889"
     },
     "user_tz": -180
    },
    "id": "1Ax-p4S5Jfa6",
    "outputId": "d0b205bf-ea5a-40c2-acfd-45130875cc60"
   },
   "outputs": [
    {
     "name": "stdout",
     "output_type": "stream",
     "text": [
      "              precision    recall  f1-score   support\n",
      "\n",
      "           0       0.98      0.97      0.97      3453\n",
      "           1       0.56      0.30      0.39      1093\n",
      "           2       0.90      0.96      0.93      8413\n",
      "\n",
      "   micro avg       0.91      0.91      0.91     12959\n",
      "   macro avg       0.81      0.74      0.76     12959\n",
      "weighted avg       0.89      0.91      0.90     12959\n",
      "\n"
     ]
    }
   ],
   "source": [
    "classif_report(combined_model)\n",
    "#analyzer=\"char\", ngram_range=(2,2)\n",
    "# нет весов, \n",
    "# ветвь 1 - 50,50\n",
    "# ветвь 2 - 50\n",
    "# общая ветвь - 50, 3\n",
    "# эпох 5"
   ]
  }
 ],
 "metadata": {
  "colab": {
   "collapsed_sections": [],
   "name": "Mult_input7.ipynb",
   "provenance": [],
   "version": "0.3.2"
  },
  "kernelspec": {
   "display_name": "Python 3",
   "language": "python",
   "name": "python3"
  },
  "language_info": {
   "codemirror_mode": {
    "name": "ipython",
    "version": 3
   },
   "file_extension": ".py",
   "mimetype": "text/x-python",
   "name": "python",
   "nbconvert_exporter": "python",
   "pygments_lexer": "ipython3",
   "version": "3.6.8"
  }
 },
 "nbformat": 4,
 "nbformat_minor": 1
}
