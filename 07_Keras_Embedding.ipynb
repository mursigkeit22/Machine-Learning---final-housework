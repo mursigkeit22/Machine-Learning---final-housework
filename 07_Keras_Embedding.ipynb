{
 "cells": [
  {
   "cell_type": "markdown",
   "metadata": {},
   "source": [
    "Сейчас я хочу попробовать возможность Кераса делать собственные эмбеддинги. Я пользовалась вот этой статьёй:"
   ]
  },
  {
   "cell_type": "markdown",
   "metadata": {
    "colab_type": "text",
    "id": "xPfAJB24cZH0"
   },
   "source": [
    "https://realpython.com/python-keras-text-classification/"
   ]
  },
  {
   "cell_type": "code",
   "execution_count": 0,
   "metadata": {
    "colab": {},
    "colab_type": "code",
    "id": "zOtXZm27H_Tr"
   },
   "outputs": [],
   "source": [
    "import numpy as np\n",
    "import pandas as pd\n",
    "from nltk.tokenize import wordpunct_tokenize\n",
    "import emoji\n"
   ]
  },
  {
   "cell_type": "code",
   "execution_count": 0,
   "metadata": {
    "colab": {},
    "colab_type": "code",
    "id": "57VGKwjCXsXN"
   },
   "outputs": [],
   "source": [
    "!pip install emoji"
   ]
  },
  {
   "cell_type": "code",
   "execution_count": 0,
   "metadata": {
    "colab": {},
    "colab_type": "code",
    "id": "9v-YR9VoIJ1k"
   },
   "outputs": [],
   "source": [
    "import matplotlib.pyplot as plt\n",
    "from IPython.display import clear_output"
   ]
  },
  {
   "cell_type": "code",
   "execution_count": 0,
   "metadata": {
    "colab": {},
    "colab_type": "code",
    "id": "HANSSb5aJzDS"
   },
   "outputs": [],
   "source": [
    "from sklearn.model_selection import train_test_split\n",
    "from sklearn.metrics import classification_report\n",
    "from sklearn.utils import class_weight\n"
   ]
  },
  {
   "cell_type": "code",
   "execution_count": 6,
   "metadata": {
    "colab": {
     "base_uri": "https://localhost:8080/",
     "height": 35
    },
    "colab_type": "code",
    "executionInfo": {
     "elapsed": 1669,
     "status": "ok",
     "timestamp": 1556423698994,
     "user": {
      "displayName": "Valerie Shelgunova",
      "photoUrl": "https://lh5.googleusercontent.com/-i2CX_QSsamo/AAAAAAAAAAI/AAAAAAAAAB8/YRSVdMujpXw/s64/photo.jpg",
      "userId": "14712883095412086889"
     },
     "user_tz": -180
    },
    "id": "g-b4pxglIJyQ",
    "outputId": "b2ccfd17-0b55-4143-ba62-4b49d83dcbd3"
   },
   "outputs": [
    {
     "name": "stderr",
     "output_type": "stream",
     "text": [
      "Using TensorFlow backend.\n"
     ]
    }
   ],
   "source": [
    "import keras\n",
    "from keras.models import Sequential\n",
    "from keras import layers\n",
    "import tensorflow as tf\n",
    "from keras.layers import Dense,Activation,Layer,Lambda\n",
    "from keras.preprocessing.text import Tokenizer\n",
    "from keras.preprocessing.sequence import pad_sequences\n"
   ]
  },
  {
   "cell_type": "code",
   "execution_count": 7,
   "metadata": {
    "colab": {
     "base_uri": "https://localhost:8080/",
     "height": 282
    },
    "colab_type": "code",
    "executionInfo": {
     "elapsed": 925,
     "status": "ok",
     "timestamp": 1556423803524,
     "user": {
      "displayName": "Valerie Shelgunova",
      "photoUrl": "https://lh5.googleusercontent.com/-i2CX_QSsamo/AAAAAAAAAAI/AAAAAAAAAB8/YRSVdMujpXw/s64/photo.jpg",
      "userId": "14712883095412086889"
     },
     "user_tz": -180
    },
    "id": "0RK3rmshIJvc",
    "outputId": "def4b7bb-4057-49d0-9970-d93fe0c6362d"
   },
   "outputs": [
    {
     "data": {
      "text/html": [
       "<div>\n",
       "<style scoped>\n",
       "    .dataframe tbody tr th:only-of-type {\n",
       "        vertical-align: middle;\n",
       "    }\n",
       "\n",
       "    .dataframe tbody tr th {\n",
       "        vertical-align: top;\n",
       "    }\n",
       "\n",
       "    .dataframe thead th {\n",
       "        text-align: right;\n",
       "    }\n",
       "</style>\n",
       "<table border=\"1\" class=\"dataframe\">\n",
       "  <thead>\n",
       "    <tr style=\"text-align: right;\">\n",
       "      <th></th>\n",
       "      <th>id</th>\n",
       "      <th>text</th>\n",
       "      <th>likes</th>\n",
       "      <th>label</th>\n",
       "      <th>len_char</th>\n",
       "      <th>punct</th>\n",
       "      <th>punct_count</th>\n",
       "      <th>punct%</th>\n",
       "      <th>tokens</th>\n",
       "      <th>tokens_count</th>\n",
       "      <th>tokens%</th>\n",
       "      <th>smiles</th>\n",
       "      <th>smiles_count</th>\n",
       "      <th>smiles%</th>\n",
       "      <th>numbers_count</th>\n",
       "      <th>numbers%</th>\n",
       "      <th>latin_count</th>\n",
       "      <th>latin%</th>\n",
       "    </tr>\n",
       "  </thead>\n",
       "  <tbody>\n",
       "    <tr>\n",
       "      <th>0</th>\n",
       "      <td>76000</td>\n",
       "      <td>#конкурс@the4gkz \\r\\r\\r\\nДля вашего удобства с...</td>\n",
       "      <td>17</td>\n",
       "      <td>post</td>\n",
       "      <td>503</td>\n",
       "      <td>#@.:•|-.—:./:./•|-.—/:./:://./|://./•|.—:./:.,!</td>\n",
       "      <td>47</td>\n",
       "      <td>0.093439</td>\n",
       "      <td>['#', 'конкурс', '@', 'the4gkz', 'Для', 'вашег...</td>\n",
       "      <td>81</td>\n",
       "      <td>0.161034</td>\n",
       "      <td>NaN</td>\n",
       "      <td>0</td>\n",
       "      <td>0.0</td>\n",
       "      <td>23</td>\n",
       "      <td>0.045726</td>\n",
       "      <td>116</td>\n",
       "      <td>0.230616</td>\n",
       "    </tr>\n",
       "    <tr>\n",
       "      <th>1</th>\n",
       "      <td>76914</td>\n",
       "      <td>Уже сегодня ночью (по МСК) начнётся один из са...</td>\n",
       "      <td>34</td>\n",
       "      <td>post</td>\n",
       "      <td>669</td>\n",
       "      <td>()—.—()!..,!(),—(,).:://..//</td>\n",
       "      <td>28</td>\n",
       "      <td>0.041854</td>\n",
       "      <td>['Уже', 'сегодня', 'ночью', '(', 'по', 'МСК', ...</td>\n",
       "      <td>111</td>\n",
       "      <td>0.165919</td>\n",
       "      <td>NaN</td>\n",
       "      <td>0</td>\n",
       "      <td>0.0</td>\n",
       "      <td>0</td>\n",
       "      <td>0.000000</td>\n",
       "      <td>49</td>\n",
       "      <td>0.073244</td>\n",
       "    </tr>\n",
       "  </tbody>\n",
       "</table>\n",
       "</div>"
      ],
      "text/plain": [
       "      id                                               text  likes label  \\\n",
       "0  76000  #конкурс@the4gkz \\r\\r\\r\\nДля вашего удобства с...     17  post   \n",
       "1  76914  Уже сегодня ночью (по МСК) начнётся один из са...     34  post   \n",
       "\n",
       "   len_char                                            punct  punct_count  \\\n",
       "0       503  #@.:•|-.—:./:./•|-.—/:./:://./|://./•|.—:./:.,!           47   \n",
       "1       669                     ()—.—()!..,!(),—(,).:://..//           28   \n",
       "\n",
       "     punct%                                             tokens  tokens_count  \\\n",
       "0  0.093439  ['#', 'конкурс', '@', 'the4gkz', 'Для', 'вашег...            81   \n",
       "1  0.041854  ['Уже', 'сегодня', 'ночью', '(', 'по', 'МСК', ...           111   \n",
       "\n",
       "    tokens% smiles  smiles_count  smiles%  numbers_count  numbers%  \\\n",
       "0  0.161034    NaN             0      0.0             23  0.045726   \n",
       "1  0.165919    NaN             0      0.0              0  0.000000   \n",
       "\n",
       "   latin_count    latin%  \n",
       "0          116  0.230616  \n",
       "1           49  0.073244  "
      ]
     },
     "execution_count": 7,
     "metadata": {
      "tags": []
     },
     "output_type": "execute_result"
    }
   ],
   "source": [
    "df_features = pd.read_csv('gk4z_features.csv')\n",
    "df_features.head(2)"
   ]
  },
  {
   "cell_type": "code",
   "execution_count": 0,
   "metadata": {
    "colab": {},
    "colab_type": "code",
    "id": "3TE_2UC7IJsk"
   },
   "outputs": [],
   "source": [
    "def mapping(data,feature):\n",
    "    featureMap=dict()\n",
    "    count=0\n",
    "    for i in sorted(data[feature].unique(),reverse=True):\n",
    "        featureMap[i]=count\n",
    "        count=count+1\n",
    "    data[feature]=data[feature].map(featureMap)\n",
    "    return data"
   ]
  },
  {
   "cell_type": "code",
   "execution_count": 0,
   "metadata": {
    "colab": {},
    "colab_type": "code",
    "id": "R9NMh59fIJpq"
   },
   "outputs": [],
   "source": [
    "df_features=mapping(df_features,feature=\"label\")"
   ]
  },
  {
   "cell_type": "markdown",
   "metadata": {
    "colab_type": "text",
    "id": "sKZNBrYGQAgL"
   },
   "source": [
    "Сначала нужно подготовить текст: отделить всю пунктуацию пробелами, иначе keras.tokenizer не сможет пунктуацию считать как отдельные токены.Я прочла об этом вот тут: https://stackoverflow.com/questions/49073673/include-punctuation-in-keras-tokenizer\n",
    "\n"
   ]
  },
  {
   "cell_type": "code",
   "execution_count": 0,
   "metadata": {
    "colab": {},
    "colab_type": "code",
    "id": "hiTIuSSvQT9s"
   },
   "outputs": [],
   "source": [
    "# пишу функцию, которая добавляет пробелы с двух сторон к знакам препинания и смайликам.\n",
    "my_punct = '«»...``\\'\\'•—!\"#$%&\\'()*+,-./:;<=>?@[\\\\]^_`{|}~'\n",
    "def add_space(row):\n",
    "  a = (''.join( (' '+i+' ') if i in my_punct else i for i in row['text']))\n",
    "  text_with_spaces = (''.join( (' '+i+' ') if i in emoji.UNICODE_EMOJI else i for i in a))\n",
    "  return text_with_spaces\n"
   ]
  },
  {
   "cell_type": "code",
   "execution_count": 0,
   "metadata": {
    "colab": {},
    "colab_type": "code",
    "id": "gSgvUuJKVBYH"
   },
   "outputs": [],
   "source": [
    "#делаю отдельную колонку с подготовленным текстом\n",
    "df_features['extra_space'] =df_features.apply(add_space, axis=1)\n",
    "\n"
   ]
  },
  {
   "cell_type": "code",
   "execution_count": 12,
   "metadata": {
    "colab": {
     "base_uri": "https://localhost:8080/",
     "height": 282
    },
    "colab_type": "code",
    "executionInfo": {
     "elapsed": 1288,
     "status": "ok",
     "timestamp": 1556423817647,
     "user": {
      "displayName": "Valerie Shelgunova",
      "photoUrl": "https://lh5.googleusercontent.com/-i2CX_QSsamo/AAAAAAAAAAI/AAAAAAAAAB8/YRSVdMujpXw/s64/photo.jpg",
      "userId": "14712883095412086889"
     },
     "user_tz": -180
    },
    "id": "WjcOcBrTaEVQ",
    "outputId": "553f6bb0-63a9-4dd8-e8ed-4fad36fc08a2"
   },
   "outputs": [
    {
     "data": {
      "text/html": [
       "<div>\n",
       "<style scoped>\n",
       "    .dataframe tbody tr th:only-of-type {\n",
       "        vertical-align: middle;\n",
       "    }\n",
       "\n",
       "    .dataframe tbody tr th {\n",
       "        vertical-align: top;\n",
       "    }\n",
       "\n",
       "    .dataframe thead th {\n",
       "        text-align: right;\n",
       "    }\n",
       "</style>\n",
       "<table border=\"1\" class=\"dataframe\">\n",
       "  <thead>\n",
       "    <tr style=\"text-align: right;\">\n",
       "      <th></th>\n",
       "      <th>id</th>\n",
       "      <th>text</th>\n",
       "      <th>likes</th>\n",
       "      <th>label</th>\n",
       "      <th>len_char</th>\n",
       "      <th>punct</th>\n",
       "      <th>punct_count</th>\n",
       "      <th>punct%</th>\n",
       "      <th>tokens</th>\n",
       "      <th>tokens_count</th>\n",
       "      <th>tokens%</th>\n",
       "      <th>smiles</th>\n",
       "      <th>smiles_count</th>\n",
       "      <th>smiles%</th>\n",
       "      <th>numbers_count</th>\n",
       "      <th>numbers%</th>\n",
       "      <th>latin_count</th>\n",
       "      <th>latin%</th>\n",
       "      <th>extra_space</th>\n",
       "    </tr>\n",
       "  </thead>\n",
       "  <tbody>\n",
       "    <tr>\n",
       "      <th>0</th>\n",
       "      <td>76000</td>\n",
       "      <td>#конкурс@the4gkz \\r\\r\\r\\nДля вашего удобства с...</td>\n",
       "      <td>17</td>\n",
       "      <td>0</td>\n",
       "      <td>503</td>\n",
       "      <td>#@.:•|-.—:./:./•|-.—/:./:://./|://./•|.—:./:.,!</td>\n",
       "      <td>47</td>\n",
       "      <td>0.093439</td>\n",
       "      <td>['#', 'конкурс', '@', 'the4gkz', 'Для', 'вашег...</td>\n",
       "      <td>81</td>\n",
       "      <td>0.161034</td>\n",
       "      <td>NaN</td>\n",
       "      <td>0</td>\n",
       "      <td>0.0</td>\n",
       "      <td>23</td>\n",
       "      <td>0.045726</td>\n",
       "      <td>116</td>\n",
       "      <td>0.230616</td>\n",
       "      <td># конкурс @ the4gkz \\r\\r\\r\\nДля вашего удобст...</td>\n",
       "    </tr>\n",
       "    <tr>\n",
       "      <th>1</th>\n",
       "      <td>76914</td>\n",
       "      <td>Уже сегодня ночью (по МСК) начнётся один из са...</td>\n",
       "      <td>34</td>\n",
       "      <td>0</td>\n",
       "      <td>669</td>\n",
       "      <td>()—.—()!..,!(),—(,).:://..//</td>\n",
       "      <td>28</td>\n",
       "      <td>0.041854</td>\n",
       "      <td>['Уже', 'сегодня', 'ночью', '(', 'по', 'МСК', ...</td>\n",
       "      <td>111</td>\n",
       "      <td>0.165919</td>\n",
       "      <td>NaN</td>\n",
       "      <td>0</td>\n",
       "      <td>0.0</td>\n",
       "      <td>0</td>\n",
       "      <td>0.000000</td>\n",
       "      <td>49</td>\n",
       "      <td>0.073244</td>\n",
       "      <td>Уже сегодня ночью  ( по МСК )  начнётся один и...</td>\n",
       "    </tr>\n",
       "  </tbody>\n",
       "</table>\n",
       "</div>"
      ],
      "text/plain": [
       "      id                                               text  likes  label  \\\n",
       "0  76000  #конкурс@the4gkz \\r\\r\\r\\nДля вашего удобства с...     17      0   \n",
       "1  76914  Уже сегодня ночью (по МСК) начнётся один из са...     34      0   \n",
       "\n",
       "   len_char                                            punct  punct_count  \\\n",
       "0       503  #@.:•|-.—:./:./•|-.—/:./:://./|://./•|.—:./:.,!           47   \n",
       "1       669                     ()—.—()!..,!(),—(,).:://..//           28   \n",
       "\n",
       "     punct%                                             tokens  tokens_count  \\\n",
       "0  0.093439  ['#', 'конкурс', '@', 'the4gkz', 'Для', 'вашег...            81   \n",
       "1  0.041854  ['Уже', 'сегодня', 'ночью', '(', 'по', 'МСК', ...           111   \n",
       "\n",
       "    tokens% smiles  smiles_count  smiles%  numbers_count  numbers%  \\\n",
       "0  0.161034    NaN             0      0.0             23  0.045726   \n",
       "1  0.165919    NaN             0      0.0              0  0.000000   \n",
       "\n",
       "   latin_count    latin%                                        extra_space  \n",
       "0          116  0.230616   # конкурс @ the4gkz \\r\\r\\r\\nДля вашего удобст...  \n",
       "1           49  0.073244  Уже сегодня ночью  ( по МСК )  начнётся один и...  "
      ]
     },
     "execution_count": 12,
     "metadata": {
      "tags": []
     },
     "output_type": "execute_result"
    }
   ],
   "source": [
    "# смотрю,появилась ли новая колонка\n",
    "df_features.head(2)"
   ]
  },
  {
   "cell_type": "code",
   "execution_count": 0,
   "metadata": {
    "colab": {},
    "colab_type": "code",
    "id": "d_F2TgXSIJmv"
   },
   "outputs": [],
   "source": [
    "# делю датасет на тест и трейн\n",
    "X = df_features['extra_space'].values\n",
    "y = df_features['label'].values\n",
    "\n",
    "text_train, text_test, y_train, y_test = train_test_split(X, y, random_state=20)"
   ]
  },
  {
   "cell_type": "code",
   "execution_count": 14,
   "metadata": {
    "colab": {
     "base_uri": "https://localhost:8080/",
     "height": 106
    },
    "colab_type": "code",
    "executionInfo": {
     "elapsed": 3211,
     "status": "ok",
     "timestamp": 1556423830688,
     "user": {
      "displayName": "Valerie Shelgunova",
      "photoUrl": "https://lh5.googleusercontent.com/-i2CX_QSsamo/AAAAAAAAAAI/AAAAAAAAAB8/YRSVdMujpXw/s64/photo.jpg",
      "userId": "14712883095412086889"
     },
     "user_tz": -180
    },
    "id": "f7eUo8UNIJg4",
    "outputId": "c2a35670-6f9f-45c6-9a44-209a4767f18b"
   },
   "outputs": [
    {
     "name": "stdout",
     "output_type": "stream",
     "text": [
      "61614\n",
      "а они не отстали\n",
      "[13, 45, 6, 25224]\n",
      "Служить ментом ,  чё\n",
      "[25716, 25717, 1, 853]\n"
     ]
    }
   ],
   "source": [
    "# ставлю в токенайзере пустой фильтр, чтобы он не отфильтровывал знаки препинания (по умолчанию он отфильтровывает)\n",
    "tokenizer = Tokenizer(filters=[])\n",
    "tokenizer.fit_on_texts(text_train)\n",
    "\n",
    "X_train = tokenizer.texts_to_sequences(text_train)\n",
    "X_test = tokenizer.texts_to_sequences(text_test)\n",
    "\n",
    "vocab_size = len(tokenizer.word_index) + 1  # Adding 1 because of reserved 0 index\n",
    "print(vocab_size)\n",
    "# смотрю, как закодировались слова:\n",
    "print(text_train[49])\n",
    "print(X_train[49])\n",
    "print(text_train[610])\n",
    "print(X_train[610])\n",
    "\n",
    "\n"
   ]
  },
  {
   "cell_type": "markdown",
   "metadata": {
    "colab_type": "text",
    "id": "MUB0QE5bLEtM"
   },
   "source": [
    "The indexing is ordered after the most common words in the text. Unknown words (words that are not in the vocabulary) are denoted in Keras with word_count + 1 since they can also hold some information."
   ]
  },
  {
   "cell_type": "markdown",
   "metadata": {
    "colab_type": "text",
    "id": "H2qIO5t_crmN"
   },
   "source": [
    "One problem that we have is that each text sequence has in most cases different length of words. To counter this, you can use pad_sequence() which simply pads the sequence of words with zeros. By default, it prepends zeros but we want to append them. Typically it does not matter whether you prepend or append zeros."
   ]
  },
  {
   "cell_type": "markdown",
   "metadata": {
    "colab_type": "text",
    "id": "-_Hdn8l4czHN"
   },
   "source": [
    "Additionally you would want to add a maxlen parameter to specify how long the sequences should be. This cuts sequences that exceed that number."
   ]
  },
  {
   "cell_type": "code",
   "execution_count": 15,
   "metadata": {
    "colab": {
     "base_uri": "https://localhost:8080/",
     "height": 177
    },
    "colab_type": "code",
    "executionInfo": {
     "elapsed": 892,
     "status": "ok",
     "timestamp": 1556423837005,
     "user": {
      "displayName": "Valerie Shelgunova",
      "photoUrl": "https://lh5.googleusercontent.com/-i2CX_QSsamo/AAAAAAAAAAI/AAAAAAAAAB8/YRSVdMujpXw/s64/photo.jpg",
      "userId": "14712883095412086889"
     },
     "user_tz": -180
    },
    "id": "_Xgvt_73ameP",
    "outputId": "e8ee55db-dd4a-4f63-93b2-15cbce524d44"
   },
   "outputs": [
    {
     "name": "stdout",
     "output_type": "stream",
     "text": [
      "[    6 25181  5262   305   337    15     0     0     0     0     0     0\n",
      "     0     0     0     0     0     0     0     0     0     0     0     0\n",
      "     0     0     0     0     0     0     0     0     0     0     0     0\n",
      "     0     0     0     0     0     0     0     0     0     0     0     0\n",
      "     0     0     0     0     0     0     0     0     0     0     0     0\n",
      "     0     0     0     0     0     0     0     0     0     0     0     0\n",
      "     0     0     0     0     0     0     0     0     0     0     0     0\n",
      "     0     0     0     0     0     0     0     0     0     0     0     0\n",
      "     0     0     0     0]\n"
     ]
    }
   ],
   "source": [
    " maxlen = 100\n",
    "\n",
    "X_train = pad_sequences(X_train, padding='post', maxlen=maxlen)\n",
    "X_test = pad_sequences(X_test, padding='post', maxlen=maxlen)\n",
    "\n",
    "print(X_train[0])"
   ]
  },
  {
   "cell_type": "markdown",
   "metadata": {
    "colab_type": "text",
    "id": "hLragesLmCLX"
   },
   "source": [
    "Now you can use the Embedding Layer of Keras which takes the previously calculated integers and maps them to a dense vector of the embedding. You will need the following parameters:\n",
    "\n",
    "input_dim: the size of the vocabulary\n",
    "\n",
    "output_dim: the size of the dense vector\n",
    "\n",
    "input_length: the length of the sequence\n",
    "\n",
    "With the Embedding layer we have now a couple of options. One way would be to take the output of the embedding layer and plug it into a Dense layer. In order to do this you have to add a Flatten layer in between that prepares the sequential input for the Dense layer:"
   ]
  },
  {
   "cell_type": "code",
   "execution_count": 0,
   "metadata": {
    "colab": {},
    "colab_type": "code",
    "id": "fZ-y_8zFmSIE"
   },
   "outputs": [],
   "source": [
    "class PlotLosses(keras.callbacks.Callback):\n",
    "    def on_train_begin(self, logs={}):\n",
    "        self.i = 0\n",
    "        self.x = []\n",
    "        self.losses = []\n",
    "        self.val_losses = []\n",
    "        \n",
    "        self.fig = plt.figure()\n",
    "        \n",
    "        self.logs = []\n",
    "\n",
    "    def on_epoch_end(self, epoch, logs={}):\n",
    "        \n",
    "        self.logs.append(logs)\n",
    "        self.x.append(self.i)\n",
    "        self.losses.append(logs.get('loss'))\n",
    "        self.val_losses.append(logs.get('val_loss'))\n",
    "        self.i += 1\n",
    "        \n",
    "        clear_output(wait=True)\n",
    "        plt.plot(self.x, self.losses, label=\"loss\")\n",
    "        plt.legend()\n",
    "        plt.show();\n",
    "        \n",
    "plot_losses = PlotLosses()"
   ]
  },
  {
   "cell_type": "code",
   "execution_count": 0,
   "metadata": {
    "colab": {},
    "colab_type": "code",
    "id": "eq1V1jxDpWou"
   },
   "outputs": [],
   "source": [
    "def classif_report(current_model):\n",
    "    predY=current_model.predict(X_test) \n",
    "    new_ar = []\n",
    "    for el in predY:\n",
    "        new_ar.append(np.argmax(el))\n",
    "    print(classification_report(y_test, new_ar))\n"
   ]
  },
  {
   "cell_type": "markdown",
   "metadata": {
    "colab_type": "text",
    "id": "Q-mmAZypw_iD"
   },
   "source": [
    "## Model 1"
   ]
  },
  {
   "cell_type": "code",
   "execution_count": 24,
   "metadata": {
    "colab": {
     "base_uri": "https://localhost:8080/",
     "height": 319
    },
    "colab_type": "code",
    "executionInfo": {
     "elapsed": 749,
     "status": "ok",
     "timestamp": 1556359559543,
     "user": {
      "displayName": "Valerie Shelgunova",
      "photoUrl": "https://lh5.googleusercontent.com/-i2CX_QSsamo/AAAAAAAAAAI/AAAAAAAAAB8/YRSVdMujpXw/s64/photo.jpg",
      "userId": "14712883095412086889"
     },
     "user_tz": -180
    },
    "id": "HHfiE0JxamSI",
    "outputId": "ddc27357-9596-4964-e4fc-ebfbce225799"
   },
   "outputs": [
    {
     "name": "stdout",
     "output_type": "stream",
     "text": [
      "_________________________________________________________________\n",
      "Layer (type)                 Output Shape              Param #   \n",
      "=================================================================\n",
      "embedding_3 (Embedding)      (None, 100, 50)           3080700   \n",
      "_________________________________________________________________\n",
      "flatten_3 (Flatten)          (None, 5000)              0         \n",
      "_________________________________________________________________\n",
      "dense_7 (Dense)              (None, 10)                50010     \n",
      "_________________________________________________________________\n",
      "dense_8 (Dense)              (None, 10)                110       \n",
      "_________________________________________________________________\n",
      "dense_9 (Dense)              (None, 3)                 33        \n",
      "=================================================================\n",
      "Total params: 3,130,853\n",
      "Trainable params: 3,130,853\n",
      "Non-trainable params: 0\n",
      "_________________________________________________________________\n"
     ]
    }
   ],
   "source": [
    "embedding_dim = 50\n",
    "\n",
    "model1 = Sequential()\n",
    "model1.add(layers.Embedding(input_dim=vocab_size, \n",
    "                           output_dim=embedding_dim, \n",
    "                           input_length=maxlen))\n",
    "model1.add(layers.Flatten())\n",
    "model1.add(layers.Dense(10, activation='relu'))\n",
    "model1.add(layers.Dense(10, activation='relu'))\n",
    "model1.add(layers.Dense(3, activation=tf.nn.softmax))\n",
    "model1.compile(loss=\"sparse_categorical_crossentropy\",optimizer='rmsprop',metrics=['sparse_categorical_accuracy'])\n",
    "model1.summary()"
   ]
  },
  {
   "cell_type": "code",
   "execution_count": 25,
   "metadata": {
    "colab": {
     "base_uri": "https://localhost:8080/",
     "height": 269
    },
    "colab_type": "code",
    "executionInfo": {
     "elapsed": 3,
     "status": "ok",
     "timestamp": 1556359783645,
     "user": {
      "displayName": "Valerie Shelgunova",
      "photoUrl": "https://lh5.googleusercontent.com/-i2CX_QSsamo/AAAAAAAAAAI/AAAAAAAAAB8/YRSVdMujpXw/s64/photo.jpg",
      "userId": "14712883095412086889"
     },
     "user_tz": -180
    },
    "id": "k-95yxOqo-Wa",
    "outputId": "e5c3a9a7-5948-4cdd-ba4c-c639a6e74e7a"
   },
   "outputs": [
    {
     "data": {
      "image/png": "[encoded data removed]",
      "text/plain": [
       "<Figure size 432x288 with 1 Axes>"
      ]
     },
     "metadata": {
      "tags": []
     },
     "output_type": "display_data"
    }
   ],
   "source": [
    "history = model1.fit(X_train, y_train, epochs=5, callbacks = [plot_losses])"
   ]
  },
  {
   "cell_type": "code",
   "execution_count": 26,
   "metadata": {
    "colab": {
     "base_uri": "https://localhost:8080/",
     "height": 195
    },
    "colab_type": "code",
    "executionInfo": {
     "elapsed": 212758,
     "status": "ok",
     "timestamp": 1556359784402,
     "user": {
      "displayName": "Valerie Shelgunova",
      "photoUrl": "https://lh5.googleusercontent.com/-i2CX_QSsamo/AAAAAAAAAAI/AAAAAAAAAB8/YRSVdMujpXw/s64/photo.jpg",
      "userId": "14712883095412086889"
     },
     "user_tz": -180
    },
    "id": "C4GN_voqo-Sq",
    "outputId": "f78d9941-f982-4273-b165-6f4bf697ed45"
   },
   "outputs": [
    {
     "name": "stdout",
     "output_type": "stream",
     "text": [
      "              precision    recall  f1-score   support\n",
      "\n",
      "           0       0.88      0.86      0.87      3443\n",
      "           1       0.55      0.56      0.56      1132\n",
      "           2       0.89      0.89      0.89      8384\n",
      "\n",
      "   micro avg       0.86      0.86      0.86     12959\n",
      "   macro avg       0.77      0.77      0.77     12959\n",
      "weighted avg       0.86      0.86      0.86     12959\n",
      "\n"
     ]
    }
   ],
   "source": [
    "classif_report(model1)"
   ]
  },
  {
   "cell_type": "markdown",
   "metadata": {
    "colab_type": "text",
    "id": "fSyo2XE2qaeb"
   },
   "source": [
    "Отличный результат для комментов второго уровня!"
   ]
  },
  {
   "cell_type": "markdown",
   "metadata": {
    "colab_type": "text",
    "id": "0b9FsqLZxEdF"
   },
   "source": [
    "## Model 2"
   ]
  },
  {
   "cell_type": "markdown",
   "metadata": {
    "colab_type": "text",
    "id": "jf6j6TFS7K99"
   },
   "source": [
    "Another way to work with embeddings is by using a MaxPooling1D/AveragePooling1D or a GlobalMaxPooling1D/GlobalAveragePooling1D layer after the embedding. You can think of the pooling layers as a way to downsample (a way to reduce the size of) the incoming feature vectors.\n",
    "\n",
    "In the case of max pooling you take the maximum value of all features in the pool for each feature dimension. In the case of average pooling you take the average, but max pooling seems to be more commonly used as it highlights large values.\n",
    "\n",
    "Global max/average pooling takes the maximum/average of all features whereas in the other case you have to define the pool size."
   ]
  },
  {
   "cell_type": "code",
   "execution_count": 18,
   "metadata": {
    "colab": {
     "base_uri": "https://localhost:8080/",
     "height": 392
    },
    "colab_type": "code",
    "executionInfo": {
     "elapsed": 799,
     "status": "ok",
     "timestamp": 1556423863894,
     "user": {
      "displayName": "Valerie Shelgunova",
      "photoUrl": "https://lh5.googleusercontent.com/-i2CX_QSsamo/AAAAAAAAAAI/AAAAAAAAAB8/YRSVdMujpXw/s64/photo.jpg",
      "userId": "14712883095412086889"
     },
     "user_tz": -180
    },
    "id": "rgwjOfU9o-PC",
    "outputId": "114f4471-d2cb-4682-cc8c-4d7947a75bdf"
   },
   "outputs": [
    {
     "name": "stdout",
     "output_type": "stream",
     "text": [
      "WARNING:tensorflow:From /usr/local/lib/python3.6/dist-packages/tensorflow/python/framework/op_def_library.py:263: colocate_with (from tensorflow.python.framework.ops) is deprecated and will be removed in a future version.\n",
      "Instructions for updating:\n",
      "Colocations handled automatically by placer.\n",
      "_________________________________________________________________\n",
      "Layer (type)                 Output Shape              Param #   \n",
      "=================================================================\n",
      "embedding_1 (Embedding)      (None, 100, 50)           3080700   \n",
      "_________________________________________________________________\n",
      "global_max_pooling1d_1 (Glob (None, 50)                0         \n",
      "_________________________________________________________________\n",
      "dense_1 (Dense)              (None, 10)                510       \n",
      "_________________________________________________________________\n",
      "dense_2 (Dense)              (None, 10)                110       \n",
      "_________________________________________________________________\n",
      "dense_3 (Dense)              (None, 3)                 33        \n",
      "=================================================================\n",
      "Total params: 3,081,353\n",
      "Trainable params: 3,081,353\n",
      "Non-trainable params: 0\n",
      "_________________________________________________________________\n"
     ]
    }
   ],
   "source": [
    "embedding_dim = 50\n",
    "\n",
    "model2 = Sequential()\n",
    "model2.add(layers.Embedding(input_dim=vocab_size, \n",
    "                           output_dim=embedding_dim, \n",
    "                           input_length=maxlen))\n",
    "model2.add(layers.GlobalMaxPool1D())\n",
    "model2.add(layers.Dense(10, activation='relu'))\n",
    "model2.add(layers.Dense(10, activation='relu'))\n",
    "model2.add(layers.Dense(3, activation=tf.nn.softmax))\n",
    "model2.compile(loss=\"sparse_categorical_crossentropy\",optimizer='rmsprop',metrics=['sparse_categorical_accuracy'])\n",
    "model2.summary()"
   ]
  },
  {
   "cell_type": "code",
   "execution_count": 19,
   "metadata": {
    "colab": {
     "base_uri": "https://localhost:8080/",
     "height": 269
    },
    "colab_type": "code",
    "executionInfo": {
     "elapsed": 5,
     "status": "ok",
     "timestamp": 1556424953766,
     "user": {
      "displayName": "Valerie Shelgunova",
      "photoUrl": "https://lh5.googleusercontent.com/-i2CX_QSsamo/AAAAAAAAAAI/AAAAAAAAAB8/YRSVdMujpXw/s64/photo.jpg",
      "userId": "14712883095412086889"
     },
     "user_tz": -180
    },
    "id": "dhKDF4Y8o-L2",
    "outputId": "3d5a3da8-49e1-4d23-c057-681355b13f28"
   },
   "outputs": [
    {
     "data": {
      "image/png": "[encoded data removed]",
      "text/plain": [
       "<Figure size 432x288 with 1 Axes>"
      ]
     },
     "metadata": {
      "tags": []
     },
     "output_type": "display_data"
    }
   ],
   "source": [
    "history = model2.fit(X_train, y_train, epochs=20, callbacks = [plot_losses])"
   ]
  },
  {
   "cell_type": "code",
   "execution_count": 20,
   "metadata": {
    "colab": {
     "base_uri": "https://localhost:8080/",
     "height": 195
    },
    "colab_type": "code",
    "executionInfo": {
     "elapsed": 927,
     "status": "ok",
     "timestamp": 1556424971119,
     "user": {
      "displayName": "Valerie Shelgunova",
      "photoUrl": "https://lh5.googleusercontent.com/-i2CX_QSsamo/AAAAAAAAAAI/AAAAAAAAAB8/YRSVdMujpXw/s64/photo.jpg",
      "userId": "14712883095412086889"
     },
     "user_tz": -180
    },
    "id": "46kfTorPo-IY",
    "outputId": "64c710f8-755f-444c-93bc-d6a1b778ed81"
   },
   "outputs": [
    {
     "name": "stdout",
     "output_type": "stream",
     "text": [
      "              precision    recall  f1-score   support\n",
      "\n",
      "           0       0.87      0.81      0.84      3443\n",
      "           1       0.57      0.44      0.50      1132\n",
      "           2       0.86      0.91      0.88      8384\n",
      "\n",
      "   micro avg       0.84      0.84      0.84     12959\n",
      "   macro avg       0.76      0.72      0.74     12959\n",
      "weighted avg       0.84      0.84      0.84     12959\n",
      "\n"
     ]
    }
   ],
   "source": [
    "classif_report(model2)"
   ]
  },
  {
   "cell_type": "markdown",
   "metadata": {
    "colab_type": "text",
    "id": "-iI95rvX6mjp"
   },
   "source": [
    "Я попробовала с epochs=5, 10 и 20, и результат ни разу не был лучше."
   ]
  },
  {
   "cell_type": "markdown",
   "metadata": {
    "colab_type": "text",
    "id": "7L-CXF7OLamZ"
   },
   "source": [
    "## Model 2_w\n",
    "\n",
    "попробую добавить веса"
   ]
  },
  {
   "cell_type": "code",
   "execution_count": 21,
   "metadata": {
    "colab": {
     "base_uri": "https://localhost:8080/",
     "height": 319
    },
    "colab_type": "code",
    "executionInfo": {
     "elapsed": 673,
     "status": "ok",
     "timestamp": 1556424987155,
     "user": {
      "displayName": "Valerie Shelgunova",
      "photoUrl": "https://lh5.googleusercontent.com/-i2CX_QSsamo/AAAAAAAAAAI/AAAAAAAAAB8/YRSVdMujpXw/s64/photo.jpg",
      "userId": "14712883095412086889"
     },
     "user_tz": -180
    },
    "id": "bnxA1CM1J11k",
    "outputId": "b3c0c42f-fbf0-4f59-da47-2df4ac4d05d9"
   },
   "outputs": [
    {
     "name": "stdout",
     "output_type": "stream",
     "text": [
      "_________________________________________________________________\n",
      "Layer (type)                 Output Shape              Param #   \n",
      "=================================================================\n",
      "embedding_2 (Embedding)      (None, 100, 50)           3080700   \n",
      "_________________________________________________________________\n",
      "global_max_pooling1d_2 (Glob (None, 50)                0         \n",
      "_________________________________________________________________\n",
      "dense_4 (Dense)              (None, 10)                510       \n",
      "_________________________________________________________________\n",
      "dense_5 (Dense)              (None, 10)                110       \n",
      "_________________________________________________________________\n",
      "dense_6 (Dense)              (None, 3)                 33        \n",
      "=================================================================\n",
      "Total params: 3,081,353\n",
      "Trainable params: 3,081,353\n",
      "Non-trainable params: 0\n",
      "_________________________________________________________________\n"
     ]
    }
   ],
   "source": [
    "embedding_dim = 50\n",
    "\n",
    "model2_w = Sequential()\n",
    "model2_w.add(layers.Embedding(input_dim=vocab_size, \n",
    "                           output_dim=embedding_dim, \n",
    "                           input_length=maxlen))\n",
    "model2_w.add(layers.GlobalMaxPool1D())\n",
    "model2_w.add(layers.Dense(10, activation='relu'))\n",
    "model2_w.add(layers.Dense(10, activation='relu'))\n",
    "model2_w.add(layers.Dense(3, activation=tf.nn.softmax))\n",
    "model2_w.compile(loss=\"sparse_categorical_crossentropy\",optimizer='rmsprop',metrics=['sparse_categorical_accuracy'])\n",
    "model2_w.summary()"
   ]
  },
  {
   "cell_type": "code",
   "execution_count": 23,
   "metadata": {
    "colab": {
     "base_uri": "https://localhost:8080/",
     "height": 269
    },
    "colab_type": "code",
    "executionInfo": {
     "elapsed": 5,
     "status": "ok",
     "timestamp": 1556426255815,
     "user": {
      "displayName": "Valerie Shelgunova",
      "photoUrl": "https://lh5.googleusercontent.com/-i2CX_QSsamo/AAAAAAAAAAI/AAAAAAAAAB8/YRSVdMujpXw/s64/photo.jpg",
      "userId": "14712883095412086889"
     },
     "user_tz": -180
    },
    "id": "HsBSqFmoKMsP",
    "outputId": "d5d23993-474a-4c29-c728-c737f3cc24a9"
   },
   "outputs": [
    {
     "data": {
      "image/png": "[encoded data removed]",
      "text/plain": [
       "<Figure size 432x288 with 1 Axes>"
      ]
     },
     "metadata": {
      "tags": []
     },
     "output_type": "display_data"
    }
   ],
   "source": [
    "history = model2_w.fit(X_train, y_train, epochs=20, class_weight= {0:1, 1:4, 2:0.5}, callbacks = [plot_losses])"
   ]
  },
  {
   "cell_type": "code",
   "execution_count": 25,
   "metadata": {
    "colab": {
     "base_uri": "https://localhost:8080/",
     "height": 195
    },
    "colab_type": "code",
    "executionInfo": {
     "elapsed": 909,
     "status": "ok",
     "timestamp": 1556426265505,
     "user": {
      "displayName": "Valerie Shelgunova",
      "photoUrl": "https://lh5.googleusercontent.com/-i2CX_QSsamo/AAAAAAAAAAI/AAAAAAAAAB8/YRSVdMujpXw/s64/photo.jpg",
      "userId": "14712883095412086889"
     },
     "user_tz": -180
    },
    "id": "DdtoUrV0LpII",
    "outputId": "584e2996-72f1-44da-990f-23195bf7700b"
   },
   "outputs": [
    {
     "name": "stdout",
     "output_type": "stream",
     "text": [
      "              precision    recall  f1-score   support\n",
      "\n",
      "           0       0.78      0.77      0.78      3443\n",
      "           1       0.28      0.80      0.41      1132\n",
      "           2       0.87      0.65      0.75      8384\n",
      "\n",
      "   micro avg       0.70      0.70      0.70     12959\n",
      "   macro avg       0.64      0.74      0.64     12959\n",
      "weighted avg       0.79      0.70      0.73     12959\n",
      "\n"
     ]
    }
   ],
   "source": [
    "classif_report(model2_w)"
   ]
  },
  {
   "cell_type": "markdown",
   "metadata": {
    "colab_type": "text",
    "id": "mEzgf45EPHS1"
   },
   "source": [
    "Веса явно сработали, но лучше не стало. \n",
    "\n",
    "## Model 2_w_b\n",
    "\n",
    "Попробую поставить чуть более сбалансированные веса и меньшее количество эпох"
   ]
  },
  {
   "cell_type": "code",
   "execution_count": 27,
   "metadata": {
    "colab": {
     "base_uri": "https://localhost:8080/",
     "height": 35
    },
    "colab_type": "code",
    "executionInfo": {
     "elapsed": 752,
     "status": "ok",
     "timestamp": 1556426370523,
     "user": {
      "displayName": "Valerie Shelgunova",
      "photoUrl": "https://lh5.googleusercontent.com/-i2CX_QSsamo/AAAAAAAAAAI/AAAAAAAAAB8/YRSVdMujpXw/s64/photo.jpg",
      "userId": "14712883095412086889"
     },
     "user_tz": -180
    },
    "id": "f7DsmNt3PO8W",
    "outputId": "99311177-d5fb-4c7c-d9be-bda3e24f3142"
   },
   "outputs": [
    {
     "data": {
      "text/plain": [
       "array([1.27977484, 3.8534047 , 0.510438  ])"
      ]
     },
     "execution_count": 27,
     "metadata": {
      "tags": []
     },
     "output_type": "execute_result"
    }
   ],
   "source": [
    "class_weights = class_weight.compute_class_weight('balanced',\n",
    "                                                 np.unique(y_train),\n",
    "                                                 y_train)\n",
    "class_weights"
   ]
  },
  {
   "cell_type": "code",
   "execution_count": 28,
   "metadata": {
    "colab": {
     "base_uri": "https://localhost:8080/",
     "height": 319
    },
    "colab_type": "code",
    "executionInfo": {
     "elapsed": 647,
     "status": "ok",
     "timestamp": 1556426514746,
     "user": {
      "displayName": "Valerie Shelgunova",
      "photoUrl": "https://lh5.googleusercontent.com/-i2CX_QSsamo/AAAAAAAAAAI/AAAAAAAAAB8/YRSVdMujpXw/s64/photo.jpg",
      "userId": "14712883095412086889"
     },
     "user_tz": -180
    },
    "id": "__oOkgVfPOW0",
    "outputId": "4d3b2522-0b51-482d-b6d7-4c18c84e32e4"
   },
   "outputs": [
    {
     "name": "stdout",
     "output_type": "stream",
     "text": [
      "_________________________________________________________________\n",
      "Layer (type)                 Output Shape              Param #   \n",
      "=================================================================\n",
      "embedding_3 (Embedding)      (None, 100, 50)           3080700   \n",
      "_________________________________________________________________\n",
      "global_max_pooling1d_3 (Glob (None, 50)                0         \n",
      "_________________________________________________________________\n",
      "dense_7 (Dense)              (None, 10)                510       \n",
      "_________________________________________________________________\n",
      "dense_8 (Dense)              (None, 10)                110       \n",
      "_________________________________________________________________\n",
      "dense_9 (Dense)              (None, 3)                 33        \n",
      "=================================================================\n",
      "Total params: 3,081,353\n",
      "Trainable params: 3,081,353\n",
      "Non-trainable params: 0\n",
      "_________________________________________________________________\n"
     ]
    }
   ],
   "source": [
    "embedding_dim = 50\n",
    "\n",
    "model2_w_b = Sequential()\n",
    "model2_w_b.add(layers.Embedding(input_dim=vocab_size, \n",
    "                           output_dim=embedding_dim, \n",
    "                           input_length=maxlen))\n",
    "model2_w_b.add(layers.GlobalMaxPool1D())\n",
    "model2_w_b.add(layers.Dense(10, activation='relu'))\n",
    "model2_w_b.add(layers.Dense(10, activation='relu'))\n",
    "model2_w_b.add(layers.Dense(3, activation=tf.nn.softmax))\n",
    "model2_w_b.compile(loss=\"sparse_categorical_crossentropy\",optimizer='rmsprop',metrics=['sparse_categorical_accuracy'])\n",
    "model2_w_b.summary()"
   ]
  },
  {
   "cell_type": "code",
   "execution_count": 29,
   "metadata": {
    "colab": {
     "base_uri": "https://localhost:8080/",
     "height": 269
    },
    "colab_type": "code",
    "executionInfo": {
     "elapsed": 8,
     "status": "ok",
     "timestamp": 1556427150647,
     "user": {
      "displayName": "Valerie Shelgunova",
      "photoUrl": "https://lh5.googleusercontent.com/-i2CX_QSsamo/AAAAAAAAAAI/AAAAAAAAAB8/YRSVdMujpXw/s64/photo.jpg",
      "userId": "14712883095412086889"
     },
     "user_tz": -180
    },
    "id": "s337FDPmQDHY",
    "outputId": "368443df-f106-46c4-cc09-453a62eb7134"
   },
   "outputs": [
    {
     "data": {
      "image/png": "[encoded data removed]",
      "text/plain": [
       "<Figure size 432x288 with 1 Axes>"
      ]
     },
     "metadata": {
      "tags": []
     },
     "output_type": "display_data"
    }
   ],
   "source": [
    "history = model2_w_b.fit(X_train, y_train, epochs=10, class_weight= {0:1.27977484, 1:3.8534047, 2:0.510438}, callbacks = [plot_losses])"
   ]
  },
  {
   "cell_type": "code",
   "execution_count": 30,
   "metadata": {
    "colab": {
     "base_uri": "https://localhost:8080/",
     "height": 195
    },
    "colab_type": "code",
    "executionInfo": {
     "elapsed": 890,
     "status": "ok",
     "timestamp": 1556427507754,
     "user": {
      "displayName": "Valerie Shelgunova",
      "photoUrl": "https://lh5.googleusercontent.com/-i2CX_QSsamo/AAAAAAAAAAI/AAAAAAAAAB8/YRSVdMujpXw/s64/photo.jpg",
      "userId": "14712883095412086889"
     },
     "user_tz": -180
    },
    "id": "LIf3zsYMTok0",
    "outputId": "ccdf6e23-26a9-45fa-888d-b0519ba1509a"
   },
   "outputs": [
    {
     "name": "stdout",
     "output_type": "stream",
     "text": [
      "              precision    recall  f1-score   support\n",
      "\n",
      "           0       0.77      0.89      0.83      3443\n",
      "           1       0.35      0.79      0.49      1132\n",
      "           2       0.91      0.70      0.79      8384\n",
      "\n",
      "   micro avg       0.76      0.76      0.76     12959\n",
      "   macro avg       0.68      0.79      0.70     12959\n",
      "weighted avg       0.83      0.76      0.78     12959\n",
      "\n"
     ]
    }
   ],
   "source": [
    "classif_report(model2_w_b)"
   ]
  },
  {
   "cell_type": "markdown",
   "metadata": {
    "colab_type": "text",
    "id": "4RENCWn3T-Qb"
   },
   "source": [
    "В общем, здесь с помощью весов мы добиваемся увеличения параметра recall комментов к комментам за счет обычных комментов. Я не думаю, что это есть хорошо."
   ]
  },
  {
   "cell_type": "markdown",
   "metadata": {
    "colab_type": "text",
    "id": "utTiNlGU82rV"
   },
   "source": [
    "## Model 3"
   ]
  },
  {
   "cell_type": "code",
   "execution_count": 27,
   "metadata": {
    "colab": {
     "base_uri": "https://localhost:8080/",
     "height": 319
    },
    "colab_type": "code",
    "executionInfo": {
     "elapsed": 660,
     "status": "ok",
     "timestamp": 1556360157951,
     "user": {
      "displayName": "Valerie Shelgunova",
      "photoUrl": "https://lh5.googleusercontent.com/-i2CX_QSsamo/AAAAAAAAAAI/AAAAAAAAAB8/YRSVdMujpXw/s64/photo.jpg",
      "userId": "14712883095412086889"
     },
     "user_tz": -180
    },
    "id": "GhOwnsalo9_z",
    "outputId": "8e6ba35a-5abe-4697-f113-94a7f181977b"
   },
   "outputs": [
    {
     "name": "stdout",
     "output_type": "stream",
     "text": [
      "_________________________________________________________________\n",
      "Layer (type)                 Output Shape              Param #   \n",
      "=================================================================\n",
      "embedding_4 (Embedding)      (None, 100, 50)           3080700   \n",
      "_________________________________________________________________\n",
      "global_average_pooling1d_1 ( (None, 50)                0         \n",
      "_________________________________________________________________\n",
      "dense_10 (Dense)             (None, 10)                510       \n",
      "_________________________________________________________________\n",
      "dense_11 (Dense)             (None, 10)                110       \n",
      "_________________________________________________________________\n",
      "dense_12 (Dense)             (None, 3)                 33        \n",
      "=================================================================\n",
      "Total params: 3,081,353\n",
      "Trainable params: 3,081,353\n",
      "Non-trainable params: 0\n",
      "_________________________________________________________________\n"
     ]
    }
   ],
   "source": [
    "embedding_dim = 50\n",
    "\n",
    "model3 = Sequential()\n",
    "model3.add(layers.Embedding(input_dim=vocab_size, \n",
    "                           output_dim=embedding_dim, \n",
    "                           input_length=maxlen))\n",
    "model3.add(layers.GlobalAveragePooling1D())\n",
    "model3.add(layers.Dense(10, activation='relu'))\n",
    "model3.add(layers.Dense(10, activation='relu'))\n",
    "model3.add(layers.Dense(3, activation=tf.nn.softmax))\n",
    "model3.compile(loss=\"sparse_categorical_crossentropy\",optimizer='rmsprop',metrics=['sparse_categorical_accuracy'])\n",
    "model3.summary()"
   ]
  },
  {
   "cell_type": "code",
   "execution_count": 28,
   "metadata": {
    "colab": {
     "base_uri": "https://localhost:8080/",
     "height": 269
    },
    "colab_type": "code",
    "executionInfo": {
     "elapsed": 4,
     "status": "ok",
     "timestamp": 1556363933417,
     "user": {
      "displayName": "Valerie Shelgunova",
      "photoUrl": "https://lh5.googleusercontent.com/-i2CX_QSsamo/AAAAAAAAAAI/AAAAAAAAAB8/YRSVdMujpXw/s64/photo.jpg",
      "userId": "14712883095412086889"
     },
     "user_tz": -180
    },
    "id": "DAY1-QOto9wa",
    "outputId": "54292ad3-a708-4404-bb11-15c0d9938940"
   },
   "outputs": [
    {
     "data": {
      "image/png": "[encoded data removed]",
      "text/plain": [
       "<Figure size 432x288 with 1 Axes>"
      ]
     },
     "metadata": {
      "tags": []
     },
     "output_type": "display_data"
    }
   ],
   "source": [
    "history = model3.fit(X_train, y_train, epochs=80, callbacks = [plot_losses]) #55 эпох - loss 0.17"
   ]
  },
  {
   "cell_type": "code",
   "execution_count": 29,
   "metadata": {
    "colab": {
     "base_uri": "https://localhost:8080/",
     "height": 195
    },
    "colab_type": "code",
    "executionInfo": {
     "elapsed": 3759494,
     "status": "ok",
     "timestamp": 1556363933651,
     "user": {
      "displayName": "Valerie Shelgunova",
      "photoUrl": "https://lh5.googleusercontent.com/-i2CX_QSsamo/AAAAAAAAAAI/AAAAAAAAAB8/YRSVdMujpXw/s64/photo.jpg",
      "userId": "14712883095412086889"
     },
     "user_tz": -180
    },
    "id": "jFW9idE89xS9",
    "outputId": "d1e6d214-f63b-48e0-a517-d3742c4a654d"
   },
   "outputs": [
    {
     "name": "stdout",
     "output_type": "stream",
     "text": [
      "              precision    recall  f1-score   support\n",
      "\n",
      "           0       0.92      0.78      0.84      3443\n",
      "           1       0.51      0.59      0.55      1132\n",
      "           2       0.86      0.90      0.88      8384\n",
      "\n",
      "   micro avg       0.84      0.84      0.84     12959\n",
      "   macro avg       0.76      0.76      0.76     12959\n",
      "weighted avg       0.85      0.84      0.84     12959\n",
      "\n"
     ]
    }
   ],
   "source": [
    "classif_report(model3)"
   ]
  },
  {
   "cell_type": "markdown",
   "metadata": {
    "colab_type": "text",
    "id": "wQtIEr6vCviL"
   },
   "source": []
  },
  {
   "cell_type": "markdown",
   "metadata": {
    "colab_type": "text",
    "id": "ZrXJDTYJCvVh"
   },
   "source": [
    "## 4\n",
    "буду настраивать модель со слоем Flatten. Попробую другое количество нейронов))"
   ]
  },
  {
   "cell_type": "code",
   "execution_count": 21,
   "metadata": {
    "colab": {
     "base_uri": "https://localhost:8080/",
     "height": 319
    },
    "colab_type": "code",
    "executionInfo": {
     "elapsed": 617,
     "status": "ok",
     "timestamp": 1556359127701,
     "user": {
      "displayName": "Valerie Shelgunova",
      "photoUrl": "https://lh5.googleusercontent.com/-i2CX_QSsamo/AAAAAAAAAAI/AAAAAAAAAB8/YRSVdMujpXw/s64/photo.jpg",
      "userId": "14712883095412086889"
     },
     "user_tz": -180
    },
    "id": "QFS0RkMmCwiL",
    "outputId": "7c01fec1-f321-4b8e-8f50-bb45da24403b"
   },
   "outputs": [
    {
     "name": "stdout",
     "output_type": "stream",
     "text": [
      "_________________________________________________________________\n",
      "Layer (type)                 Output Shape              Param #   \n",
      "=================================================================\n",
      "embedding_2 (Embedding)      (None, 100, 100)          6161400   \n",
      "_________________________________________________________________\n",
      "flatten_2 (Flatten)          (None, 10000)             0         \n",
      "_________________________________________________________________\n",
      "dense_4 (Dense)              (None, 50)                500050    \n",
      "_________________________________________________________________\n",
      "dense_5 (Dense)              (None, 50)                2550      \n",
      "_________________________________________________________________\n",
      "dense_6 (Dense)              (None, 3)                 153       \n",
      "=================================================================\n",
      "Total params: 6,664,153\n",
      "Trainable params: 6,664,153\n",
      "Non-trainable params: 0\n",
      "_________________________________________________________________\n"
     ]
    }
   ],
   "source": [
    "embedding_dim = 100\n",
    "\n",
    "model4 = Sequential()\n",
    "model4.add(layers.Embedding(input_dim=vocab_size, \n",
    "                           output_dim=embedding_dim, \n",
    "                           input_length=maxlen))\n",
    "model4.add(layers.Flatten())\n",
    "model4.add(layers.Dense(50, activation='relu'))\n",
    "model4.add(layers.Dense(50, activation='relu'))\n",
    "model4.add(layers.Dense(3, activation=tf.nn.softmax))\n",
    "model4.compile(loss=\"sparse_categorical_crossentropy\",optimizer='rmsprop',metrics=['sparse_categorical_accuracy'])\n",
    "model4.summary()"
   ]
  },
  {
   "cell_type": "code",
   "execution_count": 22,
   "metadata": {
    "colab": {
     "base_uri": "https://localhost:8080/",
     "height": 269
    },
    "colab_type": "code",
    "executionInfo": {
     "elapsed": 5,
     "status": "ok",
     "timestamp": 1556359420339,
     "user": {
      "displayName": "Valerie Shelgunova",
      "photoUrl": "https://lh5.googleusercontent.com/-i2CX_QSsamo/AAAAAAAAAAI/AAAAAAAAAB8/YRSVdMujpXw/s64/photo.jpg",
      "userId": "14712883095412086889"
     },
     "user_tz": -180
    },
    "id": "0eDIubtUDbsF",
    "outputId": "ac5955c8-7dd0-4694-bdbd-d38e24c5e555"
   },
   "outputs": [
    {
     "data": {
      "image/png": "[encoded data removed]",
      "text/plain": [
       "<Figure size 432x288 with 1 Axes>"
      ]
     },
     "metadata": {
      "tags": []
     },
     "output_type": "display_data"
    }
   ],
   "source": [
    "history = model4.fit(X_train, y_train, epochs=3, callbacks = [plot_losses]) "
   ]
  },
  {
   "cell_type": "code",
   "execution_count": 23,
   "metadata": {
    "colab": {
     "base_uri": "https://localhost:8080/",
     "height": 195
    },
    "colab_type": "code",
    "executionInfo": {
     "elapsed": 1279,
     "status": "ok",
     "timestamp": 1556359448822,
     "user": {
      "displayName": "Valerie Shelgunova",
      "photoUrl": "https://lh5.googleusercontent.com/-i2CX_QSsamo/AAAAAAAAAAI/AAAAAAAAAB8/YRSVdMujpXw/s64/photo.jpg",
      "userId": "14712883095412086889"
     },
     "user_tz": -180
    },
    "id": "6t0g5nd5MpT1",
    "outputId": "d3d1943d-4bcd-41b2-ddc6-0689501d836c"
   },
   "outputs": [
    {
     "name": "stdout",
     "output_type": "stream",
     "text": [
      "              precision    recall  f1-score   support\n",
      "\n",
      "           0       0.91      0.84      0.87      3443\n",
      "           1       0.62      0.51      0.56      1132\n",
      "           2       0.88      0.92      0.90      8384\n",
      "\n",
      "   micro avg       0.87      0.87      0.87     12959\n",
      "   macro avg       0.80      0.76      0.78     12959\n",
      "weighted avg       0.86      0.87      0.86     12959\n",
      "\n"
     ]
    }
   ],
   "source": [
    "classif_report(model4)"
   ]
  },
  {
   "cell_type": "markdown",
   "metadata": {
    "colab_type": "text",
    "id": "PGjGXEUjQLIT"
   },
   "source": [
    "10 эпох для этой модели - переобучение. Три эпохи - отличный результат. Но, в общем-то, такой же,  как у  модели 1 и у  модели 3, третья модель только долго обучается в сравнении с этими двумя.\n",
    "\n"
   ]
  }
 ],
 "metadata": {
  "colab": {
   "collapsed_sections": [],
   "name": "Embedding",
   "provenance": [],
   "version": "0.3.2"
  },
  "kernelspec": {
   "display_name": "Python 3",
   "language": "python",
   "name": "python3"
  },
  "language_info": {
   "codemirror_mode": {
    "name": "ipython",
    "version": 3
   },
   "file_extension": ".py",
   "mimetype": "text/x-python",
   "name": "python",
   "nbconvert_exporter": "python",
   "pygments_lexer": "ipython3",
   "version": "3.6.8"
  }
 },
 "nbformat": 4,
 "nbformat_minor": 1
}
