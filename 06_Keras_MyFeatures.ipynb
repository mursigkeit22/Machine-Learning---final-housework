{
 "cells": [
  {
   "cell_type": "markdown",
   "metadata": {
    "colab_type": "text",
    "id": "bPX21smiZ-3f"
   },
   "source": [
    "Сейчас я попробую сделать нейронную сеть на признаках, которые я вытащила из текстов.\n"
   ]
  },
  {
   "cell_type": "code",
   "execution_count": 0,
   "metadata": {
    "colab": {},
    "colab_type": "code",
    "id": "qd1VYdXQ4P1N"
   },
   "outputs": [],
   "source": [
    "import numpy as np\n",
    "import pandas as pd\n",
    "\n",
    "import tensorflow as tf\n",
    "\n",
    "from keras.models import Sequential\n",
    "from keras.layers import Dense,Activation,Layer,Lambda\n",
    "\n",
    "from sklearn.model_selection import train_test_split\n",
    "from sklearn.metrics import classification_report\n",
    "from sklearn.utils import class_weight\n",
    "from sklearn.preprocessing import normalize\n",
    "\n",
    "\n",
    "import keras\n",
    "import matplotlib.pyplot as plt\n",
    "from IPython.display import clear_output\n"
   ]
  },
  {
   "cell_type": "code",
   "execution_count": 0,
   "metadata": {
    "colab": {},
    "colab_type": "code",
    "id": "TeKmC_uy56To"
   },
   "outputs": [],
   "source": [
    "dataset=pd.read_csv(\"gk4z_features.csv\")"
   ]
  },
  {
   "cell_type": "code",
   "execution_count": 3,
   "metadata": {
    "colab": {
     "base_uri": "https://localhost:8080/",
     "height": 510
    },
    "colab_type": "code",
    "executionInfo": {
     "elapsed": 626,
     "status": "ok",
     "timestamp": 1556426653680,
     "user": {
      "displayName": "Valerie Shelgunova",
      "photoUrl": "https://lh5.googleusercontent.com/-i2CX_QSsamo/AAAAAAAAAAI/AAAAAAAAAB8/YRSVdMujpXw/s64/photo.jpg",
      "userId": "14712883095412086889"
     },
     "user_tz": -180
    },
    "id": "aTfD33nS6GHC",
    "outputId": "f884c2c1-5fe0-42af-dc37-a092132d7485"
   },
   "outputs": [
    {
     "data": {
      "text/html": [
       "<div>\n",
       "<style scoped>\n",
       "    .dataframe tbody tr th:only-of-type {\n",
       "        vertical-align: middle;\n",
       "    }\n",
       "\n",
       "    .dataframe tbody tr th {\n",
       "        vertical-align: top;\n",
       "    }\n",
       "\n",
       "    .dataframe thead th {\n",
       "        text-align: right;\n",
       "    }\n",
       "</style>\n",
       "<table border=\"1\" class=\"dataframe\">\n",
       "  <thead>\n",
       "    <tr style=\"text-align: right;\">\n",
       "      <th></th>\n",
       "      <th>id</th>\n",
       "      <th>text</th>\n",
       "      <th>likes</th>\n",
       "      <th>label</th>\n",
       "      <th>len_char</th>\n",
       "      <th>punct</th>\n",
       "      <th>punct_count</th>\n",
       "      <th>punct%</th>\n",
       "      <th>tokens</th>\n",
       "      <th>tokens_count</th>\n",
       "      <th>tokens%</th>\n",
       "      <th>smiles</th>\n",
       "      <th>smiles_count</th>\n",
       "      <th>smiles%</th>\n",
       "      <th>numbers_count</th>\n",
       "      <th>numbers%</th>\n",
       "      <th>latin_count</th>\n",
       "      <th>latin%</th>\n",
       "    </tr>\n",
       "  </thead>\n",
       "  <tbody>\n",
       "    <tr>\n",
       "      <th>0</th>\n",
       "      <td>76000</td>\n",
       "      <td>#конкурс@the4gkz \\r\\r\\r\\nДля вашего удобства с...</td>\n",
       "      <td>17</td>\n",
       "      <td>post</td>\n",
       "      <td>503</td>\n",
       "      <td>#@.:•|-.—:./:./•|-.—/:./:://./|://./•|.—:./:.,!</td>\n",
       "      <td>47</td>\n",
       "      <td>0.093439</td>\n",
       "      <td>['#', 'конкурс', '@', 'the4gkz', 'Для', 'вашег...</td>\n",
       "      <td>81</td>\n",
       "      <td>0.161034</td>\n",
       "      <td>NaN</td>\n",
       "      <td>0</td>\n",
       "      <td>0.000000</td>\n",
       "      <td>23</td>\n",
       "      <td>0.045726</td>\n",
       "      <td>116</td>\n",
       "      <td>0.230616</td>\n",
       "    </tr>\n",
       "    <tr>\n",
       "      <th>1</th>\n",
       "      <td>76914</td>\n",
       "      <td>Уже сегодня ночью (по МСК) начнётся один из са...</td>\n",
       "      <td>34</td>\n",
       "      <td>post</td>\n",
       "      <td>669</td>\n",
       "      <td>()—.—()!..,!(),—(,).:://..//</td>\n",
       "      <td>28</td>\n",
       "      <td>0.041854</td>\n",
       "      <td>['Уже', 'сегодня', 'ночью', '(', 'по', 'МСК', ...</td>\n",
       "      <td>111</td>\n",
       "      <td>0.165919</td>\n",
       "      <td>NaN</td>\n",
       "      <td>0</td>\n",
       "      <td>0.000000</td>\n",
       "      <td>0</td>\n",
       "      <td>0.000000</td>\n",
       "      <td>49</td>\n",
       "      <td>0.073244</td>\n",
       "    </tr>\n",
       "    <tr>\n",
       "      <th>2</th>\n",
       "      <td>76917</td>\n",
       "      <td>Ого, Нина Кравиц в лайн-апе😲</td>\n",
       "      <td>0</td>\n",
       "      <td>comment</td>\n",
       "      <td>28</td>\n",
       "      <td>,-</td>\n",
       "      <td>2</td>\n",
       "      <td>0.071429</td>\n",
       "      <td>['Ого', ',', 'Нина', 'Кравиц', 'в', 'лайн-апе😲']</td>\n",
       "      <td>6</td>\n",
       "      <td>0.214286</td>\n",
       "      <td>😲</td>\n",
       "      <td>1</td>\n",
       "      <td>0.035714</td>\n",
       "      <td>0</td>\n",
       "      <td>0.000000</td>\n",
       "      <td>0</td>\n",
       "      <td>0.000000</td>\n",
       "    </tr>\n",
       "    <tr>\n",
       "      <th>3</th>\n",
       "      <td>76920</td>\n",
       "      <td>[id17823823|Анастасия], с новым крутым шоу от ...</td>\n",
       "      <td>0</td>\n",
       "      <td>comment_to_comment</td>\n",
       "      <td>56</td>\n",
       "      <td>[|],</td>\n",
       "      <td>4</td>\n",
       "      <td>0.071429</td>\n",
       "      <td>['[', 'id17823823|Анастасия', ']', ',', 'с', '...</td>\n",
       "      <td>11</td>\n",
       "      <td>0.196429</td>\n",
       "      <td>NaN</td>\n",
       "      <td>0</td>\n",
       "      <td>0.000000</td>\n",
       "      <td>8</td>\n",
       "      <td>0.142857</td>\n",
       "      <td>2</td>\n",
       "      <td>0.035714</td>\n",
       "    </tr>\n",
       "    <tr>\n",
       "      <th>4</th>\n",
       "      <td>76922</td>\n",
       "      <td>Скину расписание на сегодня сюда. Время москов...</td>\n",
       "      <td>0</td>\n",
       "      <td>comment</td>\n",
       "      <td>687</td>\n",
       "      <td>..:......&amp;....:..........:......&amp;.....</td>\n",
       "      <td>38</td>\n",
       "      <td>0.055313</td>\n",
       "      <td>['Скину', 'расписание', 'на', 'сегодня', 'сюда...</td>\n",
       "      <td>112</td>\n",
       "      <td>0.163028</td>\n",
       "      <td>NaN</td>\n",
       "      <td>0</td>\n",
       "      <td>0.000000</td>\n",
       "      <td>127</td>\n",
       "      <td>0.184862</td>\n",
       "      <td>332</td>\n",
       "      <td>0.483261</td>\n",
       "    </tr>\n",
       "  </tbody>\n",
       "</table>\n",
       "</div>"
      ],
      "text/plain": [
       "      id                                               text  likes  \\\n",
       "0  76000  #конкурс@the4gkz \\r\\r\\r\\nДля вашего удобства с...     17   \n",
       "1  76914  Уже сегодня ночью (по МСК) начнётся один из са...     34   \n",
       "2  76917                       Ого, Нина Кравиц в лайн-апе😲      0   \n",
       "3  76920  [id17823823|Анастасия], с новым крутым шоу от ...      0   \n",
       "4  76922  Скину расписание на сегодня сюда. Время москов...      0   \n",
       "\n",
       "                label  len_char  \\\n",
       "0                post       503   \n",
       "1                post       669   \n",
       "2             comment        28   \n",
       "3  comment_to_comment        56   \n",
       "4             comment       687   \n",
       "\n",
       "                                             punct  punct_count    punct%  \\\n",
       "0  #@.:•|-.—:./:./•|-.—/:./:://./|://./•|.—:./:.,!           47  0.093439   \n",
       "1                     ()—.—()!..,!(),—(,).:://..//           28  0.041854   \n",
       "2                                               ,-            2  0.071429   \n",
       "3                                             [|],            4  0.071429   \n",
       "4           ..:......&....:..........:......&.....           38  0.055313   \n",
       "\n",
       "                                              tokens  tokens_count   tokens%  \\\n",
       "0  ['#', 'конкурс', '@', 'the4gkz', 'Для', 'вашег...            81  0.161034   \n",
       "1  ['Уже', 'сегодня', 'ночью', '(', 'по', 'МСК', ...           111  0.165919   \n",
       "2   ['Ого', ',', 'Нина', 'Кравиц', 'в', 'лайн-апе😲']             6  0.214286   \n",
       "3  ['[', 'id17823823|Анастасия', ']', ',', 'с', '...            11  0.196429   \n",
       "4  ['Скину', 'расписание', 'на', 'сегодня', 'сюда...           112  0.163028   \n",
       "\n",
       "  smiles  smiles_count   smiles%  numbers_count  numbers%  latin_count  \\\n",
       "0    NaN             0  0.000000             23  0.045726          116   \n",
       "1    NaN             0  0.000000              0  0.000000           49   \n",
       "2      😲             1  0.035714              0  0.000000            0   \n",
       "3    NaN             0  0.000000              8  0.142857            2   \n",
       "4    NaN             0  0.000000            127  0.184862          332   \n",
       "\n",
       "     latin%  \n",
       "0  0.230616  \n",
       "1  0.073244  \n",
       "2  0.000000  \n",
       "3  0.035714  \n",
       "4  0.483261  "
      ]
     },
     "execution_count": 3,
     "metadata": {
      "tags": []
     },
     "output_type": "execute_result"
    }
   ],
   "source": [
    "dataset.head()"
   ]
  },
  {
   "cell_type": "code",
   "execution_count": 4,
   "metadata": {
    "colab": {
     "base_uri": "https://localhost:8080/",
     "height": 407
    },
    "colab_type": "code",
    "executionInfo": {
     "elapsed": 643,
     "status": "ok",
     "timestamp": 1556426665262,
     "user": {
      "displayName": "Valerie Shelgunova",
      "photoUrl": "https://lh5.googleusercontent.com/-i2CX_QSsamo/AAAAAAAAAAI/AAAAAAAAAB8/YRSVdMujpXw/s64/photo.jpg",
      "userId": "14712883095412086889"
     },
     "user_tz": -180
    },
    "id": "1ZonPODE6GDs",
    "outputId": "955d76ba-cf84-44f6-a59d-988a1f4625ed"
   },
   "outputs": [
    {
     "data": {
      "text/html": [
       "<div>\n",
       "<style scoped>\n",
       "    .dataframe tbody tr th:only-of-type {\n",
       "        vertical-align: middle;\n",
       "    }\n",
       "\n",
       "    .dataframe tbody tr th {\n",
       "        vertical-align: top;\n",
       "    }\n",
       "\n",
       "    .dataframe thead th {\n",
       "        text-align: right;\n",
       "    }\n",
       "</style>\n",
       "<table border=\"1\" class=\"dataframe\">\n",
       "  <thead>\n",
       "    <tr style=\"text-align: right;\">\n",
       "      <th></th>\n",
       "      <th>text</th>\n",
       "      <th>likes</th>\n",
       "      <th>label</th>\n",
       "      <th>len_char</th>\n",
       "      <th>punct_count</th>\n",
       "      <th>punct%</th>\n",
       "      <th>tokens_count</th>\n",
       "      <th>tokens%</th>\n",
       "      <th>smiles_count</th>\n",
       "      <th>smiles%</th>\n",
       "      <th>numbers_count</th>\n",
       "      <th>numbers%</th>\n",
       "      <th>latin_count</th>\n",
       "      <th>latin%</th>\n",
       "    </tr>\n",
       "  </thead>\n",
       "  <tbody>\n",
       "    <tr>\n",
       "      <th>0</th>\n",
       "      <td>#конкурс@the4gkz \\r\\r\\r\\nДля вашего удобства с...</td>\n",
       "      <td>17</td>\n",
       "      <td>post</td>\n",
       "      <td>503</td>\n",
       "      <td>47</td>\n",
       "      <td>0.093439</td>\n",
       "      <td>81</td>\n",
       "      <td>0.161034</td>\n",
       "      <td>0</td>\n",
       "      <td>0.000000</td>\n",
       "      <td>23</td>\n",
       "      <td>0.045726</td>\n",
       "      <td>116</td>\n",
       "      <td>0.230616</td>\n",
       "    </tr>\n",
       "    <tr>\n",
       "      <th>1</th>\n",
       "      <td>Уже сегодня ночью (по МСК) начнётся один из са...</td>\n",
       "      <td>34</td>\n",
       "      <td>post</td>\n",
       "      <td>669</td>\n",
       "      <td>28</td>\n",
       "      <td>0.041854</td>\n",
       "      <td>111</td>\n",
       "      <td>0.165919</td>\n",
       "      <td>0</td>\n",
       "      <td>0.000000</td>\n",
       "      <td>0</td>\n",
       "      <td>0.000000</td>\n",
       "      <td>49</td>\n",
       "      <td>0.073244</td>\n",
       "    </tr>\n",
       "    <tr>\n",
       "      <th>2</th>\n",
       "      <td>Ого, Нина Кравиц в лайн-апе😲</td>\n",
       "      <td>0</td>\n",
       "      <td>comment</td>\n",
       "      <td>28</td>\n",
       "      <td>2</td>\n",
       "      <td>0.071429</td>\n",
       "      <td>6</td>\n",
       "      <td>0.214286</td>\n",
       "      <td>1</td>\n",
       "      <td>0.035714</td>\n",
       "      <td>0</td>\n",
       "      <td>0.000000</td>\n",
       "      <td>0</td>\n",
       "      <td>0.000000</td>\n",
       "    </tr>\n",
       "    <tr>\n",
       "      <th>3</th>\n",
       "      <td>[id17823823|Анастасия], с новым крутым шоу от ...</td>\n",
       "      <td>0</td>\n",
       "      <td>comment_to_comment</td>\n",
       "      <td>56</td>\n",
       "      <td>4</td>\n",
       "      <td>0.071429</td>\n",
       "      <td>11</td>\n",
       "      <td>0.196429</td>\n",
       "      <td>0</td>\n",
       "      <td>0.000000</td>\n",
       "      <td>8</td>\n",
       "      <td>0.142857</td>\n",
       "      <td>2</td>\n",
       "      <td>0.035714</td>\n",
       "    </tr>\n",
       "    <tr>\n",
       "      <th>4</th>\n",
       "      <td>Скину расписание на сегодня сюда. Время москов...</td>\n",
       "      <td>0</td>\n",
       "      <td>comment</td>\n",
       "      <td>687</td>\n",
       "      <td>38</td>\n",
       "      <td>0.055313</td>\n",
       "      <td>112</td>\n",
       "      <td>0.163028</td>\n",
       "      <td>0</td>\n",
       "      <td>0.000000</td>\n",
       "      <td>127</td>\n",
       "      <td>0.184862</td>\n",
       "      <td>332</td>\n",
       "      <td>0.483261</td>\n",
       "    </tr>\n",
       "  </tbody>\n",
       "</table>\n",
       "</div>"
      ],
      "text/plain": [
       "                                                text  likes  \\\n",
       "0  #конкурс@the4gkz \\r\\r\\r\\nДля вашего удобства с...     17   \n",
       "1  Уже сегодня ночью (по МСК) начнётся один из са...     34   \n",
       "2                       Ого, Нина Кравиц в лайн-апе😲      0   \n",
       "3  [id17823823|Анастасия], с новым крутым шоу от ...      0   \n",
       "4  Скину расписание на сегодня сюда. Время москов...      0   \n",
       "\n",
       "                label  len_char  punct_count    punct%  tokens_count  \\\n",
       "0                post       503           47  0.093439            81   \n",
       "1                post       669           28  0.041854           111   \n",
       "2             comment        28            2  0.071429             6   \n",
       "3  comment_to_comment        56            4  0.071429            11   \n",
       "4             comment       687           38  0.055313           112   \n",
       "\n",
       "    tokens%  smiles_count   smiles%  numbers_count  numbers%  latin_count  \\\n",
       "0  0.161034             0  0.000000             23  0.045726          116   \n",
       "1  0.165919             0  0.000000              0  0.000000           49   \n",
       "2  0.214286             1  0.035714              0  0.000000            0   \n",
       "3  0.196429             0  0.000000              8  0.142857            2   \n",
       "4  0.163028             0  0.000000            127  0.184862          332   \n",
       "\n",
       "     latin%  \n",
       "0  0.230616  \n",
       "1  0.073244  \n",
       "2  0.000000  \n",
       "3  0.035714  \n",
       "4  0.483261  "
      ]
     },
     "execution_count": 4,
     "metadata": {
      "tags": []
     },
     "output_type": "execute_result"
    }
   ],
   "source": [
    "dataset=dataset.drop([\"id\", \"punct\",\"smiles\",\"tokens\"],axis=1)\n",
    "dataset.head()"
   ]
  },
  {
   "cell_type": "code",
   "execution_count": 0,
   "metadata": {
    "colab": {},
    "colab_type": "code",
    "id": "uFjuGxNV6F9e"
   },
   "outputs": [],
   "source": [
    "# заменяет строки на цифры\n",
    "def mapping(data,feature):\n",
    "    featureMap=dict()\n",
    "    count=0\n",
    "    for i in sorted(data[feature].unique(),reverse=True):\n",
    "        featureMap[i]=count\n",
    "        count=count+1\n",
    "    data[feature]=data[feature].map(featureMap)\n",
    "    return data"
   ]
  },
  {
   "cell_type": "code",
   "execution_count": 0,
   "metadata": {
    "colab": {},
    "colab_type": "code",
    "id": "ezLUbSZe6F6T"
   },
   "outputs": [],
   "source": [
    "dataset=mapping(dataset,feature=\"label\")"
   ]
  },
  {
   "cell_type": "code",
   "execution_count": 7,
   "metadata": {
    "colab": {
     "base_uri": "https://localhost:8080/",
     "height": 407
    },
    "colab_type": "code",
    "executionInfo": {
     "elapsed": 845,
     "status": "ok",
     "timestamp": 1556426676487,
     "user": {
      "displayName": "Valerie Shelgunova",
      "photoUrl": "https://lh5.googleusercontent.com/-i2CX_QSsamo/AAAAAAAAAAI/AAAAAAAAAB8/YRSVdMujpXw/s64/photo.jpg",
      "userId": "14712883095412086889"
     },
     "user_tz": -180
    },
    "id": "dIMsF5OX6Fx_",
    "outputId": "4f9d1684-98be-42fd-a8c7-e2a8cb2cc47c"
   },
   "outputs": [
    {
     "data": {
      "text/html": [
       "<div>\n",
       "<style scoped>\n",
       "    .dataframe tbody tr th:only-of-type {\n",
       "        vertical-align: middle;\n",
       "    }\n",
       "\n",
       "    .dataframe tbody tr th {\n",
       "        vertical-align: top;\n",
       "    }\n",
       "\n",
       "    .dataframe thead th {\n",
       "        text-align: right;\n",
       "    }\n",
       "</style>\n",
       "<table border=\"1\" class=\"dataframe\">\n",
       "  <thead>\n",
       "    <tr style=\"text-align: right;\">\n",
       "      <th></th>\n",
       "      <th>text</th>\n",
       "      <th>likes</th>\n",
       "      <th>label</th>\n",
       "      <th>len_char</th>\n",
       "      <th>punct_count</th>\n",
       "      <th>punct%</th>\n",
       "      <th>tokens_count</th>\n",
       "      <th>tokens%</th>\n",
       "      <th>smiles_count</th>\n",
       "      <th>smiles%</th>\n",
       "      <th>numbers_count</th>\n",
       "      <th>numbers%</th>\n",
       "      <th>latin_count</th>\n",
       "      <th>latin%</th>\n",
       "    </tr>\n",
       "  </thead>\n",
       "  <tbody>\n",
       "    <tr>\n",
       "      <th>0</th>\n",
       "      <td>#конкурс@the4gkz \\r\\r\\r\\nДля вашего удобства с...</td>\n",
       "      <td>17</td>\n",
       "      <td>0</td>\n",
       "      <td>503</td>\n",
       "      <td>47</td>\n",
       "      <td>0.093439</td>\n",
       "      <td>81</td>\n",
       "      <td>0.161034</td>\n",
       "      <td>0</td>\n",
       "      <td>0.000000</td>\n",
       "      <td>23</td>\n",
       "      <td>0.045726</td>\n",
       "      <td>116</td>\n",
       "      <td>0.230616</td>\n",
       "    </tr>\n",
       "    <tr>\n",
       "      <th>1</th>\n",
       "      <td>Уже сегодня ночью (по МСК) начнётся один из са...</td>\n",
       "      <td>34</td>\n",
       "      <td>0</td>\n",
       "      <td>669</td>\n",
       "      <td>28</td>\n",
       "      <td>0.041854</td>\n",
       "      <td>111</td>\n",
       "      <td>0.165919</td>\n",
       "      <td>0</td>\n",
       "      <td>0.000000</td>\n",
       "      <td>0</td>\n",
       "      <td>0.000000</td>\n",
       "      <td>49</td>\n",
       "      <td>0.073244</td>\n",
       "    </tr>\n",
       "    <tr>\n",
       "      <th>2</th>\n",
       "      <td>Ого, Нина Кравиц в лайн-апе😲</td>\n",
       "      <td>0</td>\n",
       "      <td>2</td>\n",
       "      <td>28</td>\n",
       "      <td>2</td>\n",
       "      <td>0.071429</td>\n",
       "      <td>6</td>\n",
       "      <td>0.214286</td>\n",
       "      <td>1</td>\n",
       "      <td>0.035714</td>\n",
       "      <td>0</td>\n",
       "      <td>0.000000</td>\n",
       "      <td>0</td>\n",
       "      <td>0.000000</td>\n",
       "    </tr>\n",
       "    <tr>\n",
       "      <th>3</th>\n",
       "      <td>[id17823823|Анастасия], с новым крутым шоу от ...</td>\n",
       "      <td>0</td>\n",
       "      <td>1</td>\n",
       "      <td>56</td>\n",
       "      <td>4</td>\n",
       "      <td>0.071429</td>\n",
       "      <td>11</td>\n",
       "      <td>0.196429</td>\n",
       "      <td>0</td>\n",
       "      <td>0.000000</td>\n",
       "      <td>8</td>\n",
       "      <td>0.142857</td>\n",
       "      <td>2</td>\n",
       "      <td>0.035714</td>\n",
       "    </tr>\n",
       "    <tr>\n",
       "      <th>4</th>\n",
       "      <td>Скину расписание на сегодня сюда. Время москов...</td>\n",
       "      <td>0</td>\n",
       "      <td>2</td>\n",
       "      <td>687</td>\n",
       "      <td>38</td>\n",
       "      <td>0.055313</td>\n",
       "      <td>112</td>\n",
       "      <td>0.163028</td>\n",
       "      <td>0</td>\n",
       "      <td>0.000000</td>\n",
       "      <td>127</td>\n",
       "      <td>0.184862</td>\n",
       "      <td>332</td>\n",
       "      <td>0.483261</td>\n",
       "    </tr>\n",
       "  </tbody>\n",
       "</table>\n",
       "</div>"
      ],
      "text/plain": [
       "                                                text  likes  label  len_char  \\\n",
       "0  #конкурс@the4gkz \\r\\r\\r\\nДля вашего удобства с...     17      0       503   \n",
       "1  Уже сегодня ночью (по МСК) начнётся один из са...     34      0       669   \n",
       "2                       Ого, Нина Кравиц в лайн-апе😲      0      2        28   \n",
       "3  [id17823823|Анастасия], с новым крутым шоу от ...      0      1        56   \n",
       "4  Скину расписание на сегодня сюда. Время москов...      0      2       687   \n",
       "\n",
       "   punct_count    punct%  tokens_count   tokens%  smiles_count   smiles%  \\\n",
       "0           47  0.093439            81  0.161034             0  0.000000   \n",
       "1           28  0.041854           111  0.165919             0  0.000000   \n",
       "2            2  0.071429             6  0.214286             1  0.035714   \n",
       "3            4  0.071429            11  0.196429             0  0.000000   \n",
       "4           38  0.055313           112  0.163028             0  0.000000   \n",
       "\n",
       "   numbers_count  numbers%  latin_count    latin%  \n",
       "0             23  0.045726          116  0.230616  \n",
       "1              0  0.000000           49  0.073244  \n",
       "2              0  0.000000            0  0.000000  \n",
       "3              8  0.142857            2  0.035714  \n",
       "4            127  0.184862          332  0.483261  "
      ]
     },
     "execution_count": 7,
     "metadata": {
      "tags": []
     },
     "output_type": "execute_result"
    }
   ],
   "source": [
    "dataset.head(5)"
   ]
  },
  {
   "cell_type": "code",
   "execution_count": 0,
   "metadata": {
    "colab": {},
    "colab_type": "code",
    "id": "id_vC3P-6FnW"
   },
   "outputs": [],
   "source": [
    "#divide dataset into x(input) and y(output)\n",
    "X=dataset.drop([\"label\", 'text'],axis=1)\n",
    "y=dataset[\"label\"]"
   ]
  },
  {
   "cell_type": "code",
   "execution_count": 0,
   "metadata": {
    "colab": {},
    "colab_type": "code",
    "id": "LdjwyhVo6FZw"
   },
   "outputs": [],
   "source": [
    "#divide dataset into training set and test set\n",
    "trainX, testX, trainY, testY = train_test_split(X, y, random_state=20)\n"
   ]
  },
  {
   "cell_type": "code",
   "execution_count": 0,
   "metadata": {
    "colab": {},
    "colab_type": "code",
    "id": "VYxoAsU38ZHZ"
   },
   "outputs": [],
   "source": [
    "def getModel(arr):\n",
    "    model=Sequential()\n",
    "    for i in range(len(arr)):\n",
    "        if i!=0 and i!=len(arr)-1:\n",
    "            if i==1:\n",
    "                model.add(Dense(arr[i],input_dim=arr[0], kernel_initializer='normal', activation='relu'))\n",
    "            else:\n",
    "                model.add(Dense(arr[i],activation='relu'))\n",
    "    model.add(Dense(arr[-1], kernel_initializer='normal', activation=tf.nn.softmax))\n",
    "    model.compile(optimizer='rmsprop', \n",
    "              loss='sparse_categorical_crossentropy',\n",
    "              metrics=['sparse_categorical_accuracy'])\n",
    "    return model\n",
    "  \n",
    "# Всё, что будет ниже, я пробовала делать с tf.train.AdamOptimizer() и optimizer='rmsprop', разницы в результатах не заметила\n",
    "# Также пробовала ставить kernel_initializer='normal' и без него, разницы тоже не заметила\n",
    "# Я бы еще что-нибудь попробовала, но просто не знаю, что можно менять, чтобы это было осмысленно"
   ]
  },
  {
   "cell_type": "code",
   "execution_count": 0,
   "metadata": {
    "colab": {},
    "colab_type": "code",
    "id": "XBKT0wN58Y79"
   },
   "outputs": [],
   "source": [
    "\n",
    "class PlotLosses(keras.callbacks.Callback):\n",
    "    def on_train_begin(self, logs={}):\n",
    "        self.i = 0\n",
    "        self.x = []\n",
    "        self.losses = []\n",
    "        self.val_losses = []\n",
    "        \n",
    "        self.fig = plt.figure()\n",
    "        \n",
    "        self.logs = []\n",
    "\n",
    "    def on_epoch_end(self, epoch, logs={}):\n",
    "        \n",
    "        self.logs.append(logs)\n",
    "        self.x.append(self.i)\n",
    "        self.losses.append(logs.get('loss'))\n",
    "        self.val_losses.append(logs.get('val_loss'))\n",
    "        self.i += 1\n",
    "        \n",
    "        clear_output(wait=True)\n",
    "        plt.plot(self.x, self.losses, label=\"loss\")\n",
    "        plt.legend()\n",
    "        plt.show();\n",
    "        \n",
    "plot_losses = PlotLosses()"
   ]
  },
  {
   "cell_type": "code",
   "execution_count": 0,
   "metadata": {
    "colab": {},
    "colab_type": "code",
    "id": "cIs_Khl9VM8v"
   },
   "outputs": [],
   "source": [
    "def classif_report(current_model):\n",
    "    predY=current_model.predict(testX) \n",
    "    new_ar = []\n",
    "    for el in predY:\n",
    "        new_ar.append(np.argmax(el))\n",
    "    print(classification_report(testY, new_ar))"
   ]
  },
  {
   "cell_type": "markdown",
   "metadata": {
    "colab_type": "text",
    "id": "xhD1DxY-ZtcA"
   },
   "source": [
    "Сейчас я буду пробовать разное количество слоёв и нейронов в моделях, и разное количество эпох."
   ]
  },
  {
   "cell_type": "markdown",
   "metadata": {
    "colab_type": "text",
    "id": "Cxdwp1hkduOx"
   },
   "source": [
    "# 1"
   ]
  },
  {
   "cell_type": "code",
   "execution_count": 0,
   "metadata": {
    "colab": {},
    "colab_type": "code",
    "id": "i1i7cS8l8Y_T"
   },
   "outputs": [],
   "source": [
    "firstModel=getModel([12,50,3])"
   ]
  },
  {
   "cell_type": "code",
   "execution_count": 20,
   "metadata": {
    "colab": {
     "base_uri": "https://localhost:8080/",
     "height": 287
    },
    "colab_type": "code",
    "executionInfo": {
     "elapsed": 5,
     "status": "ok",
     "timestamp": 1556429238874,
     "user": {
      "displayName": "Valerie Shelgunova",
      "photoUrl": "https://lh5.googleusercontent.com/-i2CX_QSsamo/AAAAAAAAAAI/AAAAAAAAAB8/YRSVdMujpXw/s64/photo.jpg",
      "userId": "14712883095412086889"
     },
     "user_tz": -180
    },
    "id": "IulV6cpZ8Yzu",
    "outputId": "2b2f16a7-8534-4d47-9e29-7bc1b25cb4e6"
   },
   "outputs": [
    {
     "data": {
      "image/png": "[encoded data removed]",
      "text/plain": [
       "<Figure size 432x288 with 1 Axes>"
      ]
     },
     "metadata": {
      "tags": []
     },
     "output_type": "display_data"
    },
    {
     "data": {
      "text/plain": [
       "<keras.callbacks.History at 0x7f1016042978>"
      ]
     },
     "execution_count": 20,
     "metadata": {
      "tags": []
     },
     "output_type": "execute_result"
    }
   ],
   "source": [
    "\n",
    "firstModel.fit(np.array(trainX),np.array(trainY),epochs=10, callbacks=[plot_losses]) "
   ]
  },
  {
   "cell_type": "code",
   "execution_count": 21,
   "metadata": {
    "colab": {
     "base_uri": "https://localhost:8080/",
     "height": 195
    },
    "colab_type": "code",
    "executionInfo": {
     "elapsed": 621,
     "status": "ok",
     "timestamp": 1556429242238,
     "user": {
      "displayName": "Valerie Shelgunova",
      "photoUrl": "https://lh5.googleusercontent.com/-i2CX_QSsamo/AAAAAAAAAAI/AAAAAAAAAB8/YRSVdMujpXw/s64/photo.jpg",
      "userId": "14712883095412086889"
     },
     "user_tz": -180
    },
    "id": "x6RJ0FsH8Ynf",
    "outputId": "1cc30cf0-4572-49b0-9658-aef907d9770e"
   },
   "outputs": [
    {
     "name": "stdout",
     "output_type": "stream",
     "text": [
      "              precision    recall  f1-score   support\n",
      "\n",
      "           0       0.97      0.95      0.96      3443\n",
      "           1       0.33      0.02      0.04      1132\n",
      "           2       0.87      0.98      0.92      8384\n",
      "\n",
      "   micro avg       0.89      0.89      0.89     12959\n",
      "   macro avg       0.72      0.65      0.64     12959\n",
      "weighted avg       0.85      0.89      0.85     12959\n",
      "\n"
     ]
    }
   ],
   "source": [
    "classif_report(firstModel)"
   ]
  },
  {
   "cell_type": "markdown",
   "metadata": {
    "colab_type": "text",
    "id": "R0lqu0ngRhGH"
   },
   "source": [
    "Комменты к комментам не распознаются."
   ]
  },
  {
   "cell_type": "markdown",
   "metadata": {
    "colab_type": "text",
    "id": "p1fhEehndqi_"
   },
   "source": [
    "# 2"
   ]
  },
  {
   "cell_type": "code",
   "execution_count": 22,
   "metadata": {
    "colab": {
     "base_uri": "https://localhost:8080/",
     "height": 287
    },
    "colab_type": "code",
    "executionInfo": {
     "elapsed": 3,
     "status": "ok",
     "timestamp": 1556429306468,
     "user": {
      "displayName": "Valerie Shelgunova",
      "photoUrl": "https://lh5.googleusercontent.com/-i2CX_QSsamo/AAAAAAAAAAI/AAAAAAAAAB8/YRSVdMujpXw/s64/photo.jpg",
      "userId": "14712883095412086889"
     },
     "user_tz": -180
    },
    "id": "KkLdGc-j9znG",
    "outputId": "aba7d4a4-f346-4beb-f63f-12c6d9ff5915"
   },
   "outputs": [
    {
     "data": {
      "image/png": "[encoded data removed]",
      "text/plain": [
       "<Figure size 432x288 with 1 Axes>"
      ]
     },
     "metadata": {
      "tags": []
     },
     "output_type": "display_data"
    },
    {
     "data": {
      "text/plain": [
       "<keras.callbacks.History at 0x7f100e9b4e48>"
      ]
     },
     "execution_count": 22,
     "metadata": {
      "tags": []
     },
     "output_type": "execute_result"
    }
   ],
   "source": [
    "secondModel=getModel([12,50,50, 3])\n",
    "secondModel.fit(np.array(trainX),np.array(trainY),epochs=10,callbacks=[plot_losses]) "
   ]
  },
  {
   "cell_type": "code",
   "execution_count": 23,
   "metadata": {
    "colab": {
     "base_uri": "https://localhost:8080/",
     "height": 195
    },
    "colab_type": "code",
    "executionInfo": {
     "elapsed": 624,
     "status": "ok",
     "timestamp": 1556429413882,
     "user": {
      "displayName": "Valerie Shelgunova",
      "photoUrl": "https://lh5.googleusercontent.com/-i2CX_QSsamo/AAAAAAAAAAI/AAAAAAAAAB8/YRSVdMujpXw/s64/photo.jpg",
      "userId": "14712883095412086889"
     },
     "user_tz": -180
    },
    "id": "D2YLV6YPXtJf",
    "outputId": "2b5c7152-3012-45ba-d93c-8b32404e1751"
   },
   "outputs": [
    {
     "name": "stdout",
     "output_type": "stream",
     "text": [
      "              precision    recall  f1-score   support\n",
      "\n",
      "           0       0.95      0.97      0.96      3443\n",
      "           1       0.39      0.11      0.17      1132\n",
      "           2       0.88      0.96      0.92      8384\n",
      "\n",
      "   micro avg       0.89      0.89      0.89     12959\n",
      "   macro avg       0.74      0.68      0.68     12959\n",
      "weighted avg       0.86      0.89      0.86     12959\n",
      "\n"
     ]
    }
   ],
   "source": [
    "classif_report(secondModel)"
   ]
  },
  {
   "cell_type": "markdown",
   "metadata": {
    "colab_type": "text",
    "id": "Js02dxH7dkGK"
   },
   "source": [
    "# 3"
   ]
  },
  {
   "cell_type": "code",
   "execution_count": 0,
   "metadata": {
    "colab": {},
    "colab_type": "code",
    "id": "K4P4NlGA9zeN"
   },
   "outputs": [],
   "source": [
    "thirdModel=getModel([12,50,70,40,3])"
   ]
  },
  {
   "cell_type": "code",
   "execution_count": 25,
   "metadata": {
    "colab": {
     "base_uri": "https://localhost:8080/",
     "height": 287
    },
    "colab_type": "code",
    "executionInfo": {
     "elapsed": 3,
     "status": "ok",
     "timestamp": 1556429450888,
     "user": {
      "displayName": "Valerie Shelgunova",
      "photoUrl": "https://lh5.googleusercontent.com/-i2CX_QSsamo/AAAAAAAAAAI/AAAAAAAAAB8/YRSVdMujpXw/s64/photo.jpg",
      "userId": "14712883095412086889"
     },
     "user_tz": -180
    },
    "id": "HNJ6Xci99zYs",
    "outputId": "7383edab-8ce2-48a4-8ced-b0d37f2e2bac"
   },
   "outputs": [
    {
     "data": {
      "image/png": "[encoded data removed]",
      "text/plain": [
       "<Figure size 432x288 with 1 Axes>"
      ]
     },
     "metadata": {
      "tags": []
     },
     "output_type": "display_data"
    },
    {
     "data": {
      "text/plain": [
       "<keras.callbacks.History at 0x7f100e8f1b00>"
      ]
     },
     "execution_count": 25,
     "metadata": {
      "tags": []
     },
     "output_type": "execute_result"
    }
   ],
   "source": [
    "thirdModel.fit(np.array(trainX),np.array(trainY),epochs=5,callbacks=[plot_losses])"
   ]
  },
  {
   "cell_type": "code",
   "execution_count": 26,
   "metadata": {
    "colab": {
     "base_uri": "https://localhost:8080/",
     "height": 195
    },
    "colab_type": "code",
    "executionInfo": {
     "elapsed": 921,
     "status": "ok",
     "timestamp": 1556429460590,
     "user": {
      "displayName": "Valerie Shelgunova",
      "photoUrl": "https://lh5.googleusercontent.com/-i2CX_QSsamo/AAAAAAAAAAI/AAAAAAAAAB8/YRSVdMujpXw/s64/photo.jpg",
      "userId": "14712883095412086889"
     },
     "user_tz": -180
    },
    "id": "MozCcAsy9zR1",
    "outputId": "b8052ad4-dae5-4898-cb10-4673c711c063"
   },
   "outputs": [
    {
     "name": "stdout",
     "output_type": "stream",
     "text": [
      "              precision    recall  f1-score   support\n",
      "\n",
      "           0       0.98      0.93      0.95      3443\n",
      "           1       0.36      0.00      0.01      1132\n",
      "           2       0.86      0.99      0.92      8384\n",
      "\n",
      "   micro avg       0.89      0.89      0.89     12959\n",
      "   macro avg       0.73      0.64      0.63     12959\n",
      "weighted avg       0.85      0.89      0.85     12959\n",
      "\n"
     ]
    }
   ],
   "source": [
    "classif_report(thirdModel)"
   ]
  },
  {
   "cell_type": "markdown",
   "metadata": {
    "colab_type": "text",
    "id": "NSU4EtsNcEmN"
   },
   "source": [
    "От увеличения количества слоев ничего не улучшается. Попробую сделать много-много эпох)\n",
    "\n"
   ]
  },
  {
   "cell_type": "markdown",
   "metadata": {
    "colab_type": "text",
    "id": "jvlBRH6ceLhH"
   },
   "source": [
    "# 4"
   ]
  },
  {
   "cell_type": "code",
   "execution_count": 0,
   "metadata": {
    "colab": {},
    "colab_type": "code",
    "id": "GQlf1dFFemHB"
   },
   "outputs": [],
   "source": [
    "forthModel=getModel([12,10,10, 3])"
   ]
  },
  {
   "cell_type": "code",
   "execution_count": 0,
   "metadata": {
    "colab": {
     "base_uri": "https://localhost:8080/",
     "height": 287
    },
    "colab_type": "code",
    "executionInfo": {
     "elapsed": 8,
     "status": "ok",
     "timestamp": 1556367719416,
     "user": {
      "displayName": "Valerie Shelgunova",
      "photoUrl": "https://lh5.googleusercontent.com/-i2CX_QSsamo/AAAAAAAAAAI/AAAAAAAAAB8/YRSVdMujpXw/s64/photo.jpg",
      "userId": "14712883095412086889"
     },
     "user_tz": -180
    },
    "id": "NnkzYit4R0iG",
    "outputId": "0996eabe-a235-4a79-e2e5-a48603c9b9c9"
   },
   "outputs": [
    {
     "data": {
      "image/png": "[encoded data removed]",
      "text/plain": [
       "<Figure size 432x288 with 1 Axes>"
      ]
     },
     "metadata": {
      "tags": []
     },
     "output_type": "display_data"
    },
    {
     "data": {
      "text/plain": [
       "<keras.callbacks.History at 0x7fe200865320>"
      ]
     },
     "execution_count": 98,
     "metadata": {
      "tags": []
     },
     "output_type": "execute_result"
    }
   ],
   "source": [
    "forthModel.fit(np.array(trainX),np.array(trainY), epochs=1000,callbacks=[plot_losses])\n"
   ]
  },
  {
   "cell_type": "code",
   "execution_count": 0,
   "metadata": {
    "colab": {
     "base_uri": "https://localhost:8080/",
     "height": 250
    },
    "colab_type": "code",
    "executionInfo": {
     "elapsed": 1579976,
     "status": "ok",
     "timestamp": 1556367719685,
     "user": {
      "displayName": "Valerie Shelgunova",
      "photoUrl": "https://lh5.googleusercontent.com/-i2CX_QSsamo/AAAAAAAAAAI/AAAAAAAAAB8/YRSVdMujpXw/s64/photo.jpg",
      "userId": "14712883095412086889"
     },
     "user_tz": -180
    },
    "id": "g78nbIcqe44f",
    "outputId": "7c83ed64-fff3-4807-f5aa-e9eeff00541c"
   },
   "outputs": [
    {
     "name": "stdout",
     "output_type": "stream",
     "text": [
      "              precision    recall  f1-score   support\n",
      "\n",
      "           0       0.96      0.94      0.95      3443\n",
      "           1       0.00      0.00      0.00      1132\n",
      "           2       0.86      0.99      0.92      8384\n",
      "\n",
      "   micro avg       0.89      0.89      0.89     12959\n",
      "   macro avg       0.61      0.64      0.62     12959\n",
      "weighted avg       0.81      0.89      0.85     12959\n",
      "\n"
     ]
    },
    {
     "name": "stderr",
     "output_type": "stream",
     "text": [
      "/usr/local/lib/python3.6/dist-packages/sklearn/metrics/classification.py:1143: UndefinedMetricWarning: Precision and F-score are ill-defined and being set to 0.0 in labels with no predicted samples.\n",
      "  'precision', 'predicted', average, warn_for)\n"
     ]
    }
   ],
   "source": [
    "classif_report(forthModel)"
   ]
  },
  {
   "cell_type": "markdown",
   "metadata": {
    "colab_type": "text",
    "id": "h8lDJ4Y8jDB7"
   },
   "source": [
    "Я попробовала разное количество слоев и нейронов, и разное количество эпох, но не заметила от них какого-то эффекта.\n",
    "\n",
    "Попробую теперь веса."
   ]
  },
  {
   "cell_type": "markdown",
   "metadata": {
    "colab_type": "text",
    "id": "yoyLruUEceLK"
   },
   "source": [
    "## 5"
   ]
  },
  {
   "cell_type": "code",
   "execution_count": 0,
   "metadata": {
    "colab": {},
    "colab_type": "code",
    "id": "cwDYmU57cfqF"
   },
   "outputs": [],
   "source": [
    "fifthModel=getModel([12,50, 3])"
   ]
  },
  {
   "cell_type": "code",
   "execution_count": 0,
   "metadata": {
    "colab": {},
    "colab_type": "code",
    "id": "qMGWAWuqcpsw"
   },
   "outputs": [],
   "source": [
    "class_weights = class_weight.compute_class_weight('balanced',\n",
    "                                                 np.unique(trainY),\n",
    "                                                 trainY)"
   ]
  },
  {
   "cell_type": "code",
   "execution_count": 28,
   "metadata": {
    "colab": {
     "base_uri": "https://localhost:8080/",
     "height": 287
    },
    "colab_type": "code",
    "executionInfo": {
     "elapsed": 5,
     "status": "ok",
     "timestamp": 1556429716476,
     "user": {
      "displayName": "Valerie Shelgunova",
      "photoUrl": "https://lh5.googleusercontent.com/-i2CX_QSsamo/AAAAAAAAAAI/AAAAAAAAAB8/YRSVdMujpXw/s64/photo.jpg",
      "userId": "14712883095412086889"
     },
     "user_tz": -180
    },
    "id": "wwqQpeIocoJ5",
    "outputId": "518e678a-eac0-4bc2-9d8e-8aed1400e472"
   },
   "outputs": [
    {
     "data": {
      "image/png": "[encoded data removed]",
      "text/plain": [
       "<Figure size 432x288 with 1 Axes>"
      ]
     },
     "metadata": {
      "tags": []
     },
     "output_type": "display_data"
    },
    {
     "data": {
      "text/plain": [
       "<keras.callbacks.History at 0x7f100db7a6d8>"
      ]
     },
     "execution_count": 28,
     "metadata": {
      "tags": []
     },
     "output_type": "execute_result"
    }
   ],
   "source": [
    "fifthModel.fit(np.array(trainX),np.array(trainY),epochs=10, class_weight = {0:1.27977484, 1:3.8534047 , 2:0.510438}, callbacks=[plot_losses])"
   ]
  },
  {
   "cell_type": "code",
   "execution_count": 29,
   "metadata": {
    "colab": {
     "base_uri": "https://localhost:8080/",
     "height": 195
    },
    "colab_type": "code",
    "executionInfo": {
     "elapsed": 623,
     "status": "ok",
     "timestamp": 1556429725103,
     "user": {
      "displayName": "Valerie Shelgunova",
      "photoUrl": "https://lh5.googleusercontent.com/-i2CX_QSsamo/AAAAAAAAAAI/AAAAAAAAAB8/YRSVdMujpXw/s64/photo.jpg",
      "userId": "14712883095412086889"
     },
     "user_tz": -180
    },
    "id": "EwQMmQ4CcwPv",
    "outputId": "59a82dab-2949-4557-885a-483524d33971"
   },
   "outputs": [
    {
     "name": "stdout",
     "output_type": "stream",
     "text": [
      "              precision    recall  f1-score   support\n",
      "\n",
      "           0       0.93      0.98      0.96      3443\n",
      "           1       0.38      0.81      0.51      1132\n",
      "           2       0.96      0.79      0.87      8384\n",
      "\n",
      "   micro avg       0.84      0.84      0.84     12959\n",
      "   macro avg       0.76      0.86      0.78     12959\n",
      "weighted avg       0.90      0.84      0.86     12959\n",
      "\n"
     ]
    }
   ],
   "source": [
    "classif_report(fifthModel)"
   ]
  },
  {
   "cell_type": "markdown",
   "metadata": {
    "colab_type": "text",
    "id": "BRLmiNdrcPhD"
   },
   "source": [
    "Вот так гораздо лучше!"
   ]
  },
  {
   "cell_type": "markdown",
   "metadata": {
    "colab_type": "text",
    "id": "V67xF3aLfewC"
   },
   "source": [
    "Может, мне сначала нормализовать признаки?"
   ]
  },
  {
   "cell_type": "markdown",
   "metadata": {
    "colab_type": "text",
    "id": "TYdsbe6ocf7Y"
   },
   "source": [
    "## 6"
   ]
  },
  {
   "cell_type": "code",
   "execution_count": 0,
   "metadata": {
    "colab": {},
    "colab_type": "code",
    "id": "U1-YJPvGhcXN"
   },
   "outputs": [],
   "source": [
    "normalized_X = normalize(X)\n",
    "trainX_n, testX_n, trainY, testY = train_test_split(normalized_X, y, random_state=20)"
   ]
  },
  {
   "cell_type": "code",
   "execution_count": 0,
   "metadata": {
    "colab": {},
    "colab_type": "code",
    "id": "-3qqM4k9hcT0"
   },
   "outputs": [],
   "source": [
    "sixthModel=getModel([12,50,50,3])"
   ]
  },
  {
   "cell_type": "code",
   "execution_count": 39,
   "metadata": {
    "colab": {
     "base_uri": "https://localhost:8080/",
     "height": 287
    },
    "colab_type": "code",
    "executionInfo": {
     "elapsed": 4,
     "status": "ok",
     "timestamp": 1556430015219,
     "user": {
      "displayName": "Valerie Shelgunova",
      "photoUrl": "https://lh5.googleusercontent.com/-i2CX_QSsamo/AAAAAAAAAAI/AAAAAAAAAB8/YRSVdMujpXw/s64/photo.jpg",
      "userId": "14712883095412086889"
     },
     "user_tz": -180
    },
    "id": "i7lBGOqLhudI",
    "outputId": "bbccda14-c004-4698-8036-55df2755dbd9"
   },
   "outputs": [
    {
     "data": {
      "image/png": "[encoded data removed]",
      "text/plain": [
       "<Figure size 432x288 with 1 Axes>"
      ]
     },
     "metadata": {
      "tags": []
     },
     "output_type": "display_data"
    },
    {
     "data": {
      "text/plain": [
       "<keras.callbacks.History at 0x7f100e8fb780>"
      ]
     },
     "execution_count": 39,
     "metadata": {
      "tags": []
     },
     "output_type": "execute_result"
    }
   ],
   "source": [
    "sixthModel.fit(np.array(trainX_n),np.array(trainY),epochs=10,class_weight = {0:1.27977484, 1:3.8534047 , 2:0.510438},callbacks=[plot_losses])"
   ]
  },
  {
   "cell_type": "code",
   "execution_count": 0,
   "metadata": {
    "colab": {},
    "colab_type": "code",
    "id": "y6QZLB52iRGu"
   },
   "outputs": [],
   "source": [
    "def classif_report_n(current_model):\n",
    "    predY=current_model.predict(testX_n) \n",
    "    new_ar = []\n",
    "    for el in predY:\n",
    "        new_ar.append(np.argmax(el))\n",
    "    print(classification_report(testY, new_ar))"
   ]
  },
  {
   "cell_type": "code",
   "execution_count": 40,
   "metadata": {
    "colab": {
     "base_uri": "https://localhost:8080/",
     "height": 195
    },
    "colab_type": "code",
    "executionInfo": {
     "elapsed": 841,
     "status": "ok",
     "timestamp": 1556430022236,
     "user": {
      "displayName": "Valerie Shelgunova",
      "photoUrl": "https://lh5.googleusercontent.com/-i2CX_QSsamo/AAAAAAAAAAI/AAAAAAAAAB8/YRSVdMujpXw/s64/photo.jpg",
      "userId": "14712883095412086889"
     },
     "user_tz": -180
    },
    "id": "bh4_NQZliY5k",
    "outputId": "0181e4d6-9e45-4218-d546-3fef5a7db513"
   },
   "outputs": [
    {
     "name": "stdout",
     "output_type": "stream",
     "text": [
      "              precision    recall  f1-score   support\n",
      "\n",
      "           0       0.87      0.99      0.93      3443\n",
      "           1       0.36      0.79      0.50      1132\n",
      "           2       0.96      0.76      0.85      8384\n",
      "\n",
      "   micro avg       0.82      0.82      0.82     12959\n",
      "   macro avg       0.73      0.84      0.76     12959\n",
      "weighted avg       0.89      0.82      0.84     12959\n",
      "\n"
     ]
    }
   ],
   "source": [
    "classif_report_n(sixthModel)"
   ]
  },
  {
   "cell_type": "markdown",
   "metadata": {
    "colab_type": "text",
    "id": "HbO-jN1Plg7E"
   },
   "source": [
    "Результат как минимум не лучше, а пожалуй даже что и похуже."
   ]
  },
  {
   "cell_type": "markdown",
   "metadata": {
    "colab_type": "text",
    "id": "ynB1yx0DjGYP"
   },
   "source": [
    "Может, мне ограничить количество параметров?"
   ]
  },
  {
   "cell_type": "markdown",
   "metadata": {
    "colab_type": "text",
    "id": "g-Ld516wmkQH"
   },
   "source": [
    "## 7"
   ]
  },
  {
   "cell_type": "code",
   "execution_count": 0,
   "metadata": {
    "colab": {},
    "colab_type": "code",
    "id": "9ib3_6Wbl6bc"
   },
   "outputs": [],
   "source": [
    "# likes numbers_count latin_count\n",
    "X_small = dataset.filter(items = ['likes', 'numbers_count', 'latin_count', 'numbers%', 'latin%'])\n",
    "# X_small=dataset.drop([\"label\", 'text', 'len_char', 'tokens_count', 'smiles_count', 'smiles%', 'tokens%'],axis=1)"
   ]
  },
  {
   "cell_type": "code",
   "execution_count": 55,
   "metadata": {
    "colab": {
     "base_uri": "https://localhost:8080/",
     "height": 200
    },
    "colab_type": "code",
    "executionInfo": {
     "elapsed": 613,
     "status": "ok",
     "timestamp": 1556430357014,
     "user": {
      "displayName": "Valerie Shelgunova",
      "photoUrl": "https://lh5.googleusercontent.com/-i2CX_QSsamo/AAAAAAAAAAI/AAAAAAAAAB8/YRSVdMujpXw/s64/photo.jpg",
      "userId": "14712883095412086889"
     },
     "user_tz": -180
    },
    "id": "eGSMSOfIdxkL",
    "outputId": "1856b725-f5a2-4bcc-b054-317363a1f9fa"
   },
   "outputs": [
    {
     "data": {
      "text/html": [
       "<div>\n",
       "<style scoped>\n",
       "    .dataframe tbody tr th:only-of-type {\n",
       "        vertical-align: middle;\n",
       "    }\n",
       "\n",
       "    .dataframe tbody tr th {\n",
       "        vertical-align: top;\n",
       "    }\n",
       "\n",
       "    .dataframe thead th {\n",
       "        text-align: right;\n",
       "    }\n",
       "</style>\n",
       "<table border=\"1\" class=\"dataframe\">\n",
       "  <thead>\n",
       "    <tr style=\"text-align: right;\">\n",
       "      <th></th>\n",
       "      <th>likes</th>\n",
       "      <th>numbers_count</th>\n",
       "      <th>latin_count</th>\n",
       "      <th>numbers%</th>\n",
       "      <th>latin%</th>\n",
       "    </tr>\n",
       "  </thead>\n",
       "  <tbody>\n",
       "    <tr>\n",
       "      <th>0</th>\n",
       "      <td>17</td>\n",
       "      <td>23</td>\n",
       "      <td>116</td>\n",
       "      <td>0.045726</td>\n",
       "      <td>0.230616</td>\n",
       "    </tr>\n",
       "    <tr>\n",
       "      <th>1</th>\n",
       "      <td>34</td>\n",
       "      <td>0</td>\n",
       "      <td>49</td>\n",
       "      <td>0.000000</td>\n",
       "      <td>0.073244</td>\n",
       "    </tr>\n",
       "    <tr>\n",
       "      <th>2</th>\n",
       "      <td>0</td>\n",
       "      <td>0</td>\n",
       "      <td>0</td>\n",
       "      <td>0.000000</td>\n",
       "      <td>0.000000</td>\n",
       "    </tr>\n",
       "    <tr>\n",
       "      <th>3</th>\n",
       "      <td>0</td>\n",
       "      <td>8</td>\n",
       "      <td>2</td>\n",
       "      <td>0.142857</td>\n",
       "      <td>0.035714</td>\n",
       "    </tr>\n",
       "    <tr>\n",
       "      <th>4</th>\n",
       "      <td>0</td>\n",
       "      <td>127</td>\n",
       "      <td>332</td>\n",
       "      <td>0.184862</td>\n",
       "      <td>0.483261</td>\n",
       "    </tr>\n",
       "  </tbody>\n",
       "</table>\n",
       "</div>"
      ],
      "text/plain": [
       "   likes  numbers_count  latin_count  numbers%    latin%\n",
       "0     17             23          116  0.045726  0.230616\n",
       "1     34              0           49  0.000000  0.073244\n",
       "2      0              0            0  0.000000  0.000000\n",
       "3      0              8            2  0.142857  0.035714\n",
       "4      0            127          332  0.184862  0.483261"
      ]
     },
     "execution_count": 55,
     "metadata": {
      "tags": []
     },
     "output_type": "execute_result"
    }
   ],
   "source": [
    "X_small.head()"
   ]
  },
  {
   "cell_type": "code",
   "execution_count": 0,
   "metadata": {
    "colab": {},
    "colab_type": "code",
    "id": "M22iKbhsl6SA"
   },
   "outputs": [],
   "source": [
    "trainX_small, testX_small, trainY_small, testY_small = train_test_split(X_small, y, random_state=20)\n"
   ]
  },
  {
   "cell_type": "code",
   "execution_count": 0,
   "metadata": {
    "colab": {},
    "colab_type": "code",
    "id": "Ao3kkcfDl6KD"
   },
   "outputs": [],
   "source": [
    "seventhModel=getModel([5, 10, 10, 3])"
   ]
  },
  {
   "cell_type": "code",
   "execution_count": 59,
   "metadata": {
    "colab": {
     "base_uri": "https://localhost:8080/",
     "height": 287
    },
    "colab_type": "code",
    "executionInfo": {
     "elapsed": 6,
     "status": "ok",
     "timestamp": 1556430414879,
     "user": {
      "displayName": "Valerie Shelgunova",
      "photoUrl": "https://lh5.googleusercontent.com/-i2CX_QSsamo/AAAAAAAAAAI/AAAAAAAAAB8/YRSVdMujpXw/s64/photo.jpg",
      "userId": "14712883095412086889"
     },
     "user_tz": -180
    },
    "id": "0Y_4vM7rnJM7",
    "outputId": "933cd2f0-7559-49b0-fd8e-ffd2ed97ee89"
   },
   "outputs": [
    {
     "data": {
      "image/png": "[encoded data removed]",
      "text/plain": [
       "<Figure size 432x288 with 1 Axes>"
      ]
     },
     "metadata": {
      "tags": []
     },
     "output_type": "display_data"
    },
    {
     "data": {
      "text/plain": [
       "<keras.callbacks.History at 0x7f100dd54cf8>"
      ]
     },
     "execution_count": 59,
     "metadata": {
      "tags": []
     },
     "output_type": "execute_result"
    }
   ],
   "source": [
    "seventhModel.fit(np.array(trainX_small),np.array(trainY_small), class_weight = {0:1.27977484, 1:3.8534047 , 2:0.510438},epochs=20,callbacks=[plot_losses])"
   ]
  },
  {
   "cell_type": "code",
   "execution_count": 0,
   "metadata": {
    "colab": {},
    "colab_type": "code",
    "id": "4dvFkLunnkU1"
   },
   "outputs": [],
   "source": [
    "def classif_report_small(current_model):\n",
    "    predY=current_model.predict(testX_small) \n",
    "    new_ar = []\n",
    "    for el in predY:\n",
    "        new_ar.append(np.argmax(el))\n",
    "    print(classification_report(testY_small, new_ar))"
   ]
  },
  {
   "cell_type": "code",
   "execution_count": 60,
   "metadata": {
    "colab": {
     "base_uri": "https://localhost:8080/",
     "height": 195
    },
    "colab_type": "code",
    "executionInfo": {
     "elapsed": 768,
     "status": "ok",
     "timestamp": 1556430425418,
     "user": {
      "displayName": "Valerie Shelgunova",
      "photoUrl": "https://lh5.googleusercontent.com/-i2CX_QSsamo/AAAAAAAAAAI/AAAAAAAAAB8/YRSVdMujpXw/s64/photo.jpg",
      "userId": "14712883095412086889"
     },
     "user_tz": -180
    },
    "id": "UPIRAs1FngGY",
    "outputId": "9a05da5d-9273-404c-e52e-7fae2edb2915"
   },
   "outputs": [
    {
     "name": "stdout",
     "output_type": "stream",
     "text": [
      "              precision    recall  f1-score   support\n",
      "\n",
      "           0       0.95      0.96      0.96      3443\n",
      "           1       0.38      0.81      0.52      1132\n",
      "           2       0.95      0.80      0.87      8384\n",
      "\n",
      "   micro avg       0.85      0.85      0.85     12959\n",
      "   macro avg       0.76      0.86      0.78     12959\n",
      "weighted avg       0.90      0.85      0.86     12959\n",
      "\n"
     ]
    }
   ],
   "source": [
    "classif_report_small(seventhModel)"
   ]
  },
  {
   "cell_type": "markdown",
   "metadata": {
    "colab_type": "text",
    "id": "5G8EMYcZe7SS"
   },
   "source": [
    "C уменьшением количества признаков результат лучше не стал, но в целом с весами классификация идет очень хорошо!"
   ]
  }
 ],
 "metadata": {
  "colab": {
   "collapsed_sections": [],
   "name": "Keras1.ipynb",
   "provenance": [],
   "toc_visible": true,
   "version": "0.3.2"
  },
  "kernelspec": {
   "display_name": "Python 3",
   "language": "python",
   "name": "python3"
  },
  "language_info": {
   "codemirror_mode": {
    "name": "ipython",
    "version": 3
   },
   "file_extension": ".py",
   "mimetype": "text/x-python",
   "name": "python",
   "nbconvert_exporter": "python",
   "pygments_lexer": "ipython3",
   "version": "3.7.0"
  }
 },
 "nbformat": 4,
 "nbformat_minor": 1
}
